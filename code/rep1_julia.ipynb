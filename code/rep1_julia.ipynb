{
 "cells": [
  {
   "cell_type": "markdown",
   "metadata": {},
   "source": [
    "# Replication with Julia from Jupyter\n",
    "### Matt Ingram\n",
    "### University at Albany, SUNY\n",
    "# Replication 1: Lacina (2006)\n",
    "### __Computing Tools__: Julia and markdown in JupyterHub\n",
    "### __Subject fields__: political science, international relations, civil war, political violence, conflict studies, peace science\n",
    "### __Methods topics__: data management, descriptive statistics, histograms, OLS"
   ]
  },
  {
   "cell_type": "markdown",
   "metadata": {},
   "source": [
    "# Introduction"
   ]
  },
  {
   "cell_type": "markdown",
   "metadata": {},
   "source": [
    "This notebook documents a replication of Lacina (2006) in Julia from within the Jypyter platform. \n",
    "\n",
    "Julia can run natively in Jupyter using the IJulia kernel. That is, in contrast to using Stata, where a notebook opens with Python running natively and Stata must be called within each cell that uses Stata (by using cell magic, %%stata), users can run a notebook like this one with Julia running natively. Julia does not need to be called within each cell.\n",
    "\n",
    "For more information on IJulia kernel, see: https://github.com/JuliaLang/IJulia.jl\n",
    "\n",
    "To use Julia, Julia would ideally be installed on the server site-wide. However, we have had some difficulties with that, so in the interim Julia should be installed locally. That is, the IJulia package needs to be added.\n",
    "\n",
    "To do this, open a terminal window from Jupyter (use pull-down menu at top-right of home Jupyter page), and call Julia by typing __julia__ at the __$__ prompt:\n",
    "\n",
    "$julia\n",
    "\n",
    "Then, within Julia, type the following at the __julia>__ prompt:\n",
    "\n",
    "julia> using Pkg  \n",
    "julia> Pkg.add(\"IJulia\")\n",
    "\n",
    "I am using JupyterHub and JupyterLab. JupyterHub is a server-based version of Jupyter that allows central installation of software and multiple users. In academic settings, the advantages are:\n",
    "- shared resources to avoid duplication and enhance collaboration\n",
    "- secure sign-on with instiutional IDs and passwords\n",
    "- remote computing\n",
    "- extensions to use JupyterHub as a learning management system, including assigmment management\n",
    "\n",
    "JupyterLab is an interface that mimics features of an integrated development environment (IDE), allowing multiple notebooks to be opened at once, side by side, while at the same time being able to view directory, pull-down menus, etc.\n",
    "\n",
    "For more information on Jupyter, see: http://jupyter.org/\n",
    "\n",
    "For more information on JupyterHub, see: https://github.com/jupyterhub/jupyterhub\n",
    "\n",
    "For more information on JupyterLab, see: https://github.com/jupyterlab/jupyterlab"
   ]
  },
  {
   "cell_type": "markdown",
   "metadata": {},
   "source": [
    "# Set Environment"
   ]
  },
  {
   "cell_type": "markdown",
   "metadata": {},
   "source": [
    "## Install packages"
   ]
  },
  {
   "cell_type": "markdown",
   "metadata": {},
   "source": [
    "### Commands\n",
    "- _Pkg.add_ installs the package\n",
    "\n",
    "- _using_ opens an installed package\n",
    "\n",
    "Start by opening the _Pkg_ package which is our package manager that allows us to install other packages. "
   ]
  },
  {
   "cell_type": "code",
   "execution_count": 30,
   "metadata": {},
   "outputs": [],
   "source": [
    "using Pkg"
   ]
  },
  {
   "cell_type": "code",
   "execution_count": 31,
   "metadata": {},
   "outputs": [
    {
     "name": "stdout",
     "output_type": "stream",
     "text": [
      "\u001b[32m\u001b[1m Resolving\u001b[22m\u001b[39m package versions...\n",
      "\u001b[32m\u001b[1m  Updating\u001b[22m\u001b[39m `~/.julia/environments/v1.0/Project.toml`\n",
      "\u001b[90m [no changes]\u001b[39m\n",
      "\u001b[32m\u001b[1m  Updating\u001b[22m\u001b[39m `~/.julia/environments/v1.0/Manifest.toml`\n",
      "\u001b[90m [no changes]\u001b[39m\n",
      "\u001b[32m\u001b[1m  Building\u001b[22m\u001b[39m Conda ─→ `~/.julia/packages/Conda/uQitS/deps/build.log`\n",
      "\u001b[32m\u001b[1m  Building\u001b[22m\u001b[39m PyCall → `~/.julia/packages/PyCall/0jMpb/deps/build.log`\n",
      "\u001b[32m\u001b[1m Resolving\u001b[22m\u001b[39m package versions...\n",
      "\u001b[32m\u001b[1m  Updating\u001b[22m\u001b[39m `~/.julia/environments/v1.0/Project.toml`\n",
      "\u001b[90m [no changes]\u001b[39m\n",
      "\u001b[32m\u001b[1m  Updating\u001b[22m\u001b[39m `~/.julia/environments/v1.0/Manifest.toml`\n",
      "\u001b[90m [no changes]\u001b[39m\n",
      "\u001b[32m\u001b[1m Resolving\u001b[22m\u001b[39m package versions...\n",
      "\u001b[32m\u001b[1m  Updating\u001b[22m\u001b[39m `~/.julia/environments/v1.0/Project.toml`\n",
      "\u001b[90m [no changes]\u001b[39m\n",
      "\u001b[32m\u001b[1m  Updating\u001b[22m\u001b[39m `~/.julia/environments/v1.0/Manifest.toml`\n",
      "\u001b[90m [no changes]\u001b[39m\n",
      "\u001b[32m\u001b[1m Resolving\u001b[22m\u001b[39m package versions...\n",
      "\u001b[32m\u001b[1m  Updating\u001b[22m\u001b[39m `~/.julia/environments/v1.0/Project.toml`\n",
      "\u001b[90m [no changes]\u001b[39m\n",
      "\u001b[32m\u001b[1m  Updating\u001b[22m\u001b[39m `~/.julia/environments/v1.0/Manifest.toml`\n",
      "\u001b[90m [no changes]\u001b[39m\n",
      "\u001b[32m\u001b[1m Resolving\u001b[22m\u001b[39m package versions...\n",
      "\u001b[32m\u001b[1m  Updating\u001b[22m\u001b[39m `~/.julia/environments/v1.0/Project.toml`\n",
      "\u001b[90m [no changes]\u001b[39m\n",
      "\u001b[32m\u001b[1m  Updating\u001b[22m\u001b[39m `~/.julia/environments/v1.0/Manifest.toml`\n",
      "\u001b[90m [no changes]\u001b[39m\n",
      "\u001b[32m\u001b[1m Resolving\u001b[22m\u001b[39m package versions...\n",
      "\u001b[32m\u001b[1m  Updating\u001b[22m\u001b[39m `~/.julia/environments/v1.0/Project.toml`\n",
      "\u001b[90m [no changes]\u001b[39m\n",
      "\u001b[32m\u001b[1m  Updating\u001b[22m\u001b[39m `~/.julia/environments/v1.0/Manifest.toml`\n",
      "\u001b[90m [no changes]\u001b[39m\n",
      "\u001b[32m\u001b[1m Resolving\u001b[22m\u001b[39m package versions...\n",
      "\u001b[32m\u001b[1m  Updating\u001b[22m\u001b[39m `~/.julia/environments/v1.0/Project.toml`\n",
      "\u001b[90m [no changes]\u001b[39m\n",
      "\u001b[32m\u001b[1m  Updating\u001b[22m\u001b[39m `~/.julia/environments/v1.0/Manifest.toml`\n",
      "\u001b[90m [no changes]\u001b[39m\n"
     ]
    }
   ],
   "source": [
    "Pkg.add(\"GLM\")\n",
    "#Pkg.add(\"GLMNet\")\n",
    "ENV[\"PYTHON\"]=\"/opt/apps/miniconda3/bin/python\" # tells IJulia where python3 is located; this if for package PyPlot\n",
    "Pkg.build(\"PyCall\") # rebuilds call to python; this if for package PyPlot\n",
    "Pkg.add(\"PyPlot\")\n",
    "Pkg.add(\"CSV\")\n",
    "Pkg.add(\"HTTP\")\n",
    "Pkg.add(\"DelimitedFiles\")\n",
    "# JuliaStats packages, from http://juliastats.github.io/\n",
    "Pkg.add(\"StatsModels\")\n",
    "#Pkg.add(\"MultivariateStats\")\n",
    "#Pkg.add(\"DataFrames\")\n",
    "Pkg.add(\"StatsKit\") # loads several packages associated with JuliaStats, including DataFrames and MultivariateStats"
   ]
  },
  {
   "cell_type": "markdown",
   "metadata": {},
   "source": [
    "## Open installed packages"
   ]
  },
  {
   "cell_type": "code",
   "execution_count": null,
   "metadata": {},
   "outputs": [],
   "source": [
    "using CSV, HTTP, DelimitedFiles, Plots, StatsBase #, MultivariateStats, GLM, StatsModels, PyPlot\n",
    "# consider GLMNet\n",
    "#= \n",
    "loads packages\n",
    "=#"
   ]
  },
  {
   "cell_type": "markdown",
   "metadata": {},
   "source": [
    "# Set Working Directory"
   ]
  },
  {
   "cell_type": "code",
   "execution_count": null,
   "metadata": {},
   "outputs": [],
   "source": [
    "pwd()"
   ]
  },
  {
   "cell_type": "code",
   "execution_count": null,
   "metadata": {},
   "outputs": [],
   "source": [
    "path = '/home/joyvan')\n",
    "cd(path)"
   ]
  },
  {
   "cell_type": "code",
   "execution_count": 6,
   "metadata": {
    "scrolled": true
   },
   "outputs": [
    {
     "data": {
      "text/plain": [
       "\"/home/jovyan\""
      ]
     },
     "execution_count": 6,
     "metadata": {},
     "output_type": "execute_result"
    }
   ],
   "source": [
    "pwd()"
   ]
  },
  {
   "cell_type": "code",
   "execution_count": 5,
   "metadata": {},
   "outputs": [
    {
     "data": {
      "text/plain": [
       "12-element Array{String,1}:\n",
       " \".bash_logout\"\n",
       " \".bashrc\"\n",
       " \".cache\"\n",
       " \".config\"\n",
       " \".git\"\n",
       " \".ipynb_checkpoints\"\n",
       " \".profile\"\n",
       " \"Manifest.toml\"\n",
       " \"Project.toml\"\n",
       " \"README.md\"\n",
       " \"data\"\n",
       " \"rep1_julia.ipynb\""
      ]
     },
     "execution_count": 5,
     "metadata": {},
     "output_type": "execute_result"
    }
   ],
   "source": [
    "readdir()"
   ]
  },
  {
   "cell_type": "markdown",
   "metadata": {},
   "source": [
    "## Create Sub-directories"
   ]
  },
  {
   "cell_type": "code",
   "execution_count": 9,
   "metadata": {},
   "outputs": [
    {
     "ename": "SystemError",
     "evalue": "SystemError (with ./julia): mkdir: File exists",
     "output_type": "error",
     "traceback": [
      "SystemError (with ./julia): mkdir: File exists",
      "",
      "Stacktrace:",
      " [1] #systemerror#39(::String, ::Function, ::Symbol, ::Bool) at ./error.jl:106",
      " [2] #systemerror at ./none:0 [inlined]",
      " [3] #mkdir#7(::UInt16, ::Function, ::String) at ./file.jl:167",
      " [4] mkdir(::String) at ./file.jl:162",
      " [5] top-level scope at In[9]:1"
     ]
    }
   ],
   "source": [
    "mkdir(\"./julia\")\n",
    "# if already exist, will print error"
   ]
  },
  {
   "cell_type": "code",
   "execution_count": 9,
   "metadata": {},
   "outputs": [
    {
     "ename": "SystemError",
     "evalue": "SystemError (with ./julia): mkdir: File exists",
     "output_type": "error",
     "traceback": [
      "SystemError (with ./julia): mkdir: File exists",
      "",
      "Stacktrace:",
      " [1] #systemerror#39(::String, ::Function, ::Symbol, ::Bool) at ./error.jl:106",
      " [2] #systemerror at ./none:0 [inlined]",
      " [3] #mkdir#7(::UInt16, ::Function, ::String) at ./file.jl:167",
      " [4] mkdir(::String) at ./file.jl:162",
      " [5] top-level scope at In[9]:1"
     ]
    }
   ],
   "source": [
    "mkdir(\"./code\")\n",
    "# if already exist, will print error"
   ]
  },
  {
   "cell_type": "code",
   "execution_count": 9,
   "metadata": {},
   "outputs": [
    {
     "ename": "SystemError",
     "evalue": "SystemError (with ./julia): mkdir: File exists",
     "output_type": "error",
     "traceback": [
      "SystemError (with ./julia): mkdir: File exists",
      "",
      "Stacktrace:",
      " [1] #systemerror#39(::String, ::Function, ::Symbol, ::Bool) at ./error.jl:106",
      " [2] #systemerror at ./none:0 [inlined]",
      " [3] #mkdir#7(::UInt16, ::Function, ::String) at ./file.jl:167",
      " [4] mkdir(::String) at ./file.jl:162",
      " [5] top-level scope at In[9]:1"
     ]
    }
   ],
   "source": [
    "mkdir(\"./tables\")\n",
    "# if already exist, will print error"
   ]
  },
  {
   "cell_type": "code",
   "execution_count": 9,
   "metadata": {},
   "outputs": [
    {
     "ename": "SystemError",
     "evalue": "SystemError (with ./julia): mkdir: File exists",
     "output_type": "error",
     "traceback": [
      "SystemError (with ./julia): mkdir: File exists",
      "",
      "Stacktrace:",
      " [1] #systemerror#39(::String, ::Function, ::Symbol, ::Bool) at ./error.jl:106",
      " [2] #systemerror at ./none:0 [inlined]",
      " [3] #mkdir#7(::UInt16, ::Function, ::String) at ./file.jl:167",
      " [4] mkdir(::String) at ./file.jl:162",
      " [5] top-level scope at In[9]:1"
     ]
    }
   ],
   "source": [
    "mkdir(\"./figures\")\n",
    "# if already exist, will print error"
   ]
  },
  {
   "cell_type": "markdown",
   "metadata": {},
   "source": [
    "# Load Data"
   ]
  },
  {
   "cell_type": "code",
   "execution_count": 10,
   "metadata": {},
   "outputs": [
    {
     "data": {
      "text/plain": [
       "2806-element CSV.File{false}:\n",
       " CSV.Row: (id = 1, senator_party = \"Democrat\", condition = 2, pid7 = \"Strong Republican\", pre_sexism_1 = \"Agree strongly\", pre_sexism_2 = \"Disagree strongly\", pre_sexism_3 = \"Disagree somewhat\", pre_sexism_4 = \"Agree strongly\", pre_favorability = 5, pre_vote = 3, gender = \"Man\", age = \"25-34\", newsinterest = \"Most of the time\", post_favorability = 5, post_vote = 7, punishment_1 = \"Neither disagree nor agree\", punishment_2 = \"Agree somewhat\", punishment_3 = \"Disagree somewhat\", punishment_4 = \"Disagree somewhat\", punishment_5 = \"Disagree strongly\", post_sexism_1 = \"Disagree strongly\", post_sexism_2 = \"Disagree strongly\", post_sexism_3 = \"Disagree strongly\", post_sexism_4 = \"Disagree strongly\")\n",
       " CSV.Row: (id = 2, senator_party = \"Republican\", condition = 2, pid7 = \"Not very strong Democrat\", pre_sexism_1 = \"Disagree somewhat\", pre_sexism_2 = \"Agree somewhat\", pre_sexism_3 = \"Neither disagree nor agree\", pre_sexism_4 = \"Disagree somewhat\", pre_favorability = 5, pre_vote = 3, gender = \"Man\", age = \"18-24\", newsinterest = \"Don't know\", post_favorability = 2, post_vote = 2, punishment_1 = \"Disagree somewhat\", punishment_2 = \"Neither disagree nor agree\", punishment_3 = \"Disagree somewhat\", punishment_4 = \"Agree somewhat\", punishment_5 = \"Neither disagree nor agree\", post_sexism_1 = \"Neither disagree nor agree\", post_sexism_2 = \"Agree somewhat\", post_sexism_3 = \"Neither disagree nor agree\", post_sexism_4 = \"Neither disagree nor agree\")\n",
       " CSV.Row: (id = 3, senator_party = \"Republican\", condition = 2, pid7 = \"Strong Democrat\", pre_sexism_1 = \"Disagree strongly\", pre_sexism_2 = \"Neither disagree nor agree\", pre_sexism_3 = \"Neither disagree nor agree\", pre_sexism_4 = \"Disagree strongly\", pre_favorability = 5, pre_vote = 2, gender = \"Man\", age = \"18-24\", newsinterest = \"Some of the time\", post_favorability = 2, post_vote = 2, punishment_1 = \"Disagree strongly\", punishment_2 = \"Agree strongly\", punishment_3 = \"Disagree strongly\", punishment_4 = \"Agree strongly\", punishment_5 = \"Neither disagree nor agree\", post_sexism_1 = \"Disagree strongly\", post_sexism_2 = \"Disagree strongly\", post_sexism_3 = \"Disagree somewhat\", post_sexism_4 = \"Disagree strongly\")\n",
       " CSV.Row: (id = 4, senator_party = \"Republican\", condition = 1, pid7 = \"Independent\", pre_sexism_1 = \"Agree somewhat\", pre_sexism_2 = \"Neither disagree nor agree\", pre_sexism_3 = \"Neither disagree nor agree\", pre_sexism_4 = \"Neither disagree nor agree\", pre_favorability = 7, pre_vote = 6, gender = \"Man\", age = \"18-24\", newsinterest = \"Most of the time\", post_favorability = 5, post_vote = 7, punishment_1 = \"Neither disagree nor agree\", punishment_2 = \"Agree somewhat\", punishment_3 = \"Neither disagree nor agree\", punishment_4 = \"Disagree somewhat\", punishment_5 = \"Neither disagree nor agree\", post_sexism_1 = \"Agree somewhat\", post_sexism_2 = \"Agree somewhat\", post_sexism_3 = \"Disagree strongly\", post_sexism_4 = \"Neither disagree nor agree\")\n",
       " CSV.Row: (id = 5, senator_party = \"Democrat\", condition = 3, pid7 = \"Strong Democrat\", pre_sexism_1 = \"Disagree strongly\", pre_sexism_2 = \"Disagree strongly\", pre_sexism_3 = \"Agree strongly\", pre_sexism_4 = \"Disagree strongly\", pre_favorability = 6, pre_vote = 8, gender = \"Woman\", age = \"25-34\", newsinterest = \"Most of the time\", post_favorability = 7, post_vote = 8, punishment_1 = missing, punishment_2 = missing, punishment_3 = missing, punishment_4 = missing, punishment_5 = missing, post_sexism_1 = \"Disagree strongly\", post_sexism_2 = \"Disagree strongly\", post_sexism_3 = \"Agree strongly\", post_sexism_4 = \"Disagree strongly\")\n",
       " CSV.Row: (id = 6, senator_party = \"Republican\", condition = 2, pid7 = \"Lean Republican\", pre_sexism_1 = \"Neither disagree nor agree\", pre_sexism_2 = \"Disagree somewhat\", pre_sexism_3 = \"Neither disagree nor agree\", pre_sexism_4 = \"Agree somewhat\", pre_favorability = 7, pre_vote = 4, gender = \"Woman\", age = \"25-34\", newsinterest = \"Most of the time\", post_favorability = 6, post_vote = 4, punishment_1 = \"Disagree somewhat\", punishment_2 = \"Neither disagree nor agree\", punishment_3 = \"Disagree strongly\", punishment_4 = \"Disagree somewhat\", punishment_5 = \"Agree somewhat\", post_sexism_1 = \"Disagree somewhat\", post_sexism_2 = \"Neither disagree nor agree\", post_sexism_3 = \"Neither disagree nor agree\", post_sexism_4 = \"Agree somewhat\")\n",
       " CSV.Row: (id = 7, senator_party = \"Republican\", condition = 3, pid7 = \"Strong Democrat\", pre_sexism_1 = \"Neither disagree nor agree\", pre_sexism_2 = \"Neither disagree nor agree\", pre_sexism_3 = \"Agree somewhat\", pre_sexism_4 = \"Agree somewhat\", pre_favorability = 7, pre_vote = 6, gender = \"Man\", age = \"25-34\", newsinterest = \"Some of the time\", post_favorability = 6, post_vote = 8, punishment_1 = missing, punishment_2 = missing, punishment_3 = missing, punishment_4 = missing, punishment_5 = missing, post_sexism_1 = \"Neither disagree nor agree\", post_sexism_2 = \"Agree somewhat\", post_sexism_3 = \"Agree somewhat\", post_sexism_4 = \"Agree somewhat\")\n",
       " CSV.Row: (id = 8, senator_party = \"Republican\", condition = 3, pid7 = \"Not very strong Republican\", pre_sexism_1 = \"Agree strongly\", pre_sexism_2 = \"Agree strongly\", pre_sexism_3 = \"Agree strongly\", pre_sexism_4 = \"Agree strongly\", pre_favorability = 10, pre_vote = 10, gender = \"Woman\", age = \"25-34\", newsinterest = \"Most of the time\", post_favorability = 10, post_vote = 10, punishment_1 = missing, punishment_2 = missing, punishment_3 = missing, punishment_4 = missing, punishment_5 = missing, post_sexism_1 = \"Agree strongly\", post_sexism_2 = \"Agree strongly\", post_sexism_3 = \"Agree strongly\", post_sexism_4 = \"Agree strongly\")\n",
       " CSV.Row: (id = 9, senator_party = \"Democrat\", condition = 2, pid7 = \"Not very strong Democrat\", pre_sexism_1 = \"Disagree strongly\", pre_sexism_2 = \"Disagree strongly\", pre_sexism_3 = \"Agree strongly\", pre_sexism_4 = \"Disagree strongly\", pre_favorability = 10, pre_vote = 10, gender = \"Man\", age = \"25-34\", newsinterest = \"Most of the time\", post_favorability = 5, post_vote = 6, punishment_1 = \"Agree somewhat\", punishment_2 = \"Disagree somewhat\", punishment_3 = \"Neither disagree nor agree\", punishment_4 = \"Disagree somewhat\", punishment_5 = \"Neither disagree nor agree\", post_sexism_1 = \"Disagree strongly\", post_sexism_2 = \"Disagree strongly\", post_sexism_3 = \"Agree strongly\", post_sexism_4 = \"Disagree strongly\")\n",
       " CSV.Row: (id = 10, senator_party = \"Democrat\", condition = 3, pid7 = \"Strong Democrat\", pre_sexism_1 = \"Disagree strongly\", pre_sexism_2 = \"Disagree somewhat\", pre_sexism_3 = \"Agree somewhat\", pre_sexism_4 = \"Disagree strongly\", pre_favorability = 8, pre_vote = 9, gender = \"Man\", age = \"18-24\", newsinterest = \"Most of the time\", post_favorability = 7, post_vote = 7, punishment_1 = missing, punishment_2 = missing, punishment_3 = missing, punishment_4 = missing, punishment_5 = missing, post_sexism_1 = \"Disagree strongly\", post_sexism_2 = \"Disagree strongly\", post_sexism_3 = \"Agree somewhat\", post_sexism_4 = \"Disagree strongly\")\n",
       " CSV.Row: (id = 11, senator_party = \"Republican\", condition = 3, pid7 = \"Strong Democrat\", pre_sexism_1 = \"Disagree strongly\", pre_sexism_2 = \"Disagree strongly\", pre_sexism_3 = \"Disagree strongly\", pre_sexism_4 = \"Disagree strongly\", pre_favorability = 5, pre_vote = 5, gender = \"Man\", age = \"25-34\", newsinterest = \"Most of the time\", post_favorability = 5, post_vote = 5, punishment_1 = missing, punishment_2 = missing, punishment_3 = missing, punishment_4 = missing, punishment_5 = missing, post_sexism_1 = \"Disagree strongly\", post_sexism_2 = \"Disagree strongly\", post_sexism_3 = \"Disagree strongly\", post_sexism_4 = \"Disagree strongly\")\n",
       " CSV.Row: (id = 12, senator_party = \"Republican\", condition = 1, pid7 = \"Not very strong Democrat\", pre_sexism_1 = \"Agree somewhat\", pre_sexism_2 = \"Agree strongly\", pre_sexism_3 = \"Disagree somewhat\", pre_sexism_4 = \"Agree somewhat\", pre_favorability = 3, pre_vote = 2, gender = \"Man\", age = \"25-34\", newsinterest = \"Only now and then\", post_favorability = 1, post_vote = 1, punishment_1 = \"Disagree somewhat\", punishment_2 = \"Agree somewhat\", punishment_3 = \"Agree somewhat\", punishment_4 = \"Agree strongly\", punishment_5 = \"Disagree somewhat\", post_sexism_1 = \"Agree somewhat\", post_sexism_2 = \"Agree somewhat\", post_sexism_3 = \"Disagree somewhat\", post_sexism_4 = \"Agree somewhat\")\n",
       " CSV.Row: (id = 13, senator_party = \"Republican\", condition = 1, pid7 = \"Independent\", pre_sexism_1 = \"Agree somewhat\", pre_sexism_2 = \"Disagree somewhat\", pre_sexism_3 = \"Neither disagree nor agree\", pre_sexism_4 = \"Neither disagree nor agree\", pre_favorability = 6, pre_vote = 6, gender = \"Man\", age = \"25-34\", newsinterest = \"Most of the time\", post_favorability = 6, post_vote = 6, punishment_1 = \"Neither disagree nor agree\", punishment_2 = \"Agree somewhat\", punishment_3 = \"Neither disagree nor agree\", punishment_4 = \"Neither disagree nor agree\", punishment_5 = \"Agree somewhat\", post_sexism_1 = \"Agree somewhat\", post_sexism_2 = \"Agree somewhat\", post_sexism_3 = \"Neither disagree nor agree\", post_sexism_4 = \"Agree somewhat\")\n",
       " ⋮\n",
       " CSV.Row: (id = 2796, senator_party = \"Republican\", condition = 1, pid7 = \"Independent\", pre_sexism_1 = \"Agree somewhat\", pre_sexism_2 = \"Agree somewhat\", pre_sexism_3 = \"Disagree somewhat\", pre_sexism_4 = \"Neither disagree nor agree\", pre_favorability = 5, pre_vote = 6, gender = \"Man\", age = \"25-34\", newsinterest = \"Hardly at all\", post_favorability = 6, post_vote = 7, punishment_1 = \"Agree somewhat\", punishment_2 = \"Disagree somewhat\", punishment_3 = \"Agree strongly\", punishment_4 = \"Disagree somewhat\", punishment_5 = \"Neither disagree nor agree\", post_sexism_1 = \"Agree somewhat\", post_sexism_2 = \"Agree somewhat\", post_sexism_3 = \"Disagree somewhat\", post_sexism_4 = \"Agree somewhat\")\n",
       " CSV.Row: (id = 2797, senator_party = \"Republican\", condition = 2, pid7 = \"Strong Democrat\", pre_sexism_1 = \"Disagree strongly\", pre_sexism_2 = \"Disagree strongly\", pre_sexism_3 = \"Neither disagree nor agree\", pre_sexism_4 = \"Disagree strongly\", pre_favorability = 7, pre_vote = 5, gender = \"Woman\", age = \"35-44\", newsinterest = \"Most of the time\", post_favorability = 5, post_vote = 2, punishment_1 = \"Neither disagree nor agree\", punishment_2 = \"Neither disagree nor agree\", punishment_3 = \"Disagree strongly\", punishment_4 = \"Neither disagree nor agree\", punishment_5 = \"Neither disagree nor agree\", post_sexism_1 = \"Disagree strongly\", post_sexism_2 = \"Disagree strongly\", post_sexism_3 = \"Agree strongly\", post_sexism_4 = \"Disagree strongly\")\n",
       " CSV.Row: (id = 2798, senator_party = \"Republican\", condition = 2, pid7 = \"Strong Republican\", pre_sexism_1 = \"Agree somewhat\", pre_sexism_2 = \"Neither disagree nor agree\", pre_sexism_3 = \"Agree strongly\", pre_sexism_4 = \"Disagree somewhat\", pre_favorability = 7, pre_vote = 9, gender = \"Man\", age = \"35-44\", newsinterest = \"Some of the time\", post_favorability = 7, post_vote = 9, punishment_1 = \"Agree strongly\", punishment_2 = \"Disagree strongly\", punishment_3 = \"Neither disagree nor agree\", punishment_4 = \"Disagree strongly\", punishment_5 = \"Disagree strongly\", post_sexism_1 = \"Agree somewhat\", post_sexism_2 = \"Neither disagree nor agree\", post_sexism_3 = \"Agree strongly\", post_sexism_4 = \"Disagree somewhat\")\n",
       " CSV.Row: (id = 2799, senator_party = \"Democrat\", condition = 3, pid7 = \"Independent\", pre_sexism_1 = \"Neither disagree nor agree\", pre_sexism_2 = \"Neither disagree nor agree\", pre_sexism_3 = \"Agree strongly\", pre_sexism_4 = \"Disagree somewhat\", pre_favorability = 9, pre_vote = 10, gender = \"Woman\", age = \"45-54\", newsinterest = \"Most of the time\", post_favorability = 10, post_vote = 10, punishment_1 = missing, punishment_2 = missing, punishment_3 = missing, punishment_4 = missing, punishment_5 = missing, post_sexism_1 = \"Neither disagree nor agree\", post_sexism_2 = \"Neither disagree nor agree\", post_sexism_3 = \"Agree strongly\", post_sexism_4 = \"Disagree somewhat\")\n",
       " CSV.Row: (id = 2800, senator_party = \"Republican\", condition = 2, pid7 = \"Strong Republican\", pre_sexism_1 = \"Disagree strongly\", pre_sexism_2 = \"Disagree strongly\", pre_sexism_3 = \"Agree strongly\", pre_sexism_4 = \"Disagree strongly\", pre_favorability = 9, pre_vote = 9, gender = \"Woman\", age = \"25-34\", newsinterest = \"Most of the time\", post_favorability = 0, post_vote = 0, punishment_1 = \"Disagree strongly\", punishment_2 = \"Agree strongly\", punishment_3 = \"Disagree strongly\", punishment_4 = \"Agree strongly\", punishment_5 = \"Agree somewhat\", post_sexism_1 = \"Disagree strongly\", post_sexism_2 = \"Disagree strongly\", post_sexism_3 = \"Agree strongly\", post_sexism_4 = \"Disagree strongly\")\n",
       " CSV.Row: (id = 2801, senator_party = \"Republican\", condition = 3, pid7 = \"Strong Democrat\", pre_sexism_1 = \"Disagree strongly\", pre_sexism_2 = \"Disagree strongly\", pre_sexism_3 = \"Agree strongly\", pre_sexism_4 = \"Disagree strongly\", pre_favorability = 10, pre_vote = 9, gender = \"Man\", age = \"25-34\", newsinterest = \"Most of the time\", post_favorability = 10, post_vote = 10, punishment_1 = missing, punishment_2 = missing, punishment_3 = missing, punishment_4 = missing, punishment_5 = missing, post_sexism_1 = \"Disagree strongly\", post_sexism_2 = \"Disagree strongly\", post_sexism_3 = \"Agree strongly\", post_sexism_4 = \"Disagree strongly\")\n",
       " CSV.Row: (id = 2802, senator_party = \"Democrat\", condition = 2, pid7 = \"Strong Democrat\", pre_sexism_1 = \"Disagree somewhat\", pre_sexism_2 = \"Disagree somewhat\", pre_sexism_3 = \"Agree strongly\", pre_sexism_4 = \"Disagree somewhat\", pre_favorability = 6, pre_vote = 6, gender = \"Woman\", age = \"25-34\", newsinterest = \"Most of the time\", post_favorability = 4, post_vote = 4, punishment_1 = \"Disagree somewhat\", punishment_2 = \"Neither disagree nor agree\", punishment_3 = \"Disagree strongly\", punishment_4 = \"Disagree strongly\", punishment_5 = \"Disagree strongly\", post_sexism_1 = \"Disagree somewhat\", post_sexism_2 = \"Disagree somewhat\", post_sexism_3 = \"Agree strongly\", post_sexism_4 = \"Disagree somewhat\")\n",
       " CSV.Row: (id = 2803, senator_party = \"Democrat\", condition = 1, pid7 = \"Strong Republican\", pre_sexism_1 = \"Agree somewhat\", pre_sexism_2 = \"Agree somewhat\", pre_sexism_3 = \"Disagree somewhat\", pre_sexism_4 = \"Agree somewhat\", pre_favorability = 1, pre_vote = 2, gender = \"Man\", age = \"25-34\", newsinterest = \"Most of the time\", post_favorability = 4, post_vote = 3, punishment_1 = \"Agree strongly\", punishment_2 = \"Disagree strongly\", punishment_3 = \"Disagree strongly\", punishment_4 = \"Disagree strongly\", punishment_5 = \"Disagree strongly\", post_sexism_1 = \"Agree strongly\", post_sexism_2 = \"Agree strongly\", post_sexism_3 = \"Disagree strongly\", post_sexism_4 = \"Agree strongly\")\n",
       " CSV.Row: (id = 2804, senator_party = \"Republican\", condition = 2, pid7 = \"Strong Republican\", pre_sexism_1 = \"Agree somewhat\", pre_sexism_2 = \"Agree somewhat\", pre_sexism_3 = \"Agree somewhat\", pre_sexism_4 = \"Disagree somewhat\", pre_favorability = 7, pre_vote = 10, gender = \"Man\", age = \"45-54\", newsinterest = \"Some of the time\", post_favorability = 6, post_vote = 8, punishment_1 = \"Agree strongly\", punishment_2 = \"Disagree strongly\", punishment_3 = \"Agree strongly\", punishment_4 = \"Disagree strongly\", punishment_5 = \"Agree strongly\", post_sexism_1 = \"Agree somewhat\", post_sexism_2 = \"Agree somewhat\", post_sexism_3 = \"Agree somewhat\", post_sexism_4 = \"Disagree somewhat\")\n",
       " CSV.Row: (id = 2805, senator_party = \"Republican\", condition = 2, pid7 = \"Not very strong Democrat\", pre_sexism_1 = \"Agree somewhat\", pre_sexism_2 = \"Agree strongly\", pre_sexism_3 = \"Agree strongly\", pre_sexism_4 = \"Agree somewhat\", pre_favorability = 8, pre_vote = 8, gender = \"Woman\", age = \"18-24\", newsinterest = \"Some of the time\", post_favorability = 6, post_vote = 9, punishment_1 = \"Neither disagree nor agree\", punishment_2 = \"Agree somewhat\", punishment_3 = \"Disagree strongly\", punishment_4 = \"Disagree somewhat\", punishment_5 = \"Agree strongly\", post_sexism_1 = \"Agree somewhat\", post_sexism_2 = \"Agree somewhat\", post_sexism_3 = \"Agree strongly\", post_sexism_4 = \"Agree somewhat\")\n",
       " CSV.Row: (id = 2806, senator_party = \"Republican\", condition = 3, pid7 = \"Strong Democrat\", pre_sexism_1 = \"Disagree strongly\", pre_sexism_2 = \"Disagree strongly\", pre_sexism_3 = \"Agree strongly\", pre_sexism_4 = \"Disagree strongly\", pre_favorability = 5, pre_vote = 0, gender = \"Woman\", age = \"25-34\", newsinterest = \"Most of the time\", post_favorability = 5, post_vote = 0, punishment_1 = missing, punishment_2 = missing, punishment_3 = missing, punishment_4 = missing, punishment_5 = missing, post_sexism_1 = \"Disagree strongly\", post_sexism_2 = \"Disagree strongly\", post_sexism_3 = \"Agree strongly\", post_sexism_4 = \"Disagree strongly\")\n",
       " CSV.Row: (id = 2807, senator_party = \"Republican\", condition = 1, pid7 = \"Lean Republican\", pre_sexism_1 = \"Neither disagree nor agree\", pre_sexism_2 = \"Neither disagree nor agree\", pre_sexism_3 = \"Agree somewhat\", pre_sexism_4 = \"Agree somewhat\", pre_favorability = 8, pre_vote = 7, gender = \"Man\", age = \"25-34\", newsinterest = \"Most of the time\", post_favorability = 5, post_vote = 4, punishment_1 = \"Neither disagree nor agree\", punishment_2 = \"Disagree somewhat\", punishment_3 = \"Neither disagree nor agree\", punishment_4 = \"Agree somewhat\", punishment_5 = \"Neither disagree nor agree\", post_sexism_1 = \"Neither disagree nor agree\", post_sexism_2 = \"Neither disagree nor agree\", post_sexism_3 = \"Neither disagree nor agree\", post_sexism_4 = \"Neither disagree nor agree\")"
      ]
     },
     "execution_count": 10,
     "metadata": {},
     "output_type": "execute_result"
    }
   ],
   "source": [
    "# if loading from file in data folder:\n",
    "df1 = CSV.File(\"./data/original/metoo_data.csv\")"
   ]
  },
  {
   "cell_type": "code",
   "execution_count": 34,
   "metadata": {},
   "outputs": [
    {
     "name": "stderr",
     "output_type": "stream",
     "text": [
      "  % Total    % Received % Xferd  Average Speed   Time    Time     Time  Current\n",
      "                                 Dload  Upload   Total   Spent    Left  Speed\n",
      "100 31820  100 31820    0     0   143k      0 --:--:-- --:--:-- --:--:--  143k\n"
     ]
    },
    {
     "data": {
      "text/plain": [
       "115×41 Array{Any,2}:\n",
       "     \"ID\"  …   \"relpolar\"   \"ethnicpolar\"\n",
       " 1990         1            1             \n",
       " 1500         0            1             \n",
       " 2770         1            1             \n",
       " 2970         1            1             \n",
       " 3000      …  1            1             \n",
       " 1911         1            1             \n",
       " 2721         0            1             \n",
       " 1180         1            0             \n",
       " 1010         0            1             \n",
       " 1460      …  0            1             \n",
       " 2111         0            1             \n",
       " 2260         1            1             \n",
       "    ⋮      ⋱               ⋮             \n",
       " 2032         0            0             \n",
       " 2184         1            0             \n",
       " 1631      …  1            1             \n",
       " 2310         1            1             \n",
       " 1865         1            1             \n",
       " 1040         0            0             \n",
       " 2360         1            1             \n",
       " 1780      …  1            1             \n",
       " 2031         0            0             \n",
       " 2370         1            1             \n",
       " 1030         1            0             \n",
       " 1960         0            0             "
      ]
     },
     "execution_count": 34,
     "metadata": {},
     "output_type": "execute_result"
    }
   ],
   "source": [
    "# if loading from web\n",
    "url = HTTP.get(\"http://mattingram.net/teaching/workshops/introR/materials/Lacina_JCR_2006_replication.csv\");\n",
    "\n",
    "#mycsv = readdlm(url.body, ',', header=false);\n",
    "\n",
    "mycsv = readdlm(download(\"http://mattingram.net/teaching/workshops/introR/materials/Lacina_JCR_2006_replication.csv\"), ',')\n",
    "#= \n",
    "other options:\n",
    "# if csv is in directory\n",
    "df = CSV.read(filepath)\n",
    "=#"
   ]
  },
  {
   "cell_type": "code",
   "execution_count": 35,
   "metadata": {},
   "outputs": [
    {
     "name": "stdout",
     "output_type": "stream",
     "text": [
      "1\tID\n",
      "2\tconflict_name\n",
      "3\tccode\n",
      "4\tcname\n",
      "5\tregion\n",
      "6\tsecession\n",
      "7\tbattledeadbest\n",
      "8\tlnbdb\n",
      "9\tbattledeadlow\n",
      "10\tlnbdl\n",
      "11\tbattledeadhigh\n",
      "12\tlnbdh\n",
      "13\tpop\n",
      "14\tlnpop\n",
      "15\tdper100k\n",
      "16\tbegin\n",
      "17\tend\n",
      "18\tduration\n",
      "19\tlnduration\n",
      "20\trate\n",
      "21\tlnrate\n",
      "22\tcw\n",
      "23\tintervention\n",
      "24\tdemoc\n",
      "25\tlngdp\n",
      "26\tgdpsq\n",
      "27\tmilper\n",
      "28\tmilperpop\n",
      "29\tlnmilperpop\n",
      "30\tmilex\n",
      "31\tmilqual\n",
      "32\tlnmilqual\n",
      "33\tmilq2\n",
      "34\tmountain\n",
      "35\tlnmountain\n",
      "36\tethfrac\n",
      "37\tlnethfrac\n",
      "38\trelfrac\n",
      "39\tlnrelfrac\n",
      "40\trelpolar\n",
      "41\tethnicpolar\n"
     ]
    }
   ],
   "source": [
    "for (colnum, myheader) in enumerate(mycsv[1,:])\n",
    "           println(colnum, '\\t', myheader)\n",
    "       end"
   ]
  },
  {
   "cell_type": "code",
   "execution_count": 36,
   "metadata": {},
   "outputs": [
    {
     "data": {
      "text/html": [
       "<table class=\"data-frame\"><thead><tr><th></th><th>x1</th><th>x2</th><th>x3</th><th>x4</th><th>x5</th><th>x6</th><th>x7</th><th>x8</th><th>x9</th><th>x10</th><th>x11</th><th>x12</th><th>x13</th><th>x14</th><th>x15</th><th>x16</th><th>x17</th><th>x18</th><th>x19</th><th>x20</th><th>x21</th><th>x22</th><th>x23</th><th>x24</th><th>x25</th><th>x26</th><th>x27</th><th>x28</th><th>x29</th><th>x30</th><th>x31</th><th>x32</th><th>x33</th><th>x34</th><th>x35</th><th>x36</th><th>x37</th><th>x38</th><th>x39</th><th>x40</th><th>x41</th></tr><tr><th></th><th>Any</th><th>Any</th><th>Any</th><th>Any</th><th>Any</th><th>Any</th><th>Any</th><th>Any</th><th>Any</th><th>Any</th><th>Any</th><th>Any</th><th>Any</th><th>Any</th><th>Any</th><th>Any</th><th>Any</th><th>Any</th><th>Any</th><th>Any</th><th>Any</th><th>Any</th><th>Any</th><th>Any</th><th>Any</th><th>Any</th><th>Any</th><th>Any</th><th>Any</th><th>Any</th><th>Any</th><th>Any</th><th>Any</th><th>Any</th><th>Any</th><th>Any</th><th>Any</th><th>Any</th><th>Any</th><th>Any</th><th>Any</th></tr></thead><tbody><p>115 rows × 41 columns</p><tr><th>1</th><td>ID</td><td>conflict_name</td><td>ccode</td><td>cname</td><td>region</td><td>secession</td><td>battledeadbest</td><td>lnbdb</td><td>battledeadlow</td><td>lnbdl</td><td>battledeadhigh</td><td>lnbdh</td><td>pop</td><td>lnpop</td><td>dper100k</td><td>begin</td><td>end</td><td>duration</td><td>lnduration</td><td>rate</td><td>lnrate</td><td>cw</td><td>intervention</td><td>democ</td><td>lngdp</td><td>gdpsq</td><td>milper</td><td>milperpop</td><td>lnmilperpop</td><td>milex</td><td>milqual</td><td>lnmilqual</td><td>milq2</td><td>mountain</td><td>lnmountain</td><td>ethfrac</td><td>lnethfrac</td><td>relfrac</td><td>lnrelfrac</td><td>relpolar</td><td>ethnicpolar</td></tr><tr><th>2</th><td>1990</td><td>India (Mizoram)</td><td>750</td><td>IND</td><td>3</td><td>1</td><td>900</td><td>6.80239</td><td>900</td><td>6.80239</td><td>900</td><td>6.80239</td><td>487336992</td><td>20.0045</td><td>0.184677</td><td>1966</td><td>1968</td><td>3</td><td>1.09861</td><td>300</td><td>5.70378</td><td>1</td><td>0</td><td>1</td><td>6.62141</td><td>12.0995</td><td>1220</td><td>2.5e-6</td><td>-12.8979</td><td>1804170</td><td>1478.83</td><td>7.29901</td><td>14.7176</td><td>12.9</td><td>2.63189</td><td>0.886478</td><td>-0.120499</td><td>0.3384</td><td>-1.08353</td><td>1</td><td>1</td></tr><tr><th>3</th><td>1500</td><td>Argentina 1955</td><td>160</td><td>ARG</td><td>2</td><td>0</td><td>900</td><td>6.80239</td><td>900</td><td>6.80239</td><td>900</td><td>6.80239</td><td>18574000</td><td>16.7373</td><td>4.84548</td><td>1955</td><td>1955</td><td>1</td><td>0</td><td>900</td><td>6.80239</td><td>1</td><td>0</td><td>0</td><td>8.28702</td><td>15.8726</td><td>71</td><td>3.82e-6</td><td>-12.4746</td><td>566133</td><td>7973.7</td><td>8.98391</td><td>17.0041</td><td>28.4</td><td>3.38099</td><td>0.307319</td><td>-1.17987</td><td>0.1512</td><td>-1.88915</td><td>0</td><td>1</td></tr><tr><th>4</th><td>2770</td><td>Romania 1989</td><td>360</td><td>RUM</td><td>5</td><td>0</td><td>909</td><td>6.81234</td><td>909</td><td>6.81234</td><td>909</td><td>6.81234</td><td>23054000</td><td>16.9534</td><td>3.94292</td><td>1989</td><td>1989</td><td>1</td><td>0</td><td>909</td><td>6.81234</td><td>0</td><td>0</td><td>0</td><td>7.64444</td><td>13.6357</td><td>220</td><td>9.54e-6</td><td>-11.5597</td><td>809000</td><td>3677.27</td><td>8.20993</td><td>12.8866</td><td>17</td><td>2.89037</td><td>0.252163</td><td>-1.37768</td><td>0.4704</td><td>-0.754172</td><td>1</td><td>1</td></tr><tr><th>5</th><td>2970</td><td>Croatia 1992-5</td><td>344</td><td>CRO</td><td>5</td><td>1</td><td>950</td><td>6.85646</td><td>950</td><td>6.85646</td><td>950</td><td>6.85646</td><td>4782300</td><td>15.3804</td><td>19.8649</td><td>1992</td><td>1995</td><td>4</td><td>1.38629</td><td>237.5</td><td>5.47017</td><td>0</td><td>0</td><td>0</td><td></td><td></td><td>103</td><td>2.15e-5</td><td>-10.7457</td><td>561000</td><td>5446.6</td><td>8.60275</td><td>15.5646</td><td>3.60925</td><td>1.52807</td><td>0.334221</td><td>-1.09595</td><td>0.3828</td><td>-0.960243</td><td>1</td><td>1</td></tr><tr><th>6</th><td>3000</td><td>Georgia (South Ossetia)</td><td>372</td><td>GRG</td><td>3</td><td>1</td><td>950</td><td>6.85646</td><td>950</td><td>6.85646</td><td>950</td><td>6.85646</td><td>5460000</td><td>15.513</td><td>17.3993</td><td>1992</td><td>1992</td><td>1</td><td>0</td><td>950</td><td>6.85646</td><td>0</td><td>1</td><td>0</td><td>8.25019</td><td>15.7672</td><td>25</td><td>4.58e-6</td><td>-12.2941</td><td>850000</td><td>34000</td><td>10.4341</td><td>20.6803</td><td>60.8</td><td>4.1239</td><td>0.49551</td><td>-0.702168</td><td>0.5454</td><td>-0.606236</td><td>1</td><td>1</td></tr><tr><th>7</th><td>1911</td><td>Chad 1997-2002</td><td>483</td><td>CHA</td><td>1</td><td>0</td><td>954</td><td>6.86066</td><td>954</td><td>6.86066</td><td>954</td><td>6.86066</td><td>6937350</td><td>15.7524</td><td>13.7516</td><td>1997</td><td>2002</td><td>6</td><td>1.79176</td><td>159</td><td>5.0689</td><td>0</td><td>0</td><td>0</td><td>5.84192</td><td>13.4442</td><td>40</td><td>5.77e-6</td><td>-12.0635</td><td>40000</td><td>1000</td><td>6.90775</td><td>15.25</td><td>8.5</td><td>2.25129</td><td>0.826273</td><td>-0.19083</td><td>0.625</td><td>-0.470004</td><td>1</td><td>1</td></tr><tr><th>8</th><td>2721</td><td>Indonesia (Aceh 1999-2001)</td><td>850</td><td>INS</td><td>4</td><td>1</td><td>980</td><td>6.88755</td><td>980</td><td>6.88755</td><td>980</td><td>6.88755</td><td>203678368</td><td>19.132</td><td>0.481151</td><td>1999</td><td>2002</td><td>4</td><td>1.38629</td><td>245</td><td>5.50126</td><td>0</td><td>0</td><td>0</td><td>7.75563</td><td>14.1118</td><td>280</td><td>1.37e-6</td><td>-13.4973</td><td>967000</td><td>3453.57</td><td>8.14716</td><td>12.0068</td><td>10.5</td><td>2.44235</td><td>0.764058</td><td>-0.269111</td><td>0.2216</td><td>-1.50688</td><td>0</td><td>1</td></tr><tr><th>9</th><td>1180</td><td>China (Taiwan 1947)</td><td>710</td><td>SHN</td><td>4</td><td>1</td><td>1000</td><td>6.90775</td><td>540</td><td>6.29157</td><td>1000</td><td>6.90775</td><td>553268992</td><td>20.1314</td><td>0.180744</td><td>1947</td><td>1947</td><td>1</td><td>0</td><td>1000</td><td>6.90775</td><td>1</td><td>0</td><td>0</td><td>5.42054</td><td>13.7108</td><td>4158</td><td>7.52e-6</td><td>-11.7986</td><td>789300</td><td>189.827</td><td>5.24611</td><td>15.9164</td><td>37.4</td><td>3.64806</td><td>0.118452</td><td>-2.13324</td><td>0.551</td><td>-0.59602</td><td>1</td><td>0</td></tr><tr><th>10</th><td>1010</td><td>Bolivia (Popular Revolutionary Movement)</td><td>145</td><td>BOL</td><td>2</td><td>0</td><td>1000</td><td>6.90775</td><td>1000</td><td>6.90775</td><td>1000</td><td>6.90775</td><td>2858000</td><td>14.8656</td><td>34.9895</td><td>1946</td><td>1946</td><td>1</td><td>0</td><td>1000</td><td>6.90775</td><td>1</td><td>0</td><td>0</td><td></td><td></td><td>9</td><td>3.15e-6</td><td>-12.6684</td><td>7052</td><td>783.556</td><td>6.66384</td><td>15.4509</td><td>35.9</td><td>3.60821</td><td>0.678133</td><td>-0.388412</td><td>0.095</td><td>-2.35388</td><td>0</td><td>1</td></tr><tr><th>11</th><td>1460</td><td>Indonesia (Darul Islam)</td><td>850</td><td>INS</td><td>4</td><td>0</td><td>1000</td><td>6.90775</td><td>521</td><td>6.25575</td><td>1000</td><td>6.90775</td><td>78081000</td><td>18.1733</td><td>1.28072</td><td>1953</td><td>1953</td><td>1</td><td>0</td><td>1000</td><td>6.90775</td><td>1</td><td>0</td><td>0</td><td>5.96615</td><td>13.3314</td><td>200</td><td>2.56e-6</td><td>-12.8749</td><td>333946</td><td>1669.73</td><td>7.42042</td><td>14.4583</td><td>10.5</td><td>2.44235</td><td>0.764058</td><td>-0.269111</td><td>0.2216</td><td>-1.50688</td><td>0</td><td>1</td></tr><tr><th>12</th><td>2111</td><td>Guinea 2000-1</td><td>438</td><td>GUI</td><td>1</td><td>0</td><td>1100</td><td>7.00307</td><td>418</td><td>6.03548</td><td>1500</td><td>7.31322</td><td>7250500</td><td>15.7966</td><td>15.1714</td><td>2000</td><td>2001</td><td>2</td><td>0.693147</td><td>550</td><td>6.30992</td><td>0</td><td>0</td><td>0</td><td></td><td></td><td>12</td><td>1.66e-6</td><td>-13.3117</td><td>60000</td><td>5000</td><td>8.51719</td><td>15.1524</td><td>3.2</td><td>1.43508</td><td>0.749607</td><td>-0.288206</td><td>0.2262</td><td>-1.48634</td><td>0</td><td>1</td></tr><tr><th>13</th><td>2260</td><td>Bangladesh (Shanti Bahini)</td><td>771</td><td>BNG</td><td>3</td><td>1</td><td>1227</td><td>7.11233</td><td>1227</td><td>7.11233</td><td>1227</td><td>7.11233</td><td>72425000</td><td>18.0981</td><td>1.69417</td><td>1974</td><td>1992</td><td>19</td><td>2.94444</td><td>64.579</td><td>4.16789</td><td>1</td><td>0</td><td>1</td><td>6.62804</td><td>12.0757</td><td>86</td><td>1.19e-6</td><td>-13.6437</td><td>41204</td><td>479.116</td><td>6.17194</td><td>15.7031</td><td>0</td><td>0</td><td>0.0049751</td><td>-5.30331</td><td>0.2134</td><td>-1.54459</td><td>1</td><td>1</td></tr><tr><th>14</th><td>2980</td><td>Egypt 1992-8</td><td>651</td><td>EGY</td><td>6</td><td>0</td><td>1347</td><td>7.20564</td><td>1347</td><td>7.20564</td><td>1347</td><td>7.20564</td><td>53602000</td><td>17.7971</td><td>2.51297</td><td>1992</td><td>1998</td><td>7</td><td>1.94591</td><td>192.429</td><td>5.25973</td><td>0</td><td>0</td><td>0</td><td>7.55643</td><td>13.2079</td><td>434</td><td>8.1e-6</td><td>-11.7241</td><td>1650000</td><td>3801.84</td><td>8.24324</td><td>13.2483</td><td>1</td><td>0.693147</td><td>0.0440085</td><td>-3.12337</td><td>0.1128</td><td>-2.18214</td><td>0</td><td>1</td></tr><tr><th>15</th><td>1630</td><td>Lebanon 1958</td><td>660</td><td>LEB</td><td>6</td><td>0</td><td>1400</td><td>7.24423</td><td>1000</td><td>6.90775</td><td>1400</td><td>7.24423</td><td>1703000</td><td>14.3479</td><td>82.2079</td><td>1958</td><td>1958</td><td>1</td><td>0</td><td>1400</td><td>7.24423</td><td>1</td><td>1</td><td>0</td><td>7.83598</td><td>14.4231</td><td>9</td><td>5.28e-6</td><td>-12.1507</td><td>17846</td><td>1982.89</td><td>7.59231</td><td>13.9431</td><td>57.1</td><td>4.06217</td><td>0.134805</td><td>-2.00393</td><td>0.7534</td><td>-0.283159</td><td>1</td><td>1</td></tr><tr><th>16</th><td>1540</td><td>India (Nagaland 1956-9)</td><td>750</td><td>IND</td><td>3</td><td>1</td><td>1487</td><td>7.30452</td><td>1487</td><td>7.30452</td><td>1487</td><td>7.30452</td><td>397972992</td><td>19.8019</td><td>0.373644</td><td>1956</td><td>1959</td><td>4</td><td>1.38629</td><td>371.75</td><td>5.91822</td><td>1</td><td>0</td><td>1</td><td>6.51026</td><td>12.4412</td><td>391</td><td>9.82e-7</td><td>-13.8332</td><td>401830</td><td>1027.7</td><td>6.93508</td><td>15.2228</td><td>12.9</td><td>2.63189</td><td>0.886478</td><td>-0.120499</td><td>0.3384</td><td>-1.08353</td><td>1</td><td>1</td></tr><tr><th>17</th><td>1293</td><td>India (Naxalites 1996-2002)</td><td>750</td><td>IND</td><td>3</td><td>1</td><td>1494</td><td>7.30921</td><td>1494</td><td>7.30921</td><td>1494</td><td>7.30921</td><td>929358016</td><td>20.65</td><td>0.160756</td><td>1996</td><td>2002</td><td>7</td><td>1.94591</td><td>213.429</td><td>5.3633</td><td>0</td><td>0</td><td>1</td><td>7.29716</td><td>11.4149</td><td>1260</td><td>1.36e-6</td><td>-13.5111</td><td>9992000</td><td>7930.16</td><td>8.97843</td><td>16.9864</td><td>12.9</td><td>2.63189</td><td>0.886478</td><td>-0.120499</td><td>0.3384</td><td>-1.08353</td><td>1</td><td>1</td></tr><tr><th>18</th><td>2170</td><td>Sri Lanka (JVP 1971)</td><td>780</td><td>SRI</td><td>3</td><td>0</td><td>1630</td><td>7.39633</td><td>1260</td><td>7.13887</td><td>2000</td><td>7.6009</td><td>12516000</td><td>16.3425</td><td>13.0233</td><td>1971</td><td>1971</td><td>1</td><td>0</td><td>1630</td><td>7.39633</td><td>1</td><td>0</td><td>1</td><td>7.12528</td><td>8.43902</td><td>10</td><td>7.99e-7</td><td>-14.0399</td><td>19411</td><td>1941.1</td><td>7.57101</td><td>14.02</td><td>7.3</td><td>2.11626</td><td>0.467041</td><td>-0.761337</td><td>0.4762</td><td>-0.741917</td><td>1</td><td>1</td></tr><tr><th>19</th><td>2720</td><td>Indonesia (Aceh 1989-91)</td><td>850</td><td>INS</td><td>4</td><td>1</td><td>1750</td><td>7.46737</td><td>1750</td><td>7.46737</td><td>1750</td><td>7.46737</td><td>171994000</td><td>18.963</td><td>1.01748</td><td>1989</td><td>1991</td><td>3</td><td>1.09861</td><td>583.333</td><td>6.36876</td><td>0</td><td>0</td><td>0</td><td>7.4553</td><td>12.6343</td><td>284</td><td>1.65e-6</td><td>-13.314</td><td>1402000</td><td>4936.62</td><td>8.50444</td><td>15.0864</td><td>10.5</td><td>2.44235</td><td>0.764058</td><td>-0.269111</td><td>0.2216</td><td>-1.50688</td><td>0</td><td>1</td></tr><tr><th>20</th><td>1621</td><td>Iraq 1959</td><td>645</td><td>IRQ</td><td>6</td><td>0</td><td>2000</td><td>7.6009</td><td>500</td><td>6.21461</td><td>2000</td><td>7.6009</td><td>6473000</td><td>15.6831</td><td>30.8976</td><td>1959</td><td>1959</td><td>1</td><td>0</td><td>2000</td><td>7.6009</td><td>1</td><td>0</td><td>0</td><td>7.9943</td><td>14.9788</td><td>64</td><td>9.89e-6</td><td>-11.5243</td><td>86810</td><td>1356.41</td><td>7.21259</td><td>14.8678</td><td>6</td><td>1.94591</td><td>0.362471</td><td>-1.01481</td><td>0.4922</td><td>-0.70887</td><td>1</td><td>1</td></tr><tr><th>21</th><td>1270</td><td>Costa Rica 1948</td><td>94</td><td>COS</td><td>2</td><td>0</td><td>2000</td><td>7.6009</td><td>2000</td><td>7.6009</td><td>2000</td><td>7.6009</td><td>766000</td><td>13.5489</td><td>261.097</td><td>1948</td><td>1948</td><td>1</td><td>0</td><td>2000</td><td>7.6009</td><td>1</td><td>1</td><td>1</td><td>7.19669</td><td>10.1503</td><td>1</td><td>1.31e-6</td><td>-13.5489</td><td>1411</td><td>1411</td><td>7.25205</td><td>14.8022</td><td>22.2</td><td>3.14415</td><td>0.07109</td><td>-2.64381</td><td>0.2578</td><td>-1.35557</td><td>1</td><td>0</td></tr><tr><th>22</th><td>2210</td><td>Oman (Dhofar Rebellion)</td><td>698</td><td>OMA</td><td>6</td><td>0</td><td>2000</td><td>7.6009</td><td>500</td><td>6.21461</td><td>2000</td><td>7.6009</td><td>672000</td><td>13.418</td><td>297.619</td><td>1972</td><td>1975</td><td>4</td><td>1.38629</td><td>500</td><td>6.21461</td><td>1</td><td>1</td><td>0</td><td>8.67999</td><td>16.9145</td><td>4</td><td>5.95e-6</td><td>-12.0317</td><td>38517</td><td>9629.25</td><td>9.17256</td><td>17.5837</td><td>2.8</td><td>1.335</td><td>0.23702</td><td>-1.43961</td><td>0.375</td><td>-0.980829</td><td>1</td><td>1</td></tr><tr><th>23</th><td>2250</td><td>Chile 1973</td><td>155</td><td>CHL</td><td>2</td><td>0</td><td>2095</td><td>7.64731</td><td>2095</td><td>7.64731</td><td>2095</td><td>7.64731</td><td>9853000</td><td>16.1033</td><td>21.2626</td><td>1973</td><td>1973</td><td>1</td><td>0</td><td>2095</td><td>7.64731</td><td>1</td><td>0</td><td>1</td><td>8.25635</td><td>15.7849</td><td>75</td><td>7.61e-6</td><td>-11.7858</td><td>300000</td><td>4000</td><td>8.29405</td><td>13.7155</td><td>57.6</td><td>4.07073</td><td>0.140437</td><td>-1.963</td><td>0.1958</td><td>-1.63066</td><td>1</td><td>1</td></tr><tr><th>24</th><td>3190</td><td>Guinea-Bissau 1998-9</td><td>404</td><td>GNB</td><td>1</td><td>0</td><td>2350</td><td>7.76217</td><td>1700</td><td>7.43838</td><td>3999</td><td>8.2938</td><td>1137060</td><td>13.944</td><td>206.673</td><td>1998</td><td>1999</td><td>2</td><td>0.693147</td><td>1175</td><td>7.06902</td><td>0</td><td>1</td><td>0</td><td>6.52883</td><td>12.3904</td><td>7</td><td>6.16e-6</td><td>-11.998</td><td>8000</td><td>1142.86</td><td>7.04129</td><td>15.1054</td><td>0</td><td>0</td><td>0.803757</td><td>-0.218458</td><td>0.545</td><td>-0.60697</td><td>1</td><td>1</td></tr><tr><th>25</th><td>3120</td><td>Pakistan (MQM 1995-6)</td><td>770</td><td>PAK</td><td>3</td><td>0</td><td>2500</td><td>7.82405</td><td>2500</td><td>7.82405</td><td>2500</td><td>7.82405</td><td>119401848</td><td>18.598</td><td>2.09377</td><td>1995</td><td>1996</td><td>2</td><td>0.693147</td><td>1250</td><td>7.1309</td><td>0</td><td>0</td><td>1</td><td>7.27386</td><td>11.1753</td><td>580</td><td>4.86e-6</td><td>-12.235</td><td>3585000</td><td>6181.03</td><td>8.72924</td><td>16.099</td><td>43</td><td>3.78419</td><td>0.644509</td><td>-0.439267</td><td>0.3662</td><td>-1.00458</td><td>1</td><td>1</td></tr><tr><th>26</th><td>2171</td><td>Sri Lanka (JVP 1989-90)</td><td>780</td><td>SRI</td><td>3</td><td>0</td><td>2800</td><td>7.93738</td><td>2800</td><td>7.93738</td><td>2800</td><td>7.93738</td><td>16587000</td><td>16.6241</td><td>16.8807</td><td>1989</td><td>1990</td><td>2</td><td>0.693147</td><td>1400</td><td>7.24423</td><td>0</td><td>1</td><td>0</td><td>7.6148</td><td>13.4975</td><td>22</td><td>1.33e-6</td><td>-13.5331</td><td>321000</td><td>14590.9</td><td>9.58815</td><td>18.7075</td><td>7.3</td><td>2.11626</td><td>0.467041</td><td>-0.761337</td><td>0.4762</td><td>-0.741917</td><td>1</td><td>1</td></tr><tr><th>27</th><td>1502</td><td>Argentina (ERP, Montoneros 1973-7)</td><td>160</td><td>ARG</td><td>2</td><td>0</td><td>2984</td><td>8.00102</td><td>2984</td><td>8.00102</td><td>2984</td><td>8.00102</td><td>24757000</td><td>17.0246</td><td>12.0532</td><td>1973</td><td>1977</td><td>5</td><td>1.60944</td><td>596.8</td><td>6.39158</td><td>1</td><td>0</td><td>0</td><td>8.66734</td><td>16.8828</td><td>140</td><td>5.65e-6</td><td>-12.083</td><td>426829</td><td>3048.78</td><td>8.0225</td><td>-15.4778</td><td>28.4</td><td>3.38099</td><td>0.307319</td><td>-1.17987</td><td>0.1512</td><td>-1.88915</td><td>0</td><td>1</td></tr><tr><th>28</th><td>3172</td><td>Congo-Brazaville 1998-2002</td><td>484</td><td>CON</td><td>1</td><td>0</td><td>2999</td><td>8.00603</td><td>2999</td><td>8.00603</td><td>3047</td><td>8.02191</td><td>2707600</td><td>14.8116</td><td>110.762</td><td>1998</td><td>2002</td><td>5</td><td>1.60944</td><td>599.8</td><td>6.3966</td><td>0</td><td>1</td><td>0</td><td>7.49572</td><td>12.8765</td><td>10</td><td>3.69e-6</td><td>-12.509</td><td>74000</td><td>7400</td><td>8.90924</td><td>16.7564</td><td>0</td><td>0</td><td>0.657212</td><td>-0.419748</td><td>0.5192</td><td>-0.655466</td><td>1</td><td>1</td></tr><tr><th>29</th><td>2990</td><td>Georgia (Abkhazia)</td><td>372</td><td>GRG</td><td>3</td><td>1</td><td>3000</td><td>8.00637</td><td>3000</td><td>8.00637</td><td>3000</td><td>8.00637</td><td>5460000</td><td>15.513</td><td>54.9451</td><td>1992</td><td>1993</td><td>2</td><td>0.693147</td><td>1500</td><td>7.31322</td><td>0</td><td>1</td><td>0</td><td>8.25019</td><td>15.7672</td><td>25</td><td>4.58e-6</td><td>-12.2941</td><td>850000</td><td>34000</td><td>10.4341</td><td>20.6803</td><td>60.8</td><td>4.1239</td><td>0.49551</td><td>-0.702168</td><td>0.5454</td><td>-0.606236</td><td>1</td><td>1</td></tr><tr><th>30</th><td>2710</td><td>India (Assam)</td><td>750</td><td>IND</td><td>3</td><td>1</td><td>3172</td><td>8.06212</td><td>2972</td><td>7.99699</td><td>3572</td><td>8.18088</td><td>815590016</td><td>20.5194</td><td>0.388921</td><td>1989</td><td>2002</td><td>14</td><td>2.63906</td><td>226.571</td><td>5.42306</td><td>0</td><td>0</td><td>1</td><td>7.0934</td><td>6.7346</td><td>1360</td><td>1.67e-6</td><td>-13.3042</td><td>9590000</td><td>7051.47</td><td>8.86099</td><td>16.5894</td><td>12.9</td><td>2.63189</td><td>0.886478</td><td>-0.120499</td><td>0.3384</td><td>-1.08353</td><td>1</td><td>1</td></tr><tr><th>&vellip;</th><td>&vellip;</td><td>&vellip;</td><td>&vellip;</td><td>&vellip;</td><td>&vellip;</td><td>&vellip;</td><td>&vellip;</td><td>&vellip;</td><td>&vellip;</td><td>&vellip;</td><td>&vellip;</td><td>&vellip;</td><td>&vellip;</td><td>&vellip;</td><td>&vellip;</td><td>&vellip;</td><td>&vellip;</td><td>&vellip;</td><td>&vellip;</td><td>&vellip;</td><td>&vellip;</td><td>&vellip;</td><td>&vellip;</td><td>&vellip;</td><td>&vellip;</td><td>&vellip;</td><td>&vellip;</td><td>&vellip;</td><td>&vellip;</td><td>&vellip;</td><td>&vellip;</td><td>&vellip;</td><td>&vellip;</td><td>&vellip;</td><td>&vellip;</td><td>&vellip;</td><td>&vellip;</td><td>&vellip;</td><td>&vellip;</td><td>&vellip;</td><td>&vellip;</td></tr></tbody></table>"
      ],
      "text/latex": [
       "\\begin{tabular}{r|ccccccccccccccccccccccccccccccccccccccccc}\n",
       "\t& x1 & x2 & x3 & x4 & x5 & x6 & x7 & x8 & x9 & x10 & x11 & x12 & x13 & x14 & x15 & x16 & x17 & x18 & x19 & x20 & x21 & x22 & x23 & x24 & x25 & x26 & x27 & x28 & x29 & x30 & x31 & x32 & x33 & x34 & x35 & x36 & x37 & x38 & x39 & x40 & x41\\\\\n",
       "\t\\hline\n",
       "\t& Any & Any & Any & Any & Any & Any & Any & Any & Any & Any & Any & Any & Any & Any & Any & Any & Any & Any & Any & Any & Any & Any & Any & Any & Any & Any & Any & Any & Any & Any & Any & Any & Any & Any & Any & Any & Any & Any & Any & Any & Any\\\\\n",
       "\t\\hline\n",
       "\t1 & ID & conflict\\_name & ccode & cname & region & secession & battledeadbest & lnbdb & battledeadlow & lnbdl & battledeadhigh & lnbdh & pop & lnpop & dper100k & begin & end & duration & lnduration & rate & lnrate & cw & intervention & democ & lngdp & gdpsq & milper & milperpop & lnmilperpop & milex & milqual & lnmilqual & milq2 & mountain & lnmountain & ethfrac & lnethfrac & relfrac & lnrelfrac & relpolar & ethnicpolar \\\\\n",
       "\t2 & 1990 & India (Mizoram) & 750 & IND & 3 & 1 & 900 & 6.80239 & 900 & 6.80239 & 900 & 6.80239 & 487336992 & 20.0045 & 0.184677 & 1966 & 1968 & 3 & 1.09861 & 300 & 5.70378 & 1 & 0 & 1 & 6.62141 & 12.0995 & 1220 & 2.5e-6 & -12.8979 & 1804170 & 1478.83 & 7.29901 & 14.7176 & 12.9 & 2.63189 & 0.886478 & -0.120499 & 0.3384 & -1.08353 & 1 & 1 \\\\\n",
       "\t3 & 1500 & Argentina 1955 & 160 & ARG & 2 & 0 & 900 & 6.80239 & 900 & 6.80239 & 900 & 6.80239 & 18574000 & 16.7373 & 4.84548 & 1955 & 1955 & 1 & 0 & 900 & 6.80239 & 1 & 0 & 0 & 8.28702 & 15.8726 & 71 & 3.82e-6 & -12.4746 & 566133 & 7973.7 & 8.98391 & 17.0041 & 28.4 & 3.38099 & 0.307319 & -1.17987 & 0.1512 & -1.88915 & 0 & 1 \\\\\n",
       "\t4 & 2770 & Romania 1989 & 360 & RUM & 5 & 0 & 909 & 6.81234 & 909 & 6.81234 & 909 & 6.81234 & 23054000 & 16.9534 & 3.94292 & 1989 & 1989 & 1 & 0 & 909 & 6.81234 & 0 & 0 & 0 & 7.64444 & 13.6357 & 220 & 9.54e-6 & -11.5597 & 809000 & 3677.27 & 8.20993 & 12.8866 & 17 & 2.89037 & 0.252163 & -1.37768 & 0.4704 & -0.754172 & 1 & 1 \\\\\n",
       "\t5 & 2970 & Croatia 1992-5 & 344 & CRO & 5 & 1 & 950 & 6.85646 & 950 & 6.85646 & 950 & 6.85646 & 4782300 & 15.3804 & 19.8649 & 1992 & 1995 & 4 & 1.38629 & 237.5 & 5.47017 & 0 & 0 & 0 &  &  & 103 & 2.15e-5 & -10.7457 & 561000 & 5446.6 & 8.60275 & 15.5646 & 3.60925 & 1.52807 & 0.334221 & -1.09595 & 0.3828 & -0.960243 & 1 & 1 \\\\\n",
       "\t6 & 3000 & Georgia (South Ossetia) & 372 & GRG & 3 & 1 & 950 & 6.85646 & 950 & 6.85646 & 950 & 6.85646 & 5460000 & 15.513 & 17.3993 & 1992 & 1992 & 1 & 0 & 950 & 6.85646 & 0 & 1 & 0 & 8.25019 & 15.7672 & 25 & 4.58e-6 & -12.2941 & 850000 & 34000 & 10.4341 & 20.6803 & 60.8 & 4.1239 & 0.49551 & -0.702168 & 0.5454 & -0.606236 & 1 & 1 \\\\\n",
       "\t7 & 1911 & Chad 1997-2002 & 483 & CHA & 1 & 0 & 954 & 6.86066 & 954 & 6.86066 & 954 & 6.86066 & 6937350 & 15.7524 & 13.7516 & 1997 & 2002 & 6 & 1.79176 & 159 & 5.0689 & 0 & 0 & 0 & 5.84192 & 13.4442 & 40 & 5.77e-6 & -12.0635 & 40000 & 1000 & 6.90775 & 15.25 & 8.5 & 2.25129 & 0.826273 & -0.19083 & 0.625 & -0.470004 & 1 & 1 \\\\\n",
       "\t8 & 2721 & Indonesia (Aceh 1999-2001) & 850 & INS & 4 & 1 & 980 & 6.88755 & 980 & 6.88755 & 980 & 6.88755 & 203678368 & 19.132 & 0.481151 & 1999 & 2002 & 4 & 1.38629 & 245 & 5.50126 & 0 & 0 & 0 & 7.75563 & 14.1118 & 280 & 1.37e-6 & -13.4973 & 967000 & 3453.57 & 8.14716 & 12.0068 & 10.5 & 2.44235 & 0.764058 & -0.269111 & 0.2216 & -1.50688 & 0 & 1 \\\\\n",
       "\t9 & 1180 & China (Taiwan 1947) & 710 & SHN & 4 & 1 & 1000 & 6.90775 & 540 & 6.29157 & 1000 & 6.90775 & 553268992 & 20.1314 & 0.180744 & 1947 & 1947 & 1 & 0 & 1000 & 6.90775 & 1 & 0 & 0 & 5.42054 & 13.7108 & 4158 & 7.52e-6 & -11.7986 & 789300 & 189.827 & 5.24611 & 15.9164 & 37.4 & 3.64806 & 0.118452 & -2.13324 & 0.551 & -0.59602 & 1 & 0 \\\\\n",
       "\t10 & 1010 & Bolivia (Popular Revolutionary Movement) & 145 & BOL & 2 & 0 & 1000 & 6.90775 & 1000 & 6.90775 & 1000 & 6.90775 & 2858000 & 14.8656 & 34.9895 & 1946 & 1946 & 1 & 0 & 1000 & 6.90775 & 1 & 0 & 0 &  &  & 9 & 3.15e-6 & -12.6684 & 7052 & 783.556 & 6.66384 & 15.4509 & 35.9 & 3.60821 & 0.678133 & -0.388412 & 0.095 & -2.35388 & 0 & 1 \\\\\n",
       "\t11 & 1460 & Indonesia (Darul Islam) & 850 & INS & 4 & 0 & 1000 & 6.90775 & 521 & 6.25575 & 1000 & 6.90775 & 78081000 & 18.1733 & 1.28072 & 1953 & 1953 & 1 & 0 & 1000 & 6.90775 & 1 & 0 & 0 & 5.96615 & 13.3314 & 200 & 2.56e-6 & -12.8749 & 333946 & 1669.73 & 7.42042 & 14.4583 & 10.5 & 2.44235 & 0.764058 & -0.269111 & 0.2216 & -1.50688 & 0 & 1 \\\\\n",
       "\t12 & 2111 & Guinea 2000-1 & 438 & GUI & 1 & 0 & 1100 & 7.00307 & 418 & 6.03548 & 1500 & 7.31322 & 7250500 & 15.7966 & 15.1714 & 2000 & 2001 & 2 & 0.693147 & 550 & 6.30992 & 0 & 0 & 0 &  &  & 12 & 1.66e-6 & -13.3117 & 60000 & 5000 & 8.51719 & 15.1524 & 3.2 & 1.43508 & 0.749607 & -0.288206 & 0.2262 & -1.48634 & 0 & 1 \\\\\n",
       "\t13 & 2260 & Bangladesh (Shanti Bahini) & 771 & BNG & 3 & 1 & 1227 & 7.11233 & 1227 & 7.11233 & 1227 & 7.11233 & 72425000 & 18.0981 & 1.69417 & 1974 & 1992 & 19 & 2.94444 & 64.579 & 4.16789 & 1 & 0 & 1 & 6.62804 & 12.0757 & 86 & 1.19e-6 & -13.6437 & 41204 & 479.116 & 6.17194 & 15.7031 & 0 & 0 & 0.0049751 & -5.30331 & 0.2134 & -1.54459 & 1 & 1 \\\\\n",
       "\t14 & 2980 & Egypt 1992-8 & 651 & EGY & 6 & 0 & 1347 & 7.20564 & 1347 & 7.20564 & 1347 & 7.20564 & 53602000 & 17.7971 & 2.51297 & 1992 & 1998 & 7 & 1.94591 & 192.429 & 5.25973 & 0 & 0 & 0 & 7.55643 & 13.2079 & 434 & 8.1e-6 & -11.7241 & 1650000 & 3801.84 & 8.24324 & 13.2483 & 1 & 0.693147 & 0.0440085 & -3.12337 & 0.1128 & -2.18214 & 0 & 1 \\\\\n",
       "\t15 & 1630 & Lebanon 1958 & 660 & LEB & 6 & 0 & 1400 & 7.24423 & 1000 & 6.90775 & 1400 & 7.24423 & 1703000 & 14.3479 & 82.2079 & 1958 & 1958 & 1 & 0 & 1400 & 7.24423 & 1 & 1 & 0 & 7.83598 & 14.4231 & 9 & 5.28e-6 & -12.1507 & 17846 & 1982.89 & 7.59231 & 13.9431 & 57.1 & 4.06217 & 0.134805 & -2.00393 & 0.7534 & -0.283159 & 1 & 1 \\\\\n",
       "\t16 & 1540 & India (Nagaland 1956-9) & 750 & IND & 3 & 1 & 1487 & 7.30452 & 1487 & 7.30452 & 1487 & 7.30452 & 397972992 & 19.8019 & 0.373644 & 1956 & 1959 & 4 & 1.38629 & 371.75 & 5.91822 & 1 & 0 & 1 & 6.51026 & 12.4412 & 391 & 9.82e-7 & -13.8332 & 401830 & 1027.7 & 6.93508 & 15.2228 & 12.9 & 2.63189 & 0.886478 & -0.120499 & 0.3384 & -1.08353 & 1 & 1 \\\\\n",
       "\t17 & 1293 & India (Naxalites 1996-2002) & 750 & IND & 3 & 1 & 1494 & 7.30921 & 1494 & 7.30921 & 1494 & 7.30921 & 929358016 & 20.65 & 0.160756 & 1996 & 2002 & 7 & 1.94591 & 213.429 & 5.3633 & 0 & 0 & 1 & 7.29716 & 11.4149 & 1260 & 1.36e-6 & -13.5111 & 9992000 & 7930.16 & 8.97843 & 16.9864 & 12.9 & 2.63189 & 0.886478 & -0.120499 & 0.3384 & -1.08353 & 1 & 1 \\\\\n",
       "\t18 & 2170 & Sri Lanka (JVP 1971) & 780 & SRI & 3 & 0 & 1630 & 7.39633 & 1260 & 7.13887 & 2000 & 7.6009 & 12516000 & 16.3425 & 13.0233 & 1971 & 1971 & 1 & 0 & 1630 & 7.39633 & 1 & 0 & 1 & 7.12528 & 8.43902 & 10 & 7.99e-7 & -14.0399 & 19411 & 1941.1 & 7.57101 & 14.02 & 7.3 & 2.11626 & 0.467041 & -0.761337 & 0.4762 & -0.741917 & 1 & 1 \\\\\n",
       "\t19 & 2720 & Indonesia (Aceh 1989-91) & 850 & INS & 4 & 1 & 1750 & 7.46737 & 1750 & 7.46737 & 1750 & 7.46737 & 171994000 & 18.963 & 1.01748 & 1989 & 1991 & 3 & 1.09861 & 583.333 & 6.36876 & 0 & 0 & 0 & 7.4553 & 12.6343 & 284 & 1.65e-6 & -13.314 & 1402000 & 4936.62 & 8.50444 & 15.0864 & 10.5 & 2.44235 & 0.764058 & -0.269111 & 0.2216 & -1.50688 & 0 & 1 \\\\\n",
       "\t20 & 1621 & Iraq 1959 & 645 & IRQ & 6 & 0 & 2000 & 7.6009 & 500 & 6.21461 & 2000 & 7.6009 & 6473000 & 15.6831 & 30.8976 & 1959 & 1959 & 1 & 0 & 2000 & 7.6009 & 1 & 0 & 0 & 7.9943 & 14.9788 & 64 & 9.89e-6 & -11.5243 & 86810 & 1356.41 & 7.21259 & 14.8678 & 6 & 1.94591 & 0.362471 & -1.01481 & 0.4922 & -0.70887 & 1 & 1 \\\\\n",
       "\t21 & 1270 & Costa Rica 1948 & 94 & COS & 2 & 0 & 2000 & 7.6009 & 2000 & 7.6009 & 2000 & 7.6009 & 766000 & 13.5489 & 261.097 & 1948 & 1948 & 1 & 0 & 2000 & 7.6009 & 1 & 1 & 1 & 7.19669 & 10.1503 & 1 & 1.31e-6 & -13.5489 & 1411 & 1411 & 7.25205 & 14.8022 & 22.2 & 3.14415 & 0.07109 & -2.64381 & 0.2578 & -1.35557 & 1 & 0 \\\\\n",
       "\t22 & 2210 & Oman (Dhofar Rebellion) & 698 & OMA & 6 & 0 & 2000 & 7.6009 & 500 & 6.21461 & 2000 & 7.6009 & 672000 & 13.418 & 297.619 & 1972 & 1975 & 4 & 1.38629 & 500 & 6.21461 & 1 & 1 & 0 & 8.67999 & 16.9145 & 4 & 5.95e-6 & -12.0317 & 38517 & 9629.25 & 9.17256 & 17.5837 & 2.8 & 1.335 & 0.23702 & -1.43961 & 0.375 & -0.980829 & 1 & 1 \\\\\n",
       "\t23 & 2250 & Chile 1973 & 155 & CHL & 2 & 0 & 2095 & 7.64731 & 2095 & 7.64731 & 2095 & 7.64731 & 9853000 & 16.1033 & 21.2626 & 1973 & 1973 & 1 & 0 & 2095 & 7.64731 & 1 & 0 & 1 & 8.25635 & 15.7849 & 75 & 7.61e-6 & -11.7858 & 300000 & 4000 & 8.29405 & 13.7155 & 57.6 & 4.07073 & 0.140437 & -1.963 & 0.1958 & -1.63066 & 1 & 1 \\\\\n",
       "\t24 & 3190 & Guinea-Bissau 1998-9 & 404 & GNB & 1 & 0 & 2350 & 7.76217 & 1700 & 7.43838 & 3999 & 8.2938 & 1137060 & 13.944 & 206.673 & 1998 & 1999 & 2 & 0.693147 & 1175 & 7.06902 & 0 & 1 & 0 & 6.52883 & 12.3904 & 7 & 6.16e-6 & -11.998 & 8000 & 1142.86 & 7.04129 & 15.1054 & 0 & 0 & 0.803757 & -0.218458 & 0.545 & -0.60697 & 1 & 1 \\\\\n",
       "\t25 & 3120 & Pakistan (MQM 1995-6) & 770 & PAK & 3 & 0 & 2500 & 7.82405 & 2500 & 7.82405 & 2500 & 7.82405 & 119401848 & 18.598 & 2.09377 & 1995 & 1996 & 2 & 0.693147 & 1250 & 7.1309 & 0 & 0 & 1 & 7.27386 & 11.1753 & 580 & 4.86e-6 & -12.235 & 3585000 & 6181.03 & 8.72924 & 16.099 & 43 & 3.78419 & 0.644509 & -0.439267 & 0.3662 & -1.00458 & 1 & 1 \\\\\n",
       "\t26 & 2171 & Sri Lanka (JVP 1989-90) & 780 & SRI & 3 & 0 & 2800 & 7.93738 & 2800 & 7.93738 & 2800 & 7.93738 & 16587000 & 16.6241 & 16.8807 & 1989 & 1990 & 2 & 0.693147 & 1400 & 7.24423 & 0 & 1 & 0 & 7.6148 & 13.4975 & 22 & 1.33e-6 & -13.5331 & 321000 & 14590.9 & 9.58815 & 18.7075 & 7.3 & 2.11626 & 0.467041 & -0.761337 & 0.4762 & -0.741917 & 1 & 1 \\\\\n",
       "\t27 & 1502 & Argentina (ERP, Montoneros 1973-7) & 160 & ARG & 2 & 0 & 2984 & 8.00102 & 2984 & 8.00102 & 2984 & 8.00102 & 24757000 & 17.0246 & 12.0532 & 1973 & 1977 & 5 & 1.60944 & 596.8 & 6.39158 & 1 & 0 & 0 & 8.66734 & 16.8828 & 140 & 5.65e-6 & -12.083 & 426829 & 3048.78 & 8.0225 & -15.4778 & 28.4 & 3.38099 & 0.307319 & -1.17987 & 0.1512 & -1.88915 & 0 & 1 \\\\\n",
       "\t28 & 3172 & Congo-Brazaville 1998-2002 & 484 & CON & 1 & 0 & 2999 & 8.00603 & 2999 & 8.00603 & 3047 & 8.02191 & 2707600 & 14.8116 & 110.762 & 1998 & 2002 & 5 & 1.60944 & 599.8 & 6.3966 & 0 & 1 & 0 & 7.49572 & 12.8765 & 10 & 3.69e-6 & -12.509 & 74000 & 7400 & 8.90924 & 16.7564 & 0 & 0 & 0.657212 & -0.419748 & 0.5192 & -0.655466 & 1 & 1 \\\\\n",
       "\t29 & 2990 & Georgia (Abkhazia) & 372 & GRG & 3 & 1 & 3000 & 8.00637 & 3000 & 8.00637 & 3000 & 8.00637 & 5460000 & 15.513 & 54.9451 & 1992 & 1993 & 2 & 0.693147 & 1500 & 7.31322 & 0 & 1 & 0 & 8.25019 & 15.7672 & 25 & 4.58e-6 & -12.2941 & 850000 & 34000 & 10.4341 & 20.6803 & 60.8 & 4.1239 & 0.49551 & -0.702168 & 0.5454 & -0.606236 & 1 & 1 \\\\\n",
       "\t30 & 2710 & India (Assam) & 750 & IND & 3 & 1 & 3172 & 8.06212 & 2972 & 7.99699 & 3572 & 8.18088 & 815590016 & 20.5194 & 0.388921 & 1989 & 2002 & 14 & 2.63906 & 226.571 & 5.42306 & 0 & 0 & 1 & 7.0934 & 6.7346 & 1360 & 1.67e-6 & -13.3042 & 9590000 & 7051.47 & 8.86099 & 16.5894 & 12.9 & 2.63189 & 0.886478 & -0.120499 & 0.3384 & -1.08353 & 1 & 1 \\\\\n",
       "\t$\\dots$ & $\\dots$ & $\\dots$ & $\\dots$ & $\\dots$ & $\\dots$ & $\\dots$ & $\\dots$ & $\\dots$ & $\\dots$ & $\\dots$ & $\\dots$ & $\\dots$ & $\\dots$ & $\\dots$ & $\\dots$ & $\\dots$ & $\\dots$ & $\\dots$ & $\\dots$ & $\\dots$ & $\\dots$ & $\\dots$ & $\\dots$ & $\\dots$ & $\\dots$ & $\\dots$ & $\\dots$ & $\\dots$ & $\\dots$ & $\\dots$ & $\\dots$ & $\\dots$ & $\\dots$ & $\\dots$ & $\\dots$ & $\\dots$ & $\\dots$ & $\\dots$ & $\\dots$ & $\\dots$ & $\\dots$ \\\\\n",
       "\\end{tabular}\n"
      ],
      "text/plain": [
       "115×41 DataFrame. Omitted printing of 37 columns\n",
       "│ Row │ x1   │ x2                                       │ x3    │ x4    │\n",
       "│     │ \u001b[90mAny\u001b[39m  │ \u001b[90mAny\u001b[39m                                      │ \u001b[90mAny\u001b[39m   │ \u001b[90mAny\u001b[39m   │\n",
       "├─────┼──────┼──────────────────────────────────────────┼───────┼───────┤\n",
       "│ 1   │ ID   │ conflict_name                            │ ccode │ cname │\n",
       "│ 2   │ 1990 │ India (Mizoram)                          │ 750   │ IND   │\n",
       "│ 3   │ 1500 │ Argentina 1955                           │ 160   │ ARG   │\n",
       "│ 4   │ 2770 │ Romania 1989                             │ 360   │ RUM   │\n",
       "│ 5   │ 2970 │ Croatia 1992-5                           │ 344   │ CRO   │\n",
       "│ 6   │ 3000 │ Georgia (South Ossetia)                  │ 372   │ GRG   │\n",
       "│ 7   │ 1911 │ Chad 1997-2002                           │ 483   │ CHA   │\n",
       "│ 8   │ 2721 │ Indonesia (Aceh 1999-2001)               │ 850   │ INS   │\n",
       "│ 9   │ 1180 │ China (Taiwan 1947)                      │ 710   │ SHN   │\n",
       "│ 10  │ 1010 │ Bolivia (Popular Revolutionary Movement) │ 145   │ BOL   │\n",
       "⋮\n",
       "│ 105 │ 2184 │ Uganda 1981-91                           │ 500   │ UGA   │\n",
       "│ 106 │ 1631 │ Lebanon 1975-90                          │ 660   │ LEB   │\n",
       "│ 107 │ 2310 │ Angola (UNITA 1975-95)                   │ 540   │ ANG   │\n",
       "│ 108 │ 1865 │ DRC 1998-2001                            │ 490   │ DRC   │\n",
       "│ 109 │ 1040 │ Greek Civil War                          │ 350   │ GRC   │\n",
       "│ 110 │ 2360 │ Mozambique 1976-1992                     │ 541   │ MZM   │\n",
       "│ 111 │ 1780 │ Ethiopia (Eritrea Indep.)                │ 530   │ ETH   │\n",
       "│ 112 │ 2031 │ Cambodia 1967-75                         │ 811   │ CAM   │\n",
       "│ 113 │ 2370 │ Afghanistan 1978-2000                    │ 700   │ AFG   │\n",
       "│ 114 │ 1030 │ Chinese Civil War                        │ 710   │ CHN   │\n",
       "│ 115 │ 1960 │ Vietnam War                              │ 817   │ RVN   │"
      ]
     },
     "execution_count": 36,
     "metadata": {},
     "output_type": "execute_result"
    }
   ],
   "source": [
    "df2 = DataFrame(mycsv)"
   ]
  },
  {
   "cell_type": "code",
   "execution_count": 37,
   "metadata": {},
   "outputs": [
    {
     "data": {
      "text/html": [
       "<p>DataFrameRow</p><table class=\"data-frame\"><thead><tr><th></th><th>x1</th><th>x2</th><th>x3</th><th>x4</th><th>x5</th><th>x6</th><th>x7</th><th>x8</th><th>x9</th><th>x10</th><th>x11</th><th>x12</th><th>x13</th><th>x14</th><th>x15</th><th>x16</th><th>x17</th><th>x18</th><th>x19</th><th>x20</th><th>x21</th><th>x22</th><th>x23</th><th>x24</th><th>x25</th><th>x26</th><th>x27</th><th>x28</th><th>x29</th><th>x30</th><th>x31</th><th>x32</th><th>x33</th><th>x34</th><th>x35</th><th>x36</th><th>x37</th><th>x38</th><th>x39</th><th>x40</th><th>x41</th></tr><tr><th></th><th>Any</th><th>Any</th><th>Any</th><th>Any</th><th>Any</th><th>Any</th><th>Any</th><th>Any</th><th>Any</th><th>Any</th><th>Any</th><th>Any</th><th>Any</th><th>Any</th><th>Any</th><th>Any</th><th>Any</th><th>Any</th><th>Any</th><th>Any</th><th>Any</th><th>Any</th><th>Any</th><th>Any</th><th>Any</th><th>Any</th><th>Any</th><th>Any</th><th>Any</th><th>Any</th><th>Any</th><th>Any</th><th>Any</th><th>Any</th><th>Any</th><th>Any</th><th>Any</th><th>Any</th><th>Any</th><th>Any</th><th>Any</th></tr></thead><tbody><p>1 rows × 41 columns</p><tr><th>1</th><td>ID</td><td>conflict_name</td><td>ccode</td><td>cname</td><td>region</td><td>secession</td><td>battledeadbest</td><td>lnbdb</td><td>battledeadlow</td><td>lnbdl</td><td>battledeadhigh</td><td>lnbdh</td><td>pop</td><td>lnpop</td><td>dper100k</td><td>begin</td><td>end</td><td>duration</td><td>lnduration</td><td>rate</td><td>lnrate</td><td>cw</td><td>intervention</td><td>democ</td><td>lngdp</td><td>gdpsq</td><td>milper</td><td>milperpop</td><td>lnmilperpop</td><td>milex</td><td>milqual</td><td>lnmilqual</td><td>milq2</td><td>mountain</td><td>lnmountain</td><td>ethfrac</td><td>lnethfrac</td><td>relfrac</td><td>lnrelfrac</td><td>relpolar</td><td>ethnicpolar</td></tr></tbody></table>"
      ],
      "text/latex": [
       "\\begin{tabular}{r|ccccccccccccccccccccccccccccccccccccccccc}\n",
       "\t& x1 & x2 & x3 & x4 & x5 & x6 & x7 & x8 & x9 & x10 & x11 & x12 & x13 & x14 & x15 & x16 & x17 & x18 & x19 & x20 & x21 & x22 & x23 & x24 & x25 & x26 & x27 & x28 & x29 & x30 & x31 & x32 & x33 & x34 & x35 & x36 & x37 & x38 & x39 & x40 & x41\\\\\n",
       "\t\\hline\n",
       "\t& Any & Any & Any & Any & Any & Any & Any & Any & Any & Any & Any & Any & Any & Any & Any & Any & Any & Any & Any & Any & Any & Any & Any & Any & Any & Any & Any & Any & Any & Any & Any & Any & Any & Any & Any & Any & Any & Any & Any & Any & Any\\\\\n",
       "\t\\hline\n",
       "\t1 & ID & conflict\\_name & ccode & cname & region & secession & battledeadbest & lnbdb & battledeadlow & lnbdl & battledeadhigh & lnbdh & pop & lnpop & dper100k & begin & end & duration & lnduration & rate & lnrate & cw & intervention & democ & lngdp & gdpsq & milper & milperpop & lnmilperpop & milex & milqual & lnmilqual & milq2 & mountain & lnmountain & ethfrac & lnethfrac & relfrac & lnrelfrac & relpolar & ethnicpolar \\\\\n",
       "\\end{tabular}\n"
      ],
      "text/plain": [
       "DataFrameRow. Omitted printing of 35 columns\n",
       "│ Row │ x1  │ x2            │ x3    │ x4    │ x5     │ x6        │\n",
       "│     │ \u001b[90mAny\u001b[39m │ \u001b[90mAny\u001b[39m           │ \u001b[90mAny\u001b[39m   │ \u001b[90mAny\u001b[39m   │ \u001b[90mAny\u001b[39m    │ \u001b[90mAny\u001b[39m       │\n",
       "├─────┼─────┼───────────────┼───────┼───────┼────────┼───────────┤\n",
       "│ 1   │ ID  │ conflict_name │ ccode │ cname │ region │ secession │"
      ]
     },
     "execution_count": 37,
     "metadata": {},
     "output_type": "execute_result"
    }
   ],
   "source": [
    "row = df2[1,:]"
   ]
  },
  {
   "cell_type": "code",
   "execution_count": 38,
   "metadata": {},
   "outputs": [
    {
     "data": {
      "text/html": [
       "<table class=\"data-frame\"><thead><tr><th></th><th>ID</th><th>conflict_name</th><th>ccode</th><th>cname</th><th>region</th><th>secession</th><th>battledeadbest</th><th>lnbdb</th><th>battledeadlow</th><th>lnbdl</th><th>battledeadhigh</th><th>lnbdh</th><th>pop</th><th>lnpop</th><th>dper100k</th><th>begin</th><th>end</th><th>duration</th><th>lnduration</th><th>rate</th><th>lnrate</th><th>cw</th><th>intervention</th><th>democ</th><th>lngdp</th><th>gdpsq</th><th>milper</th><th>milperpop</th><th>lnmilperpop</th><th>milex</th><th>milqual</th><th>lnmilqual</th><th>milq2</th><th>mountain</th><th>lnmountain</th><th>ethfrac</th><th>lnethfrac</th><th>relfrac</th><th>lnrelfrac</th><th>relpolar</th><th>ethnicpolar</th></tr><tr><th></th><th>Any</th><th>Any</th><th>Any</th><th>Any</th><th>Any</th><th>Any</th><th>Any</th><th>Any</th><th>Any</th><th>Any</th><th>Any</th><th>Any</th><th>Any</th><th>Any</th><th>Any</th><th>Any</th><th>Any</th><th>Any</th><th>Any</th><th>Any</th><th>Any</th><th>Any</th><th>Any</th><th>Any</th><th>Any</th><th>Any</th><th>Any</th><th>Any</th><th>Any</th><th>Any</th><th>Any</th><th>Any</th><th>Any</th><th>Any</th><th>Any</th><th>Any</th><th>Any</th><th>Any</th><th>Any</th><th>Any</th><th>Any</th></tr></thead><tbody><p>115 rows × 41 columns</p><tr><th>1</th><td>ID</td><td>conflict_name</td><td>ccode</td><td>cname</td><td>region</td><td>secession</td><td>battledeadbest</td><td>lnbdb</td><td>battledeadlow</td><td>lnbdl</td><td>battledeadhigh</td><td>lnbdh</td><td>pop</td><td>lnpop</td><td>dper100k</td><td>begin</td><td>end</td><td>duration</td><td>lnduration</td><td>rate</td><td>lnrate</td><td>cw</td><td>intervention</td><td>democ</td><td>lngdp</td><td>gdpsq</td><td>milper</td><td>milperpop</td><td>lnmilperpop</td><td>milex</td><td>milqual</td><td>lnmilqual</td><td>milq2</td><td>mountain</td><td>lnmountain</td><td>ethfrac</td><td>lnethfrac</td><td>relfrac</td><td>lnrelfrac</td><td>relpolar</td><td>ethnicpolar</td></tr><tr><th>2</th><td>1990</td><td>India (Mizoram)</td><td>750</td><td>IND</td><td>3</td><td>1</td><td>900</td><td>6.80239</td><td>900</td><td>6.80239</td><td>900</td><td>6.80239</td><td>487336992</td><td>20.0045</td><td>0.184677</td><td>1966</td><td>1968</td><td>3</td><td>1.09861</td><td>300</td><td>5.70378</td><td>1</td><td>0</td><td>1</td><td>6.62141</td><td>12.0995</td><td>1220</td><td>2.5e-6</td><td>-12.8979</td><td>1804170</td><td>1478.83</td><td>7.29901</td><td>14.7176</td><td>12.9</td><td>2.63189</td><td>0.886478</td><td>-0.120499</td><td>0.3384</td><td>-1.08353</td><td>1</td><td>1</td></tr><tr><th>3</th><td>1500</td><td>Argentina 1955</td><td>160</td><td>ARG</td><td>2</td><td>0</td><td>900</td><td>6.80239</td><td>900</td><td>6.80239</td><td>900</td><td>6.80239</td><td>18574000</td><td>16.7373</td><td>4.84548</td><td>1955</td><td>1955</td><td>1</td><td>0</td><td>900</td><td>6.80239</td><td>1</td><td>0</td><td>0</td><td>8.28702</td><td>15.8726</td><td>71</td><td>3.82e-6</td><td>-12.4746</td><td>566133</td><td>7973.7</td><td>8.98391</td><td>17.0041</td><td>28.4</td><td>3.38099</td><td>0.307319</td><td>-1.17987</td><td>0.1512</td><td>-1.88915</td><td>0</td><td>1</td></tr><tr><th>4</th><td>2770</td><td>Romania 1989</td><td>360</td><td>RUM</td><td>5</td><td>0</td><td>909</td><td>6.81234</td><td>909</td><td>6.81234</td><td>909</td><td>6.81234</td><td>23054000</td><td>16.9534</td><td>3.94292</td><td>1989</td><td>1989</td><td>1</td><td>0</td><td>909</td><td>6.81234</td><td>0</td><td>0</td><td>0</td><td>7.64444</td><td>13.6357</td><td>220</td><td>9.54e-6</td><td>-11.5597</td><td>809000</td><td>3677.27</td><td>8.20993</td><td>12.8866</td><td>17</td><td>2.89037</td><td>0.252163</td><td>-1.37768</td><td>0.4704</td><td>-0.754172</td><td>1</td><td>1</td></tr><tr><th>5</th><td>2970</td><td>Croatia 1992-5</td><td>344</td><td>CRO</td><td>5</td><td>1</td><td>950</td><td>6.85646</td><td>950</td><td>6.85646</td><td>950</td><td>6.85646</td><td>4782300</td><td>15.3804</td><td>19.8649</td><td>1992</td><td>1995</td><td>4</td><td>1.38629</td><td>237.5</td><td>5.47017</td><td>0</td><td>0</td><td>0</td><td></td><td></td><td>103</td><td>2.15e-5</td><td>-10.7457</td><td>561000</td><td>5446.6</td><td>8.60275</td><td>15.5646</td><td>3.60925</td><td>1.52807</td><td>0.334221</td><td>-1.09595</td><td>0.3828</td><td>-0.960243</td><td>1</td><td>1</td></tr><tr><th>6</th><td>3000</td><td>Georgia (South Ossetia)</td><td>372</td><td>GRG</td><td>3</td><td>1</td><td>950</td><td>6.85646</td><td>950</td><td>6.85646</td><td>950</td><td>6.85646</td><td>5460000</td><td>15.513</td><td>17.3993</td><td>1992</td><td>1992</td><td>1</td><td>0</td><td>950</td><td>6.85646</td><td>0</td><td>1</td><td>0</td><td>8.25019</td><td>15.7672</td><td>25</td><td>4.58e-6</td><td>-12.2941</td><td>850000</td><td>34000</td><td>10.4341</td><td>20.6803</td><td>60.8</td><td>4.1239</td><td>0.49551</td><td>-0.702168</td><td>0.5454</td><td>-0.606236</td><td>1</td><td>1</td></tr><tr><th>7</th><td>1911</td><td>Chad 1997-2002</td><td>483</td><td>CHA</td><td>1</td><td>0</td><td>954</td><td>6.86066</td><td>954</td><td>6.86066</td><td>954</td><td>6.86066</td><td>6937350</td><td>15.7524</td><td>13.7516</td><td>1997</td><td>2002</td><td>6</td><td>1.79176</td><td>159</td><td>5.0689</td><td>0</td><td>0</td><td>0</td><td>5.84192</td><td>13.4442</td><td>40</td><td>5.77e-6</td><td>-12.0635</td><td>40000</td><td>1000</td><td>6.90775</td><td>15.25</td><td>8.5</td><td>2.25129</td><td>0.826273</td><td>-0.19083</td><td>0.625</td><td>-0.470004</td><td>1</td><td>1</td></tr><tr><th>8</th><td>2721</td><td>Indonesia (Aceh 1999-2001)</td><td>850</td><td>INS</td><td>4</td><td>1</td><td>980</td><td>6.88755</td><td>980</td><td>6.88755</td><td>980</td><td>6.88755</td><td>203678368</td><td>19.132</td><td>0.481151</td><td>1999</td><td>2002</td><td>4</td><td>1.38629</td><td>245</td><td>5.50126</td><td>0</td><td>0</td><td>0</td><td>7.75563</td><td>14.1118</td><td>280</td><td>1.37e-6</td><td>-13.4973</td><td>967000</td><td>3453.57</td><td>8.14716</td><td>12.0068</td><td>10.5</td><td>2.44235</td><td>0.764058</td><td>-0.269111</td><td>0.2216</td><td>-1.50688</td><td>0</td><td>1</td></tr><tr><th>9</th><td>1180</td><td>China (Taiwan 1947)</td><td>710</td><td>SHN</td><td>4</td><td>1</td><td>1000</td><td>6.90775</td><td>540</td><td>6.29157</td><td>1000</td><td>6.90775</td><td>553268992</td><td>20.1314</td><td>0.180744</td><td>1947</td><td>1947</td><td>1</td><td>0</td><td>1000</td><td>6.90775</td><td>1</td><td>0</td><td>0</td><td>5.42054</td><td>13.7108</td><td>4158</td><td>7.52e-6</td><td>-11.7986</td><td>789300</td><td>189.827</td><td>5.24611</td><td>15.9164</td><td>37.4</td><td>3.64806</td><td>0.118452</td><td>-2.13324</td><td>0.551</td><td>-0.59602</td><td>1</td><td>0</td></tr><tr><th>10</th><td>1010</td><td>Bolivia (Popular Revolutionary Movement)</td><td>145</td><td>BOL</td><td>2</td><td>0</td><td>1000</td><td>6.90775</td><td>1000</td><td>6.90775</td><td>1000</td><td>6.90775</td><td>2858000</td><td>14.8656</td><td>34.9895</td><td>1946</td><td>1946</td><td>1</td><td>0</td><td>1000</td><td>6.90775</td><td>1</td><td>0</td><td>0</td><td></td><td></td><td>9</td><td>3.15e-6</td><td>-12.6684</td><td>7052</td><td>783.556</td><td>6.66384</td><td>15.4509</td><td>35.9</td><td>3.60821</td><td>0.678133</td><td>-0.388412</td><td>0.095</td><td>-2.35388</td><td>0</td><td>1</td></tr><tr><th>11</th><td>1460</td><td>Indonesia (Darul Islam)</td><td>850</td><td>INS</td><td>4</td><td>0</td><td>1000</td><td>6.90775</td><td>521</td><td>6.25575</td><td>1000</td><td>6.90775</td><td>78081000</td><td>18.1733</td><td>1.28072</td><td>1953</td><td>1953</td><td>1</td><td>0</td><td>1000</td><td>6.90775</td><td>1</td><td>0</td><td>0</td><td>5.96615</td><td>13.3314</td><td>200</td><td>2.56e-6</td><td>-12.8749</td><td>333946</td><td>1669.73</td><td>7.42042</td><td>14.4583</td><td>10.5</td><td>2.44235</td><td>0.764058</td><td>-0.269111</td><td>0.2216</td><td>-1.50688</td><td>0</td><td>1</td></tr><tr><th>12</th><td>2111</td><td>Guinea 2000-1</td><td>438</td><td>GUI</td><td>1</td><td>0</td><td>1100</td><td>7.00307</td><td>418</td><td>6.03548</td><td>1500</td><td>7.31322</td><td>7250500</td><td>15.7966</td><td>15.1714</td><td>2000</td><td>2001</td><td>2</td><td>0.693147</td><td>550</td><td>6.30992</td><td>0</td><td>0</td><td>0</td><td></td><td></td><td>12</td><td>1.66e-6</td><td>-13.3117</td><td>60000</td><td>5000</td><td>8.51719</td><td>15.1524</td><td>3.2</td><td>1.43508</td><td>0.749607</td><td>-0.288206</td><td>0.2262</td><td>-1.48634</td><td>0</td><td>1</td></tr><tr><th>13</th><td>2260</td><td>Bangladesh (Shanti Bahini)</td><td>771</td><td>BNG</td><td>3</td><td>1</td><td>1227</td><td>7.11233</td><td>1227</td><td>7.11233</td><td>1227</td><td>7.11233</td><td>72425000</td><td>18.0981</td><td>1.69417</td><td>1974</td><td>1992</td><td>19</td><td>2.94444</td><td>64.579</td><td>4.16789</td><td>1</td><td>0</td><td>1</td><td>6.62804</td><td>12.0757</td><td>86</td><td>1.19e-6</td><td>-13.6437</td><td>41204</td><td>479.116</td><td>6.17194</td><td>15.7031</td><td>0</td><td>0</td><td>0.0049751</td><td>-5.30331</td><td>0.2134</td><td>-1.54459</td><td>1</td><td>1</td></tr><tr><th>14</th><td>2980</td><td>Egypt 1992-8</td><td>651</td><td>EGY</td><td>6</td><td>0</td><td>1347</td><td>7.20564</td><td>1347</td><td>7.20564</td><td>1347</td><td>7.20564</td><td>53602000</td><td>17.7971</td><td>2.51297</td><td>1992</td><td>1998</td><td>7</td><td>1.94591</td><td>192.429</td><td>5.25973</td><td>0</td><td>0</td><td>0</td><td>7.55643</td><td>13.2079</td><td>434</td><td>8.1e-6</td><td>-11.7241</td><td>1650000</td><td>3801.84</td><td>8.24324</td><td>13.2483</td><td>1</td><td>0.693147</td><td>0.0440085</td><td>-3.12337</td><td>0.1128</td><td>-2.18214</td><td>0</td><td>1</td></tr><tr><th>15</th><td>1630</td><td>Lebanon 1958</td><td>660</td><td>LEB</td><td>6</td><td>0</td><td>1400</td><td>7.24423</td><td>1000</td><td>6.90775</td><td>1400</td><td>7.24423</td><td>1703000</td><td>14.3479</td><td>82.2079</td><td>1958</td><td>1958</td><td>1</td><td>0</td><td>1400</td><td>7.24423</td><td>1</td><td>1</td><td>0</td><td>7.83598</td><td>14.4231</td><td>9</td><td>5.28e-6</td><td>-12.1507</td><td>17846</td><td>1982.89</td><td>7.59231</td><td>13.9431</td><td>57.1</td><td>4.06217</td><td>0.134805</td><td>-2.00393</td><td>0.7534</td><td>-0.283159</td><td>1</td><td>1</td></tr><tr><th>16</th><td>1540</td><td>India (Nagaland 1956-9)</td><td>750</td><td>IND</td><td>3</td><td>1</td><td>1487</td><td>7.30452</td><td>1487</td><td>7.30452</td><td>1487</td><td>7.30452</td><td>397972992</td><td>19.8019</td><td>0.373644</td><td>1956</td><td>1959</td><td>4</td><td>1.38629</td><td>371.75</td><td>5.91822</td><td>1</td><td>0</td><td>1</td><td>6.51026</td><td>12.4412</td><td>391</td><td>9.82e-7</td><td>-13.8332</td><td>401830</td><td>1027.7</td><td>6.93508</td><td>15.2228</td><td>12.9</td><td>2.63189</td><td>0.886478</td><td>-0.120499</td><td>0.3384</td><td>-1.08353</td><td>1</td><td>1</td></tr><tr><th>17</th><td>1293</td><td>India (Naxalites 1996-2002)</td><td>750</td><td>IND</td><td>3</td><td>1</td><td>1494</td><td>7.30921</td><td>1494</td><td>7.30921</td><td>1494</td><td>7.30921</td><td>929358016</td><td>20.65</td><td>0.160756</td><td>1996</td><td>2002</td><td>7</td><td>1.94591</td><td>213.429</td><td>5.3633</td><td>0</td><td>0</td><td>1</td><td>7.29716</td><td>11.4149</td><td>1260</td><td>1.36e-6</td><td>-13.5111</td><td>9992000</td><td>7930.16</td><td>8.97843</td><td>16.9864</td><td>12.9</td><td>2.63189</td><td>0.886478</td><td>-0.120499</td><td>0.3384</td><td>-1.08353</td><td>1</td><td>1</td></tr><tr><th>18</th><td>2170</td><td>Sri Lanka (JVP 1971)</td><td>780</td><td>SRI</td><td>3</td><td>0</td><td>1630</td><td>7.39633</td><td>1260</td><td>7.13887</td><td>2000</td><td>7.6009</td><td>12516000</td><td>16.3425</td><td>13.0233</td><td>1971</td><td>1971</td><td>1</td><td>0</td><td>1630</td><td>7.39633</td><td>1</td><td>0</td><td>1</td><td>7.12528</td><td>8.43902</td><td>10</td><td>7.99e-7</td><td>-14.0399</td><td>19411</td><td>1941.1</td><td>7.57101</td><td>14.02</td><td>7.3</td><td>2.11626</td><td>0.467041</td><td>-0.761337</td><td>0.4762</td><td>-0.741917</td><td>1</td><td>1</td></tr><tr><th>19</th><td>2720</td><td>Indonesia (Aceh 1989-91)</td><td>850</td><td>INS</td><td>4</td><td>1</td><td>1750</td><td>7.46737</td><td>1750</td><td>7.46737</td><td>1750</td><td>7.46737</td><td>171994000</td><td>18.963</td><td>1.01748</td><td>1989</td><td>1991</td><td>3</td><td>1.09861</td><td>583.333</td><td>6.36876</td><td>0</td><td>0</td><td>0</td><td>7.4553</td><td>12.6343</td><td>284</td><td>1.65e-6</td><td>-13.314</td><td>1402000</td><td>4936.62</td><td>8.50444</td><td>15.0864</td><td>10.5</td><td>2.44235</td><td>0.764058</td><td>-0.269111</td><td>0.2216</td><td>-1.50688</td><td>0</td><td>1</td></tr><tr><th>20</th><td>1621</td><td>Iraq 1959</td><td>645</td><td>IRQ</td><td>6</td><td>0</td><td>2000</td><td>7.6009</td><td>500</td><td>6.21461</td><td>2000</td><td>7.6009</td><td>6473000</td><td>15.6831</td><td>30.8976</td><td>1959</td><td>1959</td><td>1</td><td>0</td><td>2000</td><td>7.6009</td><td>1</td><td>0</td><td>0</td><td>7.9943</td><td>14.9788</td><td>64</td><td>9.89e-6</td><td>-11.5243</td><td>86810</td><td>1356.41</td><td>7.21259</td><td>14.8678</td><td>6</td><td>1.94591</td><td>0.362471</td><td>-1.01481</td><td>0.4922</td><td>-0.70887</td><td>1</td><td>1</td></tr><tr><th>21</th><td>1270</td><td>Costa Rica 1948</td><td>94</td><td>COS</td><td>2</td><td>0</td><td>2000</td><td>7.6009</td><td>2000</td><td>7.6009</td><td>2000</td><td>7.6009</td><td>766000</td><td>13.5489</td><td>261.097</td><td>1948</td><td>1948</td><td>1</td><td>0</td><td>2000</td><td>7.6009</td><td>1</td><td>1</td><td>1</td><td>7.19669</td><td>10.1503</td><td>1</td><td>1.31e-6</td><td>-13.5489</td><td>1411</td><td>1411</td><td>7.25205</td><td>14.8022</td><td>22.2</td><td>3.14415</td><td>0.07109</td><td>-2.64381</td><td>0.2578</td><td>-1.35557</td><td>1</td><td>0</td></tr><tr><th>22</th><td>2210</td><td>Oman (Dhofar Rebellion)</td><td>698</td><td>OMA</td><td>6</td><td>0</td><td>2000</td><td>7.6009</td><td>500</td><td>6.21461</td><td>2000</td><td>7.6009</td><td>672000</td><td>13.418</td><td>297.619</td><td>1972</td><td>1975</td><td>4</td><td>1.38629</td><td>500</td><td>6.21461</td><td>1</td><td>1</td><td>0</td><td>8.67999</td><td>16.9145</td><td>4</td><td>5.95e-6</td><td>-12.0317</td><td>38517</td><td>9629.25</td><td>9.17256</td><td>17.5837</td><td>2.8</td><td>1.335</td><td>0.23702</td><td>-1.43961</td><td>0.375</td><td>-0.980829</td><td>1</td><td>1</td></tr><tr><th>23</th><td>2250</td><td>Chile 1973</td><td>155</td><td>CHL</td><td>2</td><td>0</td><td>2095</td><td>7.64731</td><td>2095</td><td>7.64731</td><td>2095</td><td>7.64731</td><td>9853000</td><td>16.1033</td><td>21.2626</td><td>1973</td><td>1973</td><td>1</td><td>0</td><td>2095</td><td>7.64731</td><td>1</td><td>0</td><td>1</td><td>8.25635</td><td>15.7849</td><td>75</td><td>7.61e-6</td><td>-11.7858</td><td>300000</td><td>4000</td><td>8.29405</td><td>13.7155</td><td>57.6</td><td>4.07073</td><td>0.140437</td><td>-1.963</td><td>0.1958</td><td>-1.63066</td><td>1</td><td>1</td></tr><tr><th>24</th><td>3190</td><td>Guinea-Bissau 1998-9</td><td>404</td><td>GNB</td><td>1</td><td>0</td><td>2350</td><td>7.76217</td><td>1700</td><td>7.43838</td><td>3999</td><td>8.2938</td><td>1137060</td><td>13.944</td><td>206.673</td><td>1998</td><td>1999</td><td>2</td><td>0.693147</td><td>1175</td><td>7.06902</td><td>0</td><td>1</td><td>0</td><td>6.52883</td><td>12.3904</td><td>7</td><td>6.16e-6</td><td>-11.998</td><td>8000</td><td>1142.86</td><td>7.04129</td><td>15.1054</td><td>0</td><td>0</td><td>0.803757</td><td>-0.218458</td><td>0.545</td><td>-0.60697</td><td>1</td><td>1</td></tr><tr><th>25</th><td>3120</td><td>Pakistan (MQM 1995-6)</td><td>770</td><td>PAK</td><td>3</td><td>0</td><td>2500</td><td>7.82405</td><td>2500</td><td>7.82405</td><td>2500</td><td>7.82405</td><td>119401848</td><td>18.598</td><td>2.09377</td><td>1995</td><td>1996</td><td>2</td><td>0.693147</td><td>1250</td><td>7.1309</td><td>0</td><td>0</td><td>1</td><td>7.27386</td><td>11.1753</td><td>580</td><td>4.86e-6</td><td>-12.235</td><td>3585000</td><td>6181.03</td><td>8.72924</td><td>16.099</td><td>43</td><td>3.78419</td><td>0.644509</td><td>-0.439267</td><td>0.3662</td><td>-1.00458</td><td>1</td><td>1</td></tr><tr><th>26</th><td>2171</td><td>Sri Lanka (JVP 1989-90)</td><td>780</td><td>SRI</td><td>3</td><td>0</td><td>2800</td><td>7.93738</td><td>2800</td><td>7.93738</td><td>2800</td><td>7.93738</td><td>16587000</td><td>16.6241</td><td>16.8807</td><td>1989</td><td>1990</td><td>2</td><td>0.693147</td><td>1400</td><td>7.24423</td><td>0</td><td>1</td><td>0</td><td>7.6148</td><td>13.4975</td><td>22</td><td>1.33e-6</td><td>-13.5331</td><td>321000</td><td>14590.9</td><td>9.58815</td><td>18.7075</td><td>7.3</td><td>2.11626</td><td>0.467041</td><td>-0.761337</td><td>0.4762</td><td>-0.741917</td><td>1</td><td>1</td></tr><tr><th>27</th><td>1502</td><td>Argentina (ERP, Montoneros 1973-7)</td><td>160</td><td>ARG</td><td>2</td><td>0</td><td>2984</td><td>8.00102</td><td>2984</td><td>8.00102</td><td>2984</td><td>8.00102</td><td>24757000</td><td>17.0246</td><td>12.0532</td><td>1973</td><td>1977</td><td>5</td><td>1.60944</td><td>596.8</td><td>6.39158</td><td>1</td><td>0</td><td>0</td><td>8.66734</td><td>16.8828</td><td>140</td><td>5.65e-6</td><td>-12.083</td><td>426829</td><td>3048.78</td><td>8.0225</td><td>-15.4778</td><td>28.4</td><td>3.38099</td><td>0.307319</td><td>-1.17987</td><td>0.1512</td><td>-1.88915</td><td>0</td><td>1</td></tr><tr><th>28</th><td>3172</td><td>Congo-Brazaville 1998-2002</td><td>484</td><td>CON</td><td>1</td><td>0</td><td>2999</td><td>8.00603</td><td>2999</td><td>8.00603</td><td>3047</td><td>8.02191</td><td>2707600</td><td>14.8116</td><td>110.762</td><td>1998</td><td>2002</td><td>5</td><td>1.60944</td><td>599.8</td><td>6.3966</td><td>0</td><td>1</td><td>0</td><td>7.49572</td><td>12.8765</td><td>10</td><td>3.69e-6</td><td>-12.509</td><td>74000</td><td>7400</td><td>8.90924</td><td>16.7564</td><td>0</td><td>0</td><td>0.657212</td><td>-0.419748</td><td>0.5192</td><td>-0.655466</td><td>1</td><td>1</td></tr><tr><th>29</th><td>2990</td><td>Georgia (Abkhazia)</td><td>372</td><td>GRG</td><td>3</td><td>1</td><td>3000</td><td>8.00637</td><td>3000</td><td>8.00637</td><td>3000</td><td>8.00637</td><td>5460000</td><td>15.513</td><td>54.9451</td><td>1992</td><td>1993</td><td>2</td><td>0.693147</td><td>1500</td><td>7.31322</td><td>0</td><td>1</td><td>0</td><td>8.25019</td><td>15.7672</td><td>25</td><td>4.58e-6</td><td>-12.2941</td><td>850000</td><td>34000</td><td>10.4341</td><td>20.6803</td><td>60.8</td><td>4.1239</td><td>0.49551</td><td>-0.702168</td><td>0.5454</td><td>-0.606236</td><td>1</td><td>1</td></tr><tr><th>30</th><td>2710</td><td>India (Assam)</td><td>750</td><td>IND</td><td>3</td><td>1</td><td>3172</td><td>8.06212</td><td>2972</td><td>7.99699</td><td>3572</td><td>8.18088</td><td>815590016</td><td>20.5194</td><td>0.388921</td><td>1989</td><td>2002</td><td>14</td><td>2.63906</td><td>226.571</td><td>5.42306</td><td>0</td><td>0</td><td>1</td><td>7.0934</td><td>6.7346</td><td>1360</td><td>1.67e-6</td><td>-13.3042</td><td>9590000</td><td>7051.47</td><td>8.86099</td><td>16.5894</td><td>12.9</td><td>2.63189</td><td>0.886478</td><td>-0.120499</td><td>0.3384</td><td>-1.08353</td><td>1</td><td>1</td></tr><tr><th>&vellip;</th><td>&vellip;</td><td>&vellip;</td><td>&vellip;</td><td>&vellip;</td><td>&vellip;</td><td>&vellip;</td><td>&vellip;</td><td>&vellip;</td><td>&vellip;</td><td>&vellip;</td><td>&vellip;</td><td>&vellip;</td><td>&vellip;</td><td>&vellip;</td><td>&vellip;</td><td>&vellip;</td><td>&vellip;</td><td>&vellip;</td><td>&vellip;</td><td>&vellip;</td><td>&vellip;</td><td>&vellip;</td><td>&vellip;</td><td>&vellip;</td><td>&vellip;</td><td>&vellip;</td><td>&vellip;</td><td>&vellip;</td><td>&vellip;</td><td>&vellip;</td><td>&vellip;</td><td>&vellip;</td><td>&vellip;</td><td>&vellip;</td><td>&vellip;</td><td>&vellip;</td><td>&vellip;</td><td>&vellip;</td><td>&vellip;</td><td>&vellip;</td><td>&vellip;</td></tr></tbody></table>"
      ],
      "text/latex": [
       "\\begin{tabular}{r|ccccccccccccccccccccccccccccccccccccccccc}\n",
       "\t& ID & conflict\\_name & ccode & cname & region & secession & battledeadbest & lnbdb & battledeadlow & lnbdl & battledeadhigh & lnbdh & pop & lnpop & dper100k & begin & end & duration & lnduration & rate & lnrate & cw & intervention & democ & lngdp & gdpsq & milper & milperpop & lnmilperpop & milex & milqual & lnmilqual & milq2 & mountain & lnmountain & ethfrac & lnethfrac & relfrac & lnrelfrac & relpolar & ethnicpolar\\\\\n",
       "\t\\hline\n",
       "\t& Any & Any & Any & Any & Any & Any & Any & Any & Any & Any & Any & Any & Any & Any & Any & Any & Any & Any & Any & Any & Any & Any & Any & Any & Any & Any & Any & Any & Any & Any & Any & Any & Any & Any & Any & Any & Any & Any & Any & Any & Any\\\\\n",
       "\t\\hline\n",
       "\t1 & ID & conflict\\_name & ccode & cname & region & secession & battledeadbest & lnbdb & battledeadlow & lnbdl & battledeadhigh & lnbdh & pop & lnpop & dper100k & begin & end & duration & lnduration & rate & lnrate & cw & intervention & democ & lngdp & gdpsq & milper & milperpop & lnmilperpop & milex & milqual & lnmilqual & milq2 & mountain & lnmountain & ethfrac & lnethfrac & relfrac & lnrelfrac & relpolar & ethnicpolar \\\\\n",
       "\t2 & 1990 & India (Mizoram) & 750 & IND & 3 & 1 & 900 & 6.80239 & 900 & 6.80239 & 900 & 6.80239 & 487336992 & 20.0045 & 0.184677 & 1966 & 1968 & 3 & 1.09861 & 300 & 5.70378 & 1 & 0 & 1 & 6.62141 & 12.0995 & 1220 & 2.5e-6 & -12.8979 & 1804170 & 1478.83 & 7.29901 & 14.7176 & 12.9 & 2.63189 & 0.886478 & -0.120499 & 0.3384 & -1.08353 & 1 & 1 \\\\\n",
       "\t3 & 1500 & Argentina 1955 & 160 & ARG & 2 & 0 & 900 & 6.80239 & 900 & 6.80239 & 900 & 6.80239 & 18574000 & 16.7373 & 4.84548 & 1955 & 1955 & 1 & 0 & 900 & 6.80239 & 1 & 0 & 0 & 8.28702 & 15.8726 & 71 & 3.82e-6 & -12.4746 & 566133 & 7973.7 & 8.98391 & 17.0041 & 28.4 & 3.38099 & 0.307319 & -1.17987 & 0.1512 & -1.88915 & 0 & 1 \\\\\n",
       "\t4 & 2770 & Romania 1989 & 360 & RUM & 5 & 0 & 909 & 6.81234 & 909 & 6.81234 & 909 & 6.81234 & 23054000 & 16.9534 & 3.94292 & 1989 & 1989 & 1 & 0 & 909 & 6.81234 & 0 & 0 & 0 & 7.64444 & 13.6357 & 220 & 9.54e-6 & -11.5597 & 809000 & 3677.27 & 8.20993 & 12.8866 & 17 & 2.89037 & 0.252163 & -1.37768 & 0.4704 & -0.754172 & 1 & 1 \\\\\n",
       "\t5 & 2970 & Croatia 1992-5 & 344 & CRO & 5 & 1 & 950 & 6.85646 & 950 & 6.85646 & 950 & 6.85646 & 4782300 & 15.3804 & 19.8649 & 1992 & 1995 & 4 & 1.38629 & 237.5 & 5.47017 & 0 & 0 & 0 &  &  & 103 & 2.15e-5 & -10.7457 & 561000 & 5446.6 & 8.60275 & 15.5646 & 3.60925 & 1.52807 & 0.334221 & -1.09595 & 0.3828 & -0.960243 & 1 & 1 \\\\\n",
       "\t6 & 3000 & Georgia (South Ossetia) & 372 & GRG & 3 & 1 & 950 & 6.85646 & 950 & 6.85646 & 950 & 6.85646 & 5460000 & 15.513 & 17.3993 & 1992 & 1992 & 1 & 0 & 950 & 6.85646 & 0 & 1 & 0 & 8.25019 & 15.7672 & 25 & 4.58e-6 & -12.2941 & 850000 & 34000 & 10.4341 & 20.6803 & 60.8 & 4.1239 & 0.49551 & -0.702168 & 0.5454 & -0.606236 & 1 & 1 \\\\\n",
       "\t7 & 1911 & Chad 1997-2002 & 483 & CHA & 1 & 0 & 954 & 6.86066 & 954 & 6.86066 & 954 & 6.86066 & 6937350 & 15.7524 & 13.7516 & 1997 & 2002 & 6 & 1.79176 & 159 & 5.0689 & 0 & 0 & 0 & 5.84192 & 13.4442 & 40 & 5.77e-6 & -12.0635 & 40000 & 1000 & 6.90775 & 15.25 & 8.5 & 2.25129 & 0.826273 & -0.19083 & 0.625 & -0.470004 & 1 & 1 \\\\\n",
       "\t8 & 2721 & Indonesia (Aceh 1999-2001) & 850 & INS & 4 & 1 & 980 & 6.88755 & 980 & 6.88755 & 980 & 6.88755 & 203678368 & 19.132 & 0.481151 & 1999 & 2002 & 4 & 1.38629 & 245 & 5.50126 & 0 & 0 & 0 & 7.75563 & 14.1118 & 280 & 1.37e-6 & -13.4973 & 967000 & 3453.57 & 8.14716 & 12.0068 & 10.5 & 2.44235 & 0.764058 & -0.269111 & 0.2216 & -1.50688 & 0 & 1 \\\\\n",
       "\t9 & 1180 & China (Taiwan 1947) & 710 & SHN & 4 & 1 & 1000 & 6.90775 & 540 & 6.29157 & 1000 & 6.90775 & 553268992 & 20.1314 & 0.180744 & 1947 & 1947 & 1 & 0 & 1000 & 6.90775 & 1 & 0 & 0 & 5.42054 & 13.7108 & 4158 & 7.52e-6 & -11.7986 & 789300 & 189.827 & 5.24611 & 15.9164 & 37.4 & 3.64806 & 0.118452 & -2.13324 & 0.551 & -0.59602 & 1 & 0 \\\\\n",
       "\t10 & 1010 & Bolivia (Popular Revolutionary Movement) & 145 & BOL & 2 & 0 & 1000 & 6.90775 & 1000 & 6.90775 & 1000 & 6.90775 & 2858000 & 14.8656 & 34.9895 & 1946 & 1946 & 1 & 0 & 1000 & 6.90775 & 1 & 0 & 0 &  &  & 9 & 3.15e-6 & -12.6684 & 7052 & 783.556 & 6.66384 & 15.4509 & 35.9 & 3.60821 & 0.678133 & -0.388412 & 0.095 & -2.35388 & 0 & 1 \\\\\n",
       "\t11 & 1460 & Indonesia (Darul Islam) & 850 & INS & 4 & 0 & 1000 & 6.90775 & 521 & 6.25575 & 1000 & 6.90775 & 78081000 & 18.1733 & 1.28072 & 1953 & 1953 & 1 & 0 & 1000 & 6.90775 & 1 & 0 & 0 & 5.96615 & 13.3314 & 200 & 2.56e-6 & -12.8749 & 333946 & 1669.73 & 7.42042 & 14.4583 & 10.5 & 2.44235 & 0.764058 & -0.269111 & 0.2216 & -1.50688 & 0 & 1 \\\\\n",
       "\t12 & 2111 & Guinea 2000-1 & 438 & GUI & 1 & 0 & 1100 & 7.00307 & 418 & 6.03548 & 1500 & 7.31322 & 7250500 & 15.7966 & 15.1714 & 2000 & 2001 & 2 & 0.693147 & 550 & 6.30992 & 0 & 0 & 0 &  &  & 12 & 1.66e-6 & -13.3117 & 60000 & 5000 & 8.51719 & 15.1524 & 3.2 & 1.43508 & 0.749607 & -0.288206 & 0.2262 & -1.48634 & 0 & 1 \\\\\n",
       "\t13 & 2260 & Bangladesh (Shanti Bahini) & 771 & BNG & 3 & 1 & 1227 & 7.11233 & 1227 & 7.11233 & 1227 & 7.11233 & 72425000 & 18.0981 & 1.69417 & 1974 & 1992 & 19 & 2.94444 & 64.579 & 4.16789 & 1 & 0 & 1 & 6.62804 & 12.0757 & 86 & 1.19e-6 & -13.6437 & 41204 & 479.116 & 6.17194 & 15.7031 & 0 & 0 & 0.0049751 & -5.30331 & 0.2134 & -1.54459 & 1 & 1 \\\\\n",
       "\t14 & 2980 & Egypt 1992-8 & 651 & EGY & 6 & 0 & 1347 & 7.20564 & 1347 & 7.20564 & 1347 & 7.20564 & 53602000 & 17.7971 & 2.51297 & 1992 & 1998 & 7 & 1.94591 & 192.429 & 5.25973 & 0 & 0 & 0 & 7.55643 & 13.2079 & 434 & 8.1e-6 & -11.7241 & 1650000 & 3801.84 & 8.24324 & 13.2483 & 1 & 0.693147 & 0.0440085 & -3.12337 & 0.1128 & -2.18214 & 0 & 1 \\\\\n",
       "\t15 & 1630 & Lebanon 1958 & 660 & LEB & 6 & 0 & 1400 & 7.24423 & 1000 & 6.90775 & 1400 & 7.24423 & 1703000 & 14.3479 & 82.2079 & 1958 & 1958 & 1 & 0 & 1400 & 7.24423 & 1 & 1 & 0 & 7.83598 & 14.4231 & 9 & 5.28e-6 & -12.1507 & 17846 & 1982.89 & 7.59231 & 13.9431 & 57.1 & 4.06217 & 0.134805 & -2.00393 & 0.7534 & -0.283159 & 1 & 1 \\\\\n",
       "\t16 & 1540 & India (Nagaland 1956-9) & 750 & IND & 3 & 1 & 1487 & 7.30452 & 1487 & 7.30452 & 1487 & 7.30452 & 397972992 & 19.8019 & 0.373644 & 1956 & 1959 & 4 & 1.38629 & 371.75 & 5.91822 & 1 & 0 & 1 & 6.51026 & 12.4412 & 391 & 9.82e-7 & -13.8332 & 401830 & 1027.7 & 6.93508 & 15.2228 & 12.9 & 2.63189 & 0.886478 & -0.120499 & 0.3384 & -1.08353 & 1 & 1 \\\\\n",
       "\t17 & 1293 & India (Naxalites 1996-2002) & 750 & IND & 3 & 1 & 1494 & 7.30921 & 1494 & 7.30921 & 1494 & 7.30921 & 929358016 & 20.65 & 0.160756 & 1996 & 2002 & 7 & 1.94591 & 213.429 & 5.3633 & 0 & 0 & 1 & 7.29716 & 11.4149 & 1260 & 1.36e-6 & -13.5111 & 9992000 & 7930.16 & 8.97843 & 16.9864 & 12.9 & 2.63189 & 0.886478 & -0.120499 & 0.3384 & -1.08353 & 1 & 1 \\\\\n",
       "\t18 & 2170 & Sri Lanka (JVP 1971) & 780 & SRI & 3 & 0 & 1630 & 7.39633 & 1260 & 7.13887 & 2000 & 7.6009 & 12516000 & 16.3425 & 13.0233 & 1971 & 1971 & 1 & 0 & 1630 & 7.39633 & 1 & 0 & 1 & 7.12528 & 8.43902 & 10 & 7.99e-7 & -14.0399 & 19411 & 1941.1 & 7.57101 & 14.02 & 7.3 & 2.11626 & 0.467041 & -0.761337 & 0.4762 & -0.741917 & 1 & 1 \\\\\n",
       "\t19 & 2720 & Indonesia (Aceh 1989-91) & 850 & INS & 4 & 1 & 1750 & 7.46737 & 1750 & 7.46737 & 1750 & 7.46737 & 171994000 & 18.963 & 1.01748 & 1989 & 1991 & 3 & 1.09861 & 583.333 & 6.36876 & 0 & 0 & 0 & 7.4553 & 12.6343 & 284 & 1.65e-6 & -13.314 & 1402000 & 4936.62 & 8.50444 & 15.0864 & 10.5 & 2.44235 & 0.764058 & -0.269111 & 0.2216 & -1.50688 & 0 & 1 \\\\\n",
       "\t20 & 1621 & Iraq 1959 & 645 & IRQ & 6 & 0 & 2000 & 7.6009 & 500 & 6.21461 & 2000 & 7.6009 & 6473000 & 15.6831 & 30.8976 & 1959 & 1959 & 1 & 0 & 2000 & 7.6009 & 1 & 0 & 0 & 7.9943 & 14.9788 & 64 & 9.89e-6 & -11.5243 & 86810 & 1356.41 & 7.21259 & 14.8678 & 6 & 1.94591 & 0.362471 & -1.01481 & 0.4922 & -0.70887 & 1 & 1 \\\\\n",
       "\t21 & 1270 & Costa Rica 1948 & 94 & COS & 2 & 0 & 2000 & 7.6009 & 2000 & 7.6009 & 2000 & 7.6009 & 766000 & 13.5489 & 261.097 & 1948 & 1948 & 1 & 0 & 2000 & 7.6009 & 1 & 1 & 1 & 7.19669 & 10.1503 & 1 & 1.31e-6 & -13.5489 & 1411 & 1411 & 7.25205 & 14.8022 & 22.2 & 3.14415 & 0.07109 & -2.64381 & 0.2578 & -1.35557 & 1 & 0 \\\\\n",
       "\t22 & 2210 & Oman (Dhofar Rebellion) & 698 & OMA & 6 & 0 & 2000 & 7.6009 & 500 & 6.21461 & 2000 & 7.6009 & 672000 & 13.418 & 297.619 & 1972 & 1975 & 4 & 1.38629 & 500 & 6.21461 & 1 & 1 & 0 & 8.67999 & 16.9145 & 4 & 5.95e-6 & -12.0317 & 38517 & 9629.25 & 9.17256 & 17.5837 & 2.8 & 1.335 & 0.23702 & -1.43961 & 0.375 & -0.980829 & 1 & 1 \\\\\n",
       "\t23 & 2250 & Chile 1973 & 155 & CHL & 2 & 0 & 2095 & 7.64731 & 2095 & 7.64731 & 2095 & 7.64731 & 9853000 & 16.1033 & 21.2626 & 1973 & 1973 & 1 & 0 & 2095 & 7.64731 & 1 & 0 & 1 & 8.25635 & 15.7849 & 75 & 7.61e-6 & -11.7858 & 300000 & 4000 & 8.29405 & 13.7155 & 57.6 & 4.07073 & 0.140437 & -1.963 & 0.1958 & -1.63066 & 1 & 1 \\\\\n",
       "\t24 & 3190 & Guinea-Bissau 1998-9 & 404 & GNB & 1 & 0 & 2350 & 7.76217 & 1700 & 7.43838 & 3999 & 8.2938 & 1137060 & 13.944 & 206.673 & 1998 & 1999 & 2 & 0.693147 & 1175 & 7.06902 & 0 & 1 & 0 & 6.52883 & 12.3904 & 7 & 6.16e-6 & -11.998 & 8000 & 1142.86 & 7.04129 & 15.1054 & 0 & 0 & 0.803757 & -0.218458 & 0.545 & -0.60697 & 1 & 1 \\\\\n",
       "\t25 & 3120 & Pakistan (MQM 1995-6) & 770 & PAK & 3 & 0 & 2500 & 7.82405 & 2500 & 7.82405 & 2500 & 7.82405 & 119401848 & 18.598 & 2.09377 & 1995 & 1996 & 2 & 0.693147 & 1250 & 7.1309 & 0 & 0 & 1 & 7.27386 & 11.1753 & 580 & 4.86e-6 & -12.235 & 3585000 & 6181.03 & 8.72924 & 16.099 & 43 & 3.78419 & 0.644509 & -0.439267 & 0.3662 & -1.00458 & 1 & 1 \\\\\n",
       "\t26 & 2171 & Sri Lanka (JVP 1989-90) & 780 & SRI & 3 & 0 & 2800 & 7.93738 & 2800 & 7.93738 & 2800 & 7.93738 & 16587000 & 16.6241 & 16.8807 & 1989 & 1990 & 2 & 0.693147 & 1400 & 7.24423 & 0 & 1 & 0 & 7.6148 & 13.4975 & 22 & 1.33e-6 & -13.5331 & 321000 & 14590.9 & 9.58815 & 18.7075 & 7.3 & 2.11626 & 0.467041 & -0.761337 & 0.4762 & -0.741917 & 1 & 1 \\\\\n",
       "\t27 & 1502 & Argentina (ERP, Montoneros 1973-7) & 160 & ARG & 2 & 0 & 2984 & 8.00102 & 2984 & 8.00102 & 2984 & 8.00102 & 24757000 & 17.0246 & 12.0532 & 1973 & 1977 & 5 & 1.60944 & 596.8 & 6.39158 & 1 & 0 & 0 & 8.66734 & 16.8828 & 140 & 5.65e-6 & -12.083 & 426829 & 3048.78 & 8.0225 & -15.4778 & 28.4 & 3.38099 & 0.307319 & -1.17987 & 0.1512 & -1.88915 & 0 & 1 \\\\\n",
       "\t28 & 3172 & Congo-Brazaville 1998-2002 & 484 & CON & 1 & 0 & 2999 & 8.00603 & 2999 & 8.00603 & 3047 & 8.02191 & 2707600 & 14.8116 & 110.762 & 1998 & 2002 & 5 & 1.60944 & 599.8 & 6.3966 & 0 & 1 & 0 & 7.49572 & 12.8765 & 10 & 3.69e-6 & -12.509 & 74000 & 7400 & 8.90924 & 16.7564 & 0 & 0 & 0.657212 & -0.419748 & 0.5192 & -0.655466 & 1 & 1 \\\\\n",
       "\t29 & 2990 & Georgia (Abkhazia) & 372 & GRG & 3 & 1 & 3000 & 8.00637 & 3000 & 8.00637 & 3000 & 8.00637 & 5460000 & 15.513 & 54.9451 & 1992 & 1993 & 2 & 0.693147 & 1500 & 7.31322 & 0 & 1 & 0 & 8.25019 & 15.7672 & 25 & 4.58e-6 & -12.2941 & 850000 & 34000 & 10.4341 & 20.6803 & 60.8 & 4.1239 & 0.49551 & -0.702168 & 0.5454 & -0.606236 & 1 & 1 \\\\\n",
       "\t30 & 2710 & India (Assam) & 750 & IND & 3 & 1 & 3172 & 8.06212 & 2972 & 7.99699 & 3572 & 8.18088 & 815590016 & 20.5194 & 0.388921 & 1989 & 2002 & 14 & 2.63906 & 226.571 & 5.42306 & 0 & 0 & 1 & 7.0934 & 6.7346 & 1360 & 1.67e-6 & -13.3042 & 9590000 & 7051.47 & 8.86099 & 16.5894 & 12.9 & 2.63189 & 0.886478 & -0.120499 & 0.3384 & -1.08353 & 1 & 1 \\\\\n",
       "\t$\\dots$ & $\\dots$ & $\\dots$ & $\\dots$ & $\\dots$ & $\\dots$ & $\\dots$ & $\\dots$ & $\\dots$ & $\\dots$ & $\\dots$ & $\\dots$ & $\\dots$ & $\\dots$ & $\\dots$ & $\\dots$ & $\\dots$ & $\\dots$ & $\\dots$ & $\\dots$ & $\\dots$ & $\\dots$ & $\\dots$ & $\\dots$ & $\\dots$ & $\\dots$ & $\\dots$ & $\\dots$ & $\\dots$ & $\\dots$ & $\\dots$ & $\\dots$ & $\\dots$ & $\\dots$ & $\\dots$ & $\\dots$ & $\\dots$ & $\\dots$ & $\\dots$ & $\\dots$ & $\\dots$ & $\\dots$ \\\\\n",
       "\\end{tabular}\n"
      ],
      "text/plain": [
       "115×41 DataFrame. Omitted printing of 37 columns\n",
       "│ Row │ ID   │ conflict_name                            │ ccode │ cname │\n",
       "│     │ \u001b[90mAny\u001b[39m  │ \u001b[90mAny\u001b[39m                                      │ \u001b[90mAny\u001b[39m   │ \u001b[90mAny\u001b[39m   │\n",
       "├─────┼──────┼──────────────────────────────────────────┼───────┼───────┤\n",
       "│ 1   │ ID   │ conflict_name                            │ ccode │ cname │\n",
       "│ 2   │ 1990 │ India (Mizoram)                          │ 750   │ IND   │\n",
       "│ 3   │ 1500 │ Argentina 1955                           │ 160   │ ARG   │\n",
       "│ 4   │ 2770 │ Romania 1989                             │ 360   │ RUM   │\n",
       "│ 5   │ 2970 │ Croatia 1992-5                           │ 344   │ CRO   │\n",
       "│ 6   │ 3000 │ Georgia (South Ossetia)                  │ 372   │ GRG   │\n",
       "│ 7   │ 1911 │ Chad 1997-2002                           │ 483   │ CHA   │\n",
       "│ 8   │ 2721 │ Indonesia (Aceh 1999-2001)               │ 850   │ INS   │\n",
       "│ 9   │ 1180 │ China (Taiwan 1947)                      │ 710   │ SHN   │\n",
       "│ 10  │ 1010 │ Bolivia (Popular Revolutionary Movement) │ 145   │ BOL   │\n",
       "⋮\n",
       "│ 105 │ 2184 │ Uganda 1981-91                           │ 500   │ UGA   │\n",
       "│ 106 │ 1631 │ Lebanon 1975-90                          │ 660   │ LEB   │\n",
       "│ 107 │ 2310 │ Angola (UNITA 1975-95)                   │ 540   │ ANG   │\n",
       "│ 108 │ 1865 │ DRC 1998-2001                            │ 490   │ DRC   │\n",
       "│ 109 │ 1040 │ Greek Civil War                          │ 350   │ GRC   │\n",
       "│ 110 │ 2360 │ Mozambique 1976-1992                     │ 541   │ MZM   │\n",
       "│ 111 │ 1780 │ Ethiopia (Eritrea Indep.)                │ 530   │ ETH   │\n",
       "│ 112 │ 2031 │ Cambodia 1967-75                         │ 811   │ CAM   │\n",
       "│ 113 │ 2370 │ Afghanistan 1978-2000                    │ 700   │ AFG   │\n",
       "│ 114 │ 1030 │ Chinese Civil War                        │ 710   │ CHN   │\n",
       "│ 115 │ 1960 │ Vietnam War                              │ 817   │ RVN   │"
      ]
     },
     "execution_count": 38,
     "metadata": {},
     "output_type": "execute_result"
    }
   ],
   "source": [
    "names!(df2, Symbol.(row))"
   ]
  },
  {
   "cell_type": "code",
   "execution_count": 39,
   "metadata": {},
   "outputs": [
    {
     "data": {
      "text/html": [
       "<table class=\"data-frame\"><thead><tr><th></th><th>ID</th><th>conflict_name</th><th>ccode</th><th>cname</th><th>region</th><th>secession</th><th>battledeadbest</th><th>lnbdb</th><th>battledeadlow</th><th>lnbdl</th><th>battledeadhigh</th><th>lnbdh</th><th>pop</th><th>lnpop</th><th>dper100k</th><th>begin</th><th>end</th><th>duration</th><th>lnduration</th><th>rate</th><th>lnrate</th><th>cw</th><th>intervention</th><th>democ</th><th>lngdp</th><th>gdpsq</th><th>milper</th><th>milperpop</th><th>lnmilperpop</th><th>milex</th><th>milqual</th><th>lnmilqual</th><th>milq2</th><th>mountain</th><th>lnmountain</th><th>ethfrac</th><th>lnethfrac</th><th>relfrac</th><th>lnrelfrac</th><th>relpolar</th><th>ethnicpolar</th></tr><tr><th></th><th>Any</th><th>Any</th><th>Any</th><th>Any</th><th>Any</th><th>Any</th><th>Any</th><th>Any</th><th>Any</th><th>Any</th><th>Any</th><th>Any</th><th>Any</th><th>Any</th><th>Any</th><th>Any</th><th>Any</th><th>Any</th><th>Any</th><th>Any</th><th>Any</th><th>Any</th><th>Any</th><th>Any</th><th>Any</th><th>Any</th><th>Any</th><th>Any</th><th>Any</th><th>Any</th><th>Any</th><th>Any</th><th>Any</th><th>Any</th><th>Any</th><th>Any</th><th>Any</th><th>Any</th><th>Any</th><th>Any</th><th>Any</th></tr></thead><tbody><p>114 rows × 41 columns</p><tr><th>1</th><td>1990</td><td>India (Mizoram)</td><td>750</td><td>IND</td><td>3</td><td>1</td><td>900</td><td>6.80239</td><td>900</td><td>6.80239</td><td>900</td><td>6.80239</td><td>487336992</td><td>20.0045</td><td>0.184677</td><td>1966</td><td>1968</td><td>3</td><td>1.09861</td><td>300</td><td>5.70378</td><td>1</td><td>0</td><td>1</td><td>6.62141</td><td>12.0995</td><td>1220</td><td>2.5e-6</td><td>-12.8979</td><td>1804170</td><td>1478.83</td><td>7.29901</td><td>14.7176</td><td>12.9</td><td>2.63189</td><td>0.886478</td><td>-0.120499</td><td>0.3384</td><td>-1.08353</td><td>1</td><td>1</td></tr><tr><th>2</th><td>1500</td><td>Argentina 1955</td><td>160</td><td>ARG</td><td>2</td><td>0</td><td>900</td><td>6.80239</td><td>900</td><td>6.80239</td><td>900</td><td>6.80239</td><td>18574000</td><td>16.7373</td><td>4.84548</td><td>1955</td><td>1955</td><td>1</td><td>0</td><td>900</td><td>6.80239</td><td>1</td><td>0</td><td>0</td><td>8.28702</td><td>15.8726</td><td>71</td><td>3.82e-6</td><td>-12.4746</td><td>566133</td><td>7973.7</td><td>8.98391</td><td>17.0041</td><td>28.4</td><td>3.38099</td><td>0.307319</td><td>-1.17987</td><td>0.1512</td><td>-1.88915</td><td>0</td><td>1</td></tr><tr><th>3</th><td>2770</td><td>Romania 1989</td><td>360</td><td>RUM</td><td>5</td><td>0</td><td>909</td><td>6.81234</td><td>909</td><td>6.81234</td><td>909</td><td>6.81234</td><td>23054000</td><td>16.9534</td><td>3.94292</td><td>1989</td><td>1989</td><td>1</td><td>0</td><td>909</td><td>6.81234</td><td>0</td><td>0</td><td>0</td><td>7.64444</td><td>13.6357</td><td>220</td><td>9.54e-6</td><td>-11.5597</td><td>809000</td><td>3677.27</td><td>8.20993</td><td>12.8866</td><td>17</td><td>2.89037</td><td>0.252163</td><td>-1.37768</td><td>0.4704</td><td>-0.754172</td><td>1</td><td>1</td></tr><tr><th>4</th><td>2970</td><td>Croatia 1992-5</td><td>344</td><td>CRO</td><td>5</td><td>1</td><td>950</td><td>6.85646</td><td>950</td><td>6.85646</td><td>950</td><td>6.85646</td><td>4782300</td><td>15.3804</td><td>19.8649</td><td>1992</td><td>1995</td><td>4</td><td>1.38629</td><td>237.5</td><td>5.47017</td><td>0</td><td>0</td><td>0</td><td></td><td></td><td>103</td><td>2.15e-5</td><td>-10.7457</td><td>561000</td><td>5446.6</td><td>8.60275</td><td>15.5646</td><td>3.60925</td><td>1.52807</td><td>0.334221</td><td>-1.09595</td><td>0.3828</td><td>-0.960243</td><td>1</td><td>1</td></tr><tr><th>5</th><td>3000</td><td>Georgia (South Ossetia)</td><td>372</td><td>GRG</td><td>3</td><td>1</td><td>950</td><td>6.85646</td><td>950</td><td>6.85646</td><td>950</td><td>6.85646</td><td>5460000</td><td>15.513</td><td>17.3993</td><td>1992</td><td>1992</td><td>1</td><td>0</td><td>950</td><td>6.85646</td><td>0</td><td>1</td><td>0</td><td>8.25019</td><td>15.7672</td><td>25</td><td>4.58e-6</td><td>-12.2941</td><td>850000</td><td>34000</td><td>10.4341</td><td>20.6803</td><td>60.8</td><td>4.1239</td><td>0.49551</td><td>-0.702168</td><td>0.5454</td><td>-0.606236</td><td>1</td><td>1</td></tr><tr><th>6</th><td>1911</td><td>Chad 1997-2002</td><td>483</td><td>CHA</td><td>1</td><td>0</td><td>954</td><td>6.86066</td><td>954</td><td>6.86066</td><td>954</td><td>6.86066</td><td>6937350</td><td>15.7524</td><td>13.7516</td><td>1997</td><td>2002</td><td>6</td><td>1.79176</td><td>159</td><td>5.0689</td><td>0</td><td>0</td><td>0</td><td>5.84192</td><td>13.4442</td><td>40</td><td>5.77e-6</td><td>-12.0635</td><td>40000</td><td>1000</td><td>6.90775</td><td>15.25</td><td>8.5</td><td>2.25129</td><td>0.826273</td><td>-0.19083</td><td>0.625</td><td>-0.470004</td><td>1</td><td>1</td></tr><tr><th>7</th><td>2721</td><td>Indonesia (Aceh 1999-2001)</td><td>850</td><td>INS</td><td>4</td><td>1</td><td>980</td><td>6.88755</td><td>980</td><td>6.88755</td><td>980</td><td>6.88755</td><td>203678368</td><td>19.132</td><td>0.481151</td><td>1999</td><td>2002</td><td>4</td><td>1.38629</td><td>245</td><td>5.50126</td><td>0</td><td>0</td><td>0</td><td>7.75563</td><td>14.1118</td><td>280</td><td>1.37e-6</td><td>-13.4973</td><td>967000</td><td>3453.57</td><td>8.14716</td><td>12.0068</td><td>10.5</td><td>2.44235</td><td>0.764058</td><td>-0.269111</td><td>0.2216</td><td>-1.50688</td><td>0</td><td>1</td></tr><tr><th>8</th><td>1180</td><td>China (Taiwan 1947)</td><td>710</td><td>SHN</td><td>4</td><td>1</td><td>1000</td><td>6.90775</td><td>540</td><td>6.29157</td><td>1000</td><td>6.90775</td><td>553268992</td><td>20.1314</td><td>0.180744</td><td>1947</td><td>1947</td><td>1</td><td>0</td><td>1000</td><td>6.90775</td><td>1</td><td>0</td><td>0</td><td>5.42054</td><td>13.7108</td><td>4158</td><td>7.52e-6</td><td>-11.7986</td><td>789300</td><td>189.827</td><td>5.24611</td><td>15.9164</td><td>37.4</td><td>3.64806</td><td>0.118452</td><td>-2.13324</td><td>0.551</td><td>-0.59602</td><td>1</td><td>0</td></tr><tr><th>9</th><td>1010</td><td>Bolivia (Popular Revolutionary Movement)</td><td>145</td><td>BOL</td><td>2</td><td>0</td><td>1000</td><td>6.90775</td><td>1000</td><td>6.90775</td><td>1000</td><td>6.90775</td><td>2858000</td><td>14.8656</td><td>34.9895</td><td>1946</td><td>1946</td><td>1</td><td>0</td><td>1000</td><td>6.90775</td><td>1</td><td>0</td><td>0</td><td></td><td></td><td>9</td><td>3.15e-6</td><td>-12.6684</td><td>7052</td><td>783.556</td><td>6.66384</td><td>15.4509</td><td>35.9</td><td>3.60821</td><td>0.678133</td><td>-0.388412</td><td>0.095</td><td>-2.35388</td><td>0</td><td>1</td></tr><tr><th>10</th><td>1460</td><td>Indonesia (Darul Islam)</td><td>850</td><td>INS</td><td>4</td><td>0</td><td>1000</td><td>6.90775</td><td>521</td><td>6.25575</td><td>1000</td><td>6.90775</td><td>78081000</td><td>18.1733</td><td>1.28072</td><td>1953</td><td>1953</td><td>1</td><td>0</td><td>1000</td><td>6.90775</td><td>1</td><td>0</td><td>0</td><td>5.96615</td><td>13.3314</td><td>200</td><td>2.56e-6</td><td>-12.8749</td><td>333946</td><td>1669.73</td><td>7.42042</td><td>14.4583</td><td>10.5</td><td>2.44235</td><td>0.764058</td><td>-0.269111</td><td>0.2216</td><td>-1.50688</td><td>0</td><td>1</td></tr><tr><th>11</th><td>2111</td><td>Guinea 2000-1</td><td>438</td><td>GUI</td><td>1</td><td>0</td><td>1100</td><td>7.00307</td><td>418</td><td>6.03548</td><td>1500</td><td>7.31322</td><td>7250500</td><td>15.7966</td><td>15.1714</td><td>2000</td><td>2001</td><td>2</td><td>0.693147</td><td>550</td><td>6.30992</td><td>0</td><td>0</td><td>0</td><td></td><td></td><td>12</td><td>1.66e-6</td><td>-13.3117</td><td>60000</td><td>5000</td><td>8.51719</td><td>15.1524</td><td>3.2</td><td>1.43508</td><td>0.749607</td><td>-0.288206</td><td>0.2262</td><td>-1.48634</td><td>0</td><td>1</td></tr><tr><th>12</th><td>2260</td><td>Bangladesh (Shanti Bahini)</td><td>771</td><td>BNG</td><td>3</td><td>1</td><td>1227</td><td>7.11233</td><td>1227</td><td>7.11233</td><td>1227</td><td>7.11233</td><td>72425000</td><td>18.0981</td><td>1.69417</td><td>1974</td><td>1992</td><td>19</td><td>2.94444</td><td>64.579</td><td>4.16789</td><td>1</td><td>0</td><td>1</td><td>6.62804</td><td>12.0757</td><td>86</td><td>1.19e-6</td><td>-13.6437</td><td>41204</td><td>479.116</td><td>6.17194</td><td>15.7031</td><td>0</td><td>0</td><td>0.0049751</td><td>-5.30331</td><td>0.2134</td><td>-1.54459</td><td>1</td><td>1</td></tr><tr><th>13</th><td>2980</td><td>Egypt 1992-8</td><td>651</td><td>EGY</td><td>6</td><td>0</td><td>1347</td><td>7.20564</td><td>1347</td><td>7.20564</td><td>1347</td><td>7.20564</td><td>53602000</td><td>17.7971</td><td>2.51297</td><td>1992</td><td>1998</td><td>7</td><td>1.94591</td><td>192.429</td><td>5.25973</td><td>0</td><td>0</td><td>0</td><td>7.55643</td><td>13.2079</td><td>434</td><td>8.1e-6</td><td>-11.7241</td><td>1650000</td><td>3801.84</td><td>8.24324</td><td>13.2483</td><td>1</td><td>0.693147</td><td>0.0440085</td><td>-3.12337</td><td>0.1128</td><td>-2.18214</td><td>0</td><td>1</td></tr><tr><th>14</th><td>1630</td><td>Lebanon 1958</td><td>660</td><td>LEB</td><td>6</td><td>0</td><td>1400</td><td>7.24423</td><td>1000</td><td>6.90775</td><td>1400</td><td>7.24423</td><td>1703000</td><td>14.3479</td><td>82.2079</td><td>1958</td><td>1958</td><td>1</td><td>0</td><td>1400</td><td>7.24423</td><td>1</td><td>1</td><td>0</td><td>7.83598</td><td>14.4231</td><td>9</td><td>5.28e-6</td><td>-12.1507</td><td>17846</td><td>1982.89</td><td>7.59231</td><td>13.9431</td><td>57.1</td><td>4.06217</td><td>0.134805</td><td>-2.00393</td><td>0.7534</td><td>-0.283159</td><td>1</td><td>1</td></tr><tr><th>15</th><td>1540</td><td>India (Nagaland 1956-9)</td><td>750</td><td>IND</td><td>3</td><td>1</td><td>1487</td><td>7.30452</td><td>1487</td><td>7.30452</td><td>1487</td><td>7.30452</td><td>397972992</td><td>19.8019</td><td>0.373644</td><td>1956</td><td>1959</td><td>4</td><td>1.38629</td><td>371.75</td><td>5.91822</td><td>1</td><td>0</td><td>1</td><td>6.51026</td><td>12.4412</td><td>391</td><td>9.82e-7</td><td>-13.8332</td><td>401830</td><td>1027.7</td><td>6.93508</td><td>15.2228</td><td>12.9</td><td>2.63189</td><td>0.886478</td><td>-0.120499</td><td>0.3384</td><td>-1.08353</td><td>1</td><td>1</td></tr><tr><th>16</th><td>1293</td><td>India (Naxalites 1996-2002)</td><td>750</td><td>IND</td><td>3</td><td>1</td><td>1494</td><td>7.30921</td><td>1494</td><td>7.30921</td><td>1494</td><td>7.30921</td><td>929358016</td><td>20.65</td><td>0.160756</td><td>1996</td><td>2002</td><td>7</td><td>1.94591</td><td>213.429</td><td>5.3633</td><td>0</td><td>0</td><td>1</td><td>7.29716</td><td>11.4149</td><td>1260</td><td>1.36e-6</td><td>-13.5111</td><td>9992000</td><td>7930.16</td><td>8.97843</td><td>16.9864</td><td>12.9</td><td>2.63189</td><td>0.886478</td><td>-0.120499</td><td>0.3384</td><td>-1.08353</td><td>1</td><td>1</td></tr><tr><th>17</th><td>2170</td><td>Sri Lanka (JVP 1971)</td><td>780</td><td>SRI</td><td>3</td><td>0</td><td>1630</td><td>7.39633</td><td>1260</td><td>7.13887</td><td>2000</td><td>7.6009</td><td>12516000</td><td>16.3425</td><td>13.0233</td><td>1971</td><td>1971</td><td>1</td><td>0</td><td>1630</td><td>7.39633</td><td>1</td><td>0</td><td>1</td><td>7.12528</td><td>8.43902</td><td>10</td><td>7.99e-7</td><td>-14.0399</td><td>19411</td><td>1941.1</td><td>7.57101</td><td>14.02</td><td>7.3</td><td>2.11626</td><td>0.467041</td><td>-0.761337</td><td>0.4762</td><td>-0.741917</td><td>1</td><td>1</td></tr><tr><th>18</th><td>2720</td><td>Indonesia (Aceh 1989-91)</td><td>850</td><td>INS</td><td>4</td><td>1</td><td>1750</td><td>7.46737</td><td>1750</td><td>7.46737</td><td>1750</td><td>7.46737</td><td>171994000</td><td>18.963</td><td>1.01748</td><td>1989</td><td>1991</td><td>3</td><td>1.09861</td><td>583.333</td><td>6.36876</td><td>0</td><td>0</td><td>0</td><td>7.4553</td><td>12.6343</td><td>284</td><td>1.65e-6</td><td>-13.314</td><td>1402000</td><td>4936.62</td><td>8.50444</td><td>15.0864</td><td>10.5</td><td>2.44235</td><td>0.764058</td><td>-0.269111</td><td>0.2216</td><td>-1.50688</td><td>0</td><td>1</td></tr><tr><th>19</th><td>1621</td><td>Iraq 1959</td><td>645</td><td>IRQ</td><td>6</td><td>0</td><td>2000</td><td>7.6009</td><td>500</td><td>6.21461</td><td>2000</td><td>7.6009</td><td>6473000</td><td>15.6831</td><td>30.8976</td><td>1959</td><td>1959</td><td>1</td><td>0</td><td>2000</td><td>7.6009</td><td>1</td><td>0</td><td>0</td><td>7.9943</td><td>14.9788</td><td>64</td><td>9.89e-6</td><td>-11.5243</td><td>86810</td><td>1356.41</td><td>7.21259</td><td>14.8678</td><td>6</td><td>1.94591</td><td>0.362471</td><td>-1.01481</td><td>0.4922</td><td>-0.70887</td><td>1</td><td>1</td></tr><tr><th>20</th><td>1270</td><td>Costa Rica 1948</td><td>94</td><td>COS</td><td>2</td><td>0</td><td>2000</td><td>7.6009</td><td>2000</td><td>7.6009</td><td>2000</td><td>7.6009</td><td>766000</td><td>13.5489</td><td>261.097</td><td>1948</td><td>1948</td><td>1</td><td>0</td><td>2000</td><td>7.6009</td><td>1</td><td>1</td><td>1</td><td>7.19669</td><td>10.1503</td><td>1</td><td>1.31e-6</td><td>-13.5489</td><td>1411</td><td>1411</td><td>7.25205</td><td>14.8022</td><td>22.2</td><td>3.14415</td><td>0.07109</td><td>-2.64381</td><td>0.2578</td><td>-1.35557</td><td>1</td><td>0</td></tr><tr><th>21</th><td>2210</td><td>Oman (Dhofar Rebellion)</td><td>698</td><td>OMA</td><td>6</td><td>0</td><td>2000</td><td>7.6009</td><td>500</td><td>6.21461</td><td>2000</td><td>7.6009</td><td>672000</td><td>13.418</td><td>297.619</td><td>1972</td><td>1975</td><td>4</td><td>1.38629</td><td>500</td><td>6.21461</td><td>1</td><td>1</td><td>0</td><td>8.67999</td><td>16.9145</td><td>4</td><td>5.95e-6</td><td>-12.0317</td><td>38517</td><td>9629.25</td><td>9.17256</td><td>17.5837</td><td>2.8</td><td>1.335</td><td>0.23702</td><td>-1.43961</td><td>0.375</td><td>-0.980829</td><td>1</td><td>1</td></tr><tr><th>22</th><td>2250</td><td>Chile 1973</td><td>155</td><td>CHL</td><td>2</td><td>0</td><td>2095</td><td>7.64731</td><td>2095</td><td>7.64731</td><td>2095</td><td>7.64731</td><td>9853000</td><td>16.1033</td><td>21.2626</td><td>1973</td><td>1973</td><td>1</td><td>0</td><td>2095</td><td>7.64731</td><td>1</td><td>0</td><td>1</td><td>8.25635</td><td>15.7849</td><td>75</td><td>7.61e-6</td><td>-11.7858</td><td>300000</td><td>4000</td><td>8.29405</td><td>13.7155</td><td>57.6</td><td>4.07073</td><td>0.140437</td><td>-1.963</td><td>0.1958</td><td>-1.63066</td><td>1</td><td>1</td></tr><tr><th>23</th><td>3190</td><td>Guinea-Bissau 1998-9</td><td>404</td><td>GNB</td><td>1</td><td>0</td><td>2350</td><td>7.76217</td><td>1700</td><td>7.43838</td><td>3999</td><td>8.2938</td><td>1137060</td><td>13.944</td><td>206.673</td><td>1998</td><td>1999</td><td>2</td><td>0.693147</td><td>1175</td><td>7.06902</td><td>0</td><td>1</td><td>0</td><td>6.52883</td><td>12.3904</td><td>7</td><td>6.16e-6</td><td>-11.998</td><td>8000</td><td>1142.86</td><td>7.04129</td><td>15.1054</td><td>0</td><td>0</td><td>0.803757</td><td>-0.218458</td><td>0.545</td><td>-0.60697</td><td>1</td><td>1</td></tr><tr><th>24</th><td>3120</td><td>Pakistan (MQM 1995-6)</td><td>770</td><td>PAK</td><td>3</td><td>0</td><td>2500</td><td>7.82405</td><td>2500</td><td>7.82405</td><td>2500</td><td>7.82405</td><td>119401848</td><td>18.598</td><td>2.09377</td><td>1995</td><td>1996</td><td>2</td><td>0.693147</td><td>1250</td><td>7.1309</td><td>0</td><td>0</td><td>1</td><td>7.27386</td><td>11.1753</td><td>580</td><td>4.86e-6</td><td>-12.235</td><td>3585000</td><td>6181.03</td><td>8.72924</td><td>16.099</td><td>43</td><td>3.78419</td><td>0.644509</td><td>-0.439267</td><td>0.3662</td><td>-1.00458</td><td>1</td><td>1</td></tr><tr><th>25</th><td>2171</td><td>Sri Lanka (JVP 1989-90)</td><td>780</td><td>SRI</td><td>3</td><td>0</td><td>2800</td><td>7.93738</td><td>2800</td><td>7.93738</td><td>2800</td><td>7.93738</td><td>16587000</td><td>16.6241</td><td>16.8807</td><td>1989</td><td>1990</td><td>2</td><td>0.693147</td><td>1400</td><td>7.24423</td><td>0</td><td>1</td><td>0</td><td>7.6148</td><td>13.4975</td><td>22</td><td>1.33e-6</td><td>-13.5331</td><td>321000</td><td>14590.9</td><td>9.58815</td><td>18.7075</td><td>7.3</td><td>2.11626</td><td>0.467041</td><td>-0.761337</td><td>0.4762</td><td>-0.741917</td><td>1</td><td>1</td></tr><tr><th>26</th><td>1502</td><td>Argentina (ERP, Montoneros 1973-7)</td><td>160</td><td>ARG</td><td>2</td><td>0</td><td>2984</td><td>8.00102</td><td>2984</td><td>8.00102</td><td>2984</td><td>8.00102</td><td>24757000</td><td>17.0246</td><td>12.0532</td><td>1973</td><td>1977</td><td>5</td><td>1.60944</td><td>596.8</td><td>6.39158</td><td>1</td><td>0</td><td>0</td><td>8.66734</td><td>16.8828</td><td>140</td><td>5.65e-6</td><td>-12.083</td><td>426829</td><td>3048.78</td><td>8.0225</td><td>-15.4778</td><td>28.4</td><td>3.38099</td><td>0.307319</td><td>-1.17987</td><td>0.1512</td><td>-1.88915</td><td>0</td><td>1</td></tr><tr><th>27</th><td>3172</td><td>Congo-Brazaville 1998-2002</td><td>484</td><td>CON</td><td>1</td><td>0</td><td>2999</td><td>8.00603</td><td>2999</td><td>8.00603</td><td>3047</td><td>8.02191</td><td>2707600</td><td>14.8116</td><td>110.762</td><td>1998</td><td>2002</td><td>5</td><td>1.60944</td><td>599.8</td><td>6.3966</td><td>0</td><td>1</td><td>0</td><td>7.49572</td><td>12.8765</td><td>10</td><td>3.69e-6</td><td>-12.509</td><td>74000</td><td>7400</td><td>8.90924</td><td>16.7564</td><td>0</td><td>0</td><td>0.657212</td><td>-0.419748</td><td>0.5192</td><td>-0.655466</td><td>1</td><td>1</td></tr><tr><th>28</th><td>2990</td><td>Georgia (Abkhazia)</td><td>372</td><td>GRG</td><td>3</td><td>1</td><td>3000</td><td>8.00637</td><td>3000</td><td>8.00637</td><td>3000</td><td>8.00637</td><td>5460000</td><td>15.513</td><td>54.9451</td><td>1992</td><td>1993</td><td>2</td><td>0.693147</td><td>1500</td><td>7.31322</td><td>0</td><td>1</td><td>0</td><td>8.25019</td><td>15.7672</td><td>25</td><td>4.58e-6</td><td>-12.2941</td><td>850000</td><td>34000</td><td>10.4341</td><td>20.6803</td><td>60.8</td><td>4.1239</td><td>0.49551</td><td>-0.702168</td><td>0.5454</td><td>-0.606236</td><td>1</td><td>1</td></tr><tr><th>29</th><td>2710</td><td>India (Assam)</td><td>750</td><td>IND</td><td>3</td><td>1</td><td>3172</td><td>8.06212</td><td>2972</td><td>7.99699</td><td>3572</td><td>8.18088</td><td>815590016</td><td>20.5194</td><td>0.388921</td><td>1989</td><td>2002</td><td>14</td><td>2.63906</td><td>226.571</td><td>5.42306</td><td>0</td><td>0</td><td>1</td><td>7.0934</td><td>6.7346</td><td>1360</td><td>1.67e-6</td><td>-13.3042</td><td>9590000</td><td>7051.47</td><td>8.86099</td><td>16.5894</td><td>12.9</td><td>2.63189</td><td>0.886478</td><td>-0.120499</td><td>0.3384</td><td>-1.08353</td><td>1</td><td>1</td></tr><tr><th>30</th><td>2190</td><td>Great Britain (N. Ireland)</td><td>200</td><td>UKG</td><td>5</td><td>1</td><td>3271</td><td>8.09285</td><td>3271</td><td>8.09285</td><td>3271</td><td>8.09285</td><td>55632000</td><td>17.8343</td><td>5.87971</td><td>1971</td><td>1993</td><td>23</td><td>3.13549</td><td>142.217</td><td>4.95736</td><td>1</td><td>0</td><td>1</td><td>9.05217</td><td>17.8082</td><td>390</td><td>7.01e-6</td><td>-11.8681</td><td>5866538</td><td>15042.4</td><td>9.61863</td><td>18.7843</td><td>0.8</td><td>0.587787</td><td>0.325454</td><td>-1.12253</td><td>0.6138</td><td>-0.488086</td><td>1</td><td>1</td></tr><tr><th>&vellip;</th><td>&vellip;</td><td>&vellip;</td><td>&vellip;</td><td>&vellip;</td><td>&vellip;</td><td>&vellip;</td><td>&vellip;</td><td>&vellip;</td><td>&vellip;</td><td>&vellip;</td><td>&vellip;</td><td>&vellip;</td><td>&vellip;</td><td>&vellip;</td><td>&vellip;</td><td>&vellip;</td><td>&vellip;</td><td>&vellip;</td><td>&vellip;</td><td>&vellip;</td><td>&vellip;</td><td>&vellip;</td><td>&vellip;</td><td>&vellip;</td><td>&vellip;</td><td>&vellip;</td><td>&vellip;</td><td>&vellip;</td><td>&vellip;</td><td>&vellip;</td><td>&vellip;</td><td>&vellip;</td><td>&vellip;</td><td>&vellip;</td><td>&vellip;</td><td>&vellip;</td><td>&vellip;</td><td>&vellip;</td><td>&vellip;</td><td>&vellip;</td><td>&vellip;</td></tr></tbody></table>"
      ],
      "text/latex": [
       "\\begin{tabular}{r|ccccccccccccccccccccccccccccccccccccccccc}\n",
       "\t& ID & conflict\\_name & ccode & cname & region & secession & battledeadbest & lnbdb & battledeadlow & lnbdl & battledeadhigh & lnbdh & pop & lnpop & dper100k & begin & end & duration & lnduration & rate & lnrate & cw & intervention & democ & lngdp & gdpsq & milper & milperpop & lnmilperpop & milex & milqual & lnmilqual & milq2 & mountain & lnmountain & ethfrac & lnethfrac & relfrac & lnrelfrac & relpolar & ethnicpolar\\\\\n",
       "\t\\hline\n",
       "\t& Any & Any & Any & Any & Any & Any & Any & Any & Any & Any & Any & Any & Any & Any & Any & Any & Any & Any & Any & Any & Any & Any & Any & Any & Any & Any & Any & Any & Any & Any & Any & Any & Any & Any & Any & Any & Any & Any & Any & Any & Any\\\\\n",
       "\t\\hline\n",
       "\t1 & 1990 & India (Mizoram) & 750 & IND & 3 & 1 & 900 & 6.80239 & 900 & 6.80239 & 900 & 6.80239 & 487336992 & 20.0045 & 0.184677 & 1966 & 1968 & 3 & 1.09861 & 300 & 5.70378 & 1 & 0 & 1 & 6.62141 & 12.0995 & 1220 & 2.5e-6 & -12.8979 & 1804170 & 1478.83 & 7.29901 & 14.7176 & 12.9 & 2.63189 & 0.886478 & -0.120499 & 0.3384 & -1.08353 & 1 & 1 \\\\\n",
       "\t2 & 1500 & Argentina 1955 & 160 & ARG & 2 & 0 & 900 & 6.80239 & 900 & 6.80239 & 900 & 6.80239 & 18574000 & 16.7373 & 4.84548 & 1955 & 1955 & 1 & 0 & 900 & 6.80239 & 1 & 0 & 0 & 8.28702 & 15.8726 & 71 & 3.82e-6 & -12.4746 & 566133 & 7973.7 & 8.98391 & 17.0041 & 28.4 & 3.38099 & 0.307319 & -1.17987 & 0.1512 & -1.88915 & 0 & 1 \\\\\n",
       "\t3 & 2770 & Romania 1989 & 360 & RUM & 5 & 0 & 909 & 6.81234 & 909 & 6.81234 & 909 & 6.81234 & 23054000 & 16.9534 & 3.94292 & 1989 & 1989 & 1 & 0 & 909 & 6.81234 & 0 & 0 & 0 & 7.64444 & 13.6357 & 220 & 9.54e-6 & -11.5597 & 809000 & 3677.27 & 8.20993 & 12.8866 & 17 & 2.89037 & 0.252163 & -1.37768 & 0.4704 & -0.754172 & 1 & 1 \\\\\n",
       "\t4 & 2970 & Croatia 1992-5 & 344 & CRO & 5 & 1 & 950 & 6.85646 & 950 & 6.85646 & 950 & 6.85646 & 4782300 & 15.3804 & 19.8649 & 1992 & 1995 & 4 & 1.38629 & 237.5 & 5.47017 & 0 & 0 & 0 &  &  & 103 & 2.15e-5 & -10.7457 & 561000 & 5446.6 & 8.60275 & 15.5646 & 3.60925 & 1.52807 & 0.334221 & -1.09595 & 0.3828 & -0.960243 & 1 & 1 \\\\\n",
       "\t5 & 3000 & Georgia (South Ossetia) & 372 & GRG & 3 & 1 & 950 & 6.85646 & 950 & 6.85646 & 950 & 6.85646 & 5460000 & 15.513 & 17.3993 & 1992 & 1992 & 1 & 0 & 950 & 6.85646 & 0 & 1 & 0 & 8.25019 & 15.7672 & 25 & 4.58e-6 & -12.2941 & 850000 & 34000 & 10.4341 & 20.6803 & 60.8 & 4.1239 & 0.49551 & -0.702168 & 0.5454 & -0.606236 & 1 & 1 \\\\\n",
       "\t6 & 1911 & Chad 1997-2002 & 483 & CHA & 1 & 0 & 954 & 6.86066 & 954 & 6.86066 & 954 & 6.86066 & 6937350 & 15.7524 & 13.7516 & 1997 & 2002 & 6 & 1.79176 & 159 & 5.0689 & 0 & 0 & 0 & 5.84192 & 13.4442 & 40 & 5.77e-6 & -12.0635 & 40000 & 1000 & 6.90775 & 15.25 & 8.5 & 2.25129 & 0.826273 & -0.19083 & 0.625 & -0.470004 & 1 & 1 \\\\\n",
       "\t7 & 2721 & Indonesia (Aceh 1999-2001) & 850 & INS & 4 & 1 & 980 & 6.88755 & 980 & 6.88755 & 980 & 6.88755 & 203678368 & 19.132 & 0.481151 & 1999 & 2002 & 4 & 1.38629 & 245 & 5.50126 & 0 & 0 & 0 & 7.75563 & 14.1118 & 280 & 1.37e-6 & -13.4973 & 967000 & 3453.57 & 8.14716 & 12.0068 & 10.5 & 2.44235 & 0.764058 & -0.269111 & 0.2216 & -1.50688 & 0 & 1 \\\\\n",
       "\t8 & 1180 & China (Taiwan 1947) & 710 & SHN & 4 & 1 & 1000 & 6.90775 & 540 & 6.29157 & 1000 & 6.90775 & 553268992 & 20.1314 & 0.180744 & 1947 & 1947 & 1 & 0 & 1000 & 6.90775 & 1 & 0 & 0 & 5.42054 & 13.7108 & 4158 & 7.52e-6 & -11.7986 & 789300 & 189.827 & 5.24611 & 15.9164 & 37.4 & 3.64806 & 0.118452 & -2.13324 & 0.551 & -0.59602 & 1 & 0 \\\\\n",
       "\t9 & 1010 & Bolivia (Popular Revolutionary Movement) & 145 & BOL & 2 & 0 & 1000 & 6.90775 & 1000 & 6.90775 & 1000 & 6.90775 & 2858000 & 14.8656 & 34.9895 & 1946 & 1946 & 1 & 0 & 1000 & 6.90775 & 1 & 0 & 0 &  &  & 9 & 3.15e-6 & -12.6684 & 7052 & 783.556 & 6.66384 & 15.4509 & 35.9 & 3.60821 & 0.678133 & -0.388412 & 0.095 & -2.35388 & 0 & 1 \\\\\n",
       "\t10 & 1460 & Indonesia (Darul Islam) & 850 & INS & 4 & 0 & 1000 & 6.90775 & 521 & 6.25575 & 1000 & 6.90775 & 78081000 & 18.1733 & 1.28072 & 1953 & 1953 & 1 & 0 & 1000 & 6.90775 & 1 & 0 & 0 & 5.96615 & 13.3314 & 200 & 2.56e-6 & -12.8749 & 333946 & 1669.73 & 7.42042 & 14.4583 & 10.5 & 2.44235 & 0.764058 & -0.269111 & 0.2216 & -1.50688 & 0 & 1 \\\\\n",
       "\t11 & 2111 & Guinea 2000-1 & 438 & GUI & 1 & 0 & 1100 & 7.00307 & 418 & 6.03548 & 1500 & 7.31322 & 7250500 & 15.7966 & 15.1714 & 2000 & 2001 & 2 & 0.693147 & 550 & 6.30992 & 0 & 0 & 0 &  &  & 12 & 1.66e-6 & -13.3117 & 60000 & 5000 & 8.51719 & 15.1524 & 3.2 & 1.43508 & 0.749607 & -0.288206 & 0.2262 & -1.48634 & 0 & 1 \\\\\n",
       "\t12 & 2260 & Bangladesh (Shanti Bahini) & 771 & BNG & 3 & 1 & 1227 & 7.11233 & 1227 & 7.11233 & 1227 & 7.11233 & 72425000 & 18.0981 & 1.69417 & 1974 & 1992 & 19 & 2.94444 & 64.579 & 4.16789 & 1 & 0 & 1 & 6.62804 & 12.0757 & 86 & 1.19e-6 & -13.6437 & 41204 & 479.116 & 6.17194 & 15.7031 & 0 & 0 & 0.0049751 & -5.30331 & 0.2134 & -1.54459 & 1 & 1 \\\\\n",
       "\t13 & 2980 & Egypt 1992-8 & 651 & EGY & 6 & 0 & 1347 & 7.20564 & 1347 & 7.20564 & 1347 & 7.20564 & 53602000 & 17.7971 & 2.51297 & 1992 & 1998 & 7 & 1.94591 & 192.429 & 5.25973 & 0 & 0 & 0 & 7.55643 & 13.2079 & 434 & 8.1e-6 & -11.7241 & 1650000 & 3801.84 & 8.24324 & 13.2483 & 1 & 0.693147 & 0.0440085 & -3.12337 & 0.1128 & -2.18214 & 0 & 1 \\\\\n",
       "\t14 & 1630 & Lebanon 1958 & 660 & LEB & 6 & 0 & 1400 & 7.24423 & 1000 & 6.90775 & 1400 & 7.24423 & 1703000 & 14.3479 & 82.2079 & 1958 & 1958 & 1 & 0 & 1400 & 7.24423 & 1 & 1 & 0 & 7.83598 & 14.4231 & 9 & 5.28e-6 & -12.1507 & 17846 & 1982.89 & 7.59231 & 13.9431 & 57.1 & 4.06217 & 0.134805 & -2.00393 & 0.7534 & -0.283159 & 1 & 1 \\\\\n",
       "\t15 & 1540 & India (Nagaland 1956-9) & 750 & IND & 3 & 1 & 1487 & 7.30452 & 1487 & 7.30452 & 1487 & 7.30452 & 397972992 & 19.8019 & 0.373644 & 1956 & 1959 & 4 & 1.38629 & 371.75 & 5.91822 & 1 & 0 & 1 & 6.51026 & 12.4412 & 391 & 9.82e-7 & -13.8332 & 401830 & 1027.7 & 6.93508 & 15.2228 & 12.9 & 2.63189 & 0.886478 & -0.120499 & 0.3384 & -1.08353 & 1 & 1 \\\\\n",
       "\t16 & 1293 & India (Naxalites 1996-2002) & 750 & IND & 3 & 1 & 1494 & 7.30921 & 1494 & 7.30921 & 1494 & 7.30921 & 929358016 & 20.65 & 0.160756 & 1996 & 2002 & 7 & 1.94591 & 213.429 & 5.3633 & 0 & 0 & 1 & 7.29716 & 11.4149 & 1260 & 1.36e-6 & -13.5111 & 9992000 & 7930.16 & 8.97843 & 16.9864 & 12.9 & 2.63189 & 0.886478 & -0.120499 & 0.3384 & -1.08353 & 1 & 1 \\\\\n",
       "\t17 & 2170 & Sri Lanka (JVP 1971) & 780 & SRI & 3 & 0 & 1630 & 7.39633 & 1260 & 7.13887 & 2000 & 7.6009 & 12516000 & 16.3425 & 13.0233 & 1971 & 1971 & 1 & 0 & 1630 & 7.39633 & 1 & 0 & 1 & 7.12528 & 8.43902 & 10 & 7.99e-7 & -14.0399 & 19411 & 1941.1 & 7.57101 & 14.02 & 7.3 & 2.11626 & 0.467041 & -0.761337 & 0.4762 & -0.741917 & 1 & 1 \\\\\n",
       "\t18 & 2720 & Indonesia (Aceh 1989-91) & 850 & INS & 4 & 1 & 1750 & 7.46737 & 1750 & 7.46737 & 1750 & 7.46737 & 171994000 & 18.963 & 1.01748 & 1989 & 1991 & 3 & 1.09861 & 583.333 & 6.36876 & 0 & 0 & 0 & 7.4553 & 12.6343 & 284 & 1.65e-6 & -13.314 & 1402000 & 4936.62 & 8.50444 & 15.0864 & 10.5 & 2.44235 & 0.764058 & -0.269111 & 0.2216 & -1.50688 & 0 & 1 \\\\\n",
       "\t19 & 1621 & Iraq 1959 & 645 & IRQ & 6 & 0 & 2000 & 7.6009 & 500 & 6.21461 & 2000 & 7.6009 & 6473000 & 15.6831 & 30.8976 & 1959 & 1959 & 1 & 0 & 2000 & 7.6009 & 1 & 0 & 0 & 7.9943 & 14.9788 & 64 & 9.89e-6 & -11.5243 & 86810 & 1356.41 & 7.21259 & 14.8678 & 6 & 1.94591 & 0.362471 & -1.01481 & 0.4922 & -0.70887 & 1 & 1 \\\\\n",
       "\t20 & 1270 & Costa Rica 1948 & 94 & COS & 2 & 0 & 2000 & 7.6009 & 2000 & 7.6009 & 2000 & 7.6009 & 766000 & 13.5489 & 261.097 & 1948 & 1948 & 1 & 0 & 2000 & 7.6009 & 1 & 1 & 1 & 7.19669 & 10.1503 & 1 & 1.31e-6 & -13.5489 & 1411 & 1411 & 7.25205 & 14.8022 & 22.2 & 3.14415 & 0.07109 & -2.64381 & 0.2578 & -1.35557 & 1 & 0 \\\\\n",
       "\t21 & 2210 & Oman (Dhofar Rebellion) & 698 & OMA & 6 & 0 & 2000 & 7.6009 & 500 & 6.21461 & 2000 & 7.6009 & 672000 & 13.418 & 297.619 & 1972 & 1975 & 4 & 1.38629 & 500 & 6.21461 & 1 & 1 & 0 & 8.67999 & 16.9145 & 4 & 5.95e-6 & -12.0317 & 38517 & 9629.25 & 9.17256 & 17.5837 & 2.8 & 1.335 & 0.23702 & -1.43961 & 0.375 & -0.980829 & 1 & 1 \\\\\n",
       "\t22 & 2250 & Chile 1973 & 155 & CHL & 2 & 0 & 2095 & 7.64731 & 2095 & 7.64731 & 2095 & 7.64731 & 9853000 & 16.1033 & 21.2626 & 1973 & 1973 & 1 & 0 & 2095 & 7.64731 & 1 & 0 & 1 & 8.25635 & 15.7849 & 75 & 7.61e-6 & -11.7858 & 300000 & 4000 & 8.29405 & 13.7155 & 57.6 & 4.07073 & 0.140437 & -1.963 & 0.1958 & -1.63066 & 1 & 1 \\\\\n",
       "\t23 & 3190 & Guinea-Bissau 1998-9 & 404 & GNB & 1 & 0 & 2350 & 7.76217 & 1700 & 7.43838 & 3999 & 8.2938 & 1137060 & 13.944 & 206.673 & 1998 & 1999 & 2 & 0.693147 & 1175 & 7.06902 & 0 & 1 & 0 & 6.52883 & 12.3904 & 7 & 6.16e-6 & -11.998 & 8000 & 1142.86 & 7.04129 & 15.1054 & 0 & 0 & 0.803757 & -0.218458 & 0.545 & -0.60697 & 1 & 1 \\\\\n",
       "\t24 & 3120 & Pakistan (MQM 1995-6) & 770 & PAK & 3 & 0 & 2500 & 7.82405 & 2500 & 7.82405 & 2500 & 7.82405 & 119401848 & 18.598 & 2.09377 & 1995 & 1996 & 2 & 0.693147 & 1250 & 7.1309 & 0 & 0 & 1 & 7.27386 & 11.1753 & 580 & 4.86e-6 & -12.235 & 3585000 & 6181.03 & 8.72924 & 16.099 & 43 & 3.78419 & 0.644509 & -0.439267 & 0.3662 & -1.00458 & 1 & 1 \\\\\n",
       "\t25 & 2171 & Sri Lanka (JVP 1989-90) & 780 & SRI & 3 & 0 & 2800 & 7.93738 & 2800 & 7.93738 & 2800 & 7.93738 & 16587000 & 16.6241 & 16.8807 & 1989 & 1990 & 2 & 0.693147 & 1400 & 7.24423 & 0 & 1 & 0 & 7.6148 & 13.4975 & 22 & 1.33e-6 & -13.5331 & 321000 & 14590.9 & 9.58815 & 18.7075 & 7.3 & 2.11626 & 0.467041 & -0.761337 & 0.4762 & -0.741917 & 1 & 1 \\\\\n",
       "\t26 & 1502 & Argentina (ERP, Montoneros 1973-7) & 160 & ARG & 2 & 0 & 2984 & 8.00102 & 2984 & 8.00102 & 2984 & 8.00102 & 24757000 & 17.0246 & 12.0532 & 1973 & 1977 & 5 & 1.60944 & 596.8 & 6.39158 & 1 & 0 & 0 & 8.66734 & 16.8828 & 140 & 5.65e-6 & -12.083 & 426829 & 3048.78 & 8.0225 & -15.4778 & 28.4 & 3.38099 & 0.307319 & -1.17987 & 0.1512 & -1.88915 & 0 & 1 \\\\\n",
       "\t27 & 3172 & Congo-Brazaville 1998-2002 & 484 & CON & 1 & 0 & 2999 & 8.00603 & 2999 & 8.00603 & 3047 & 8.02191 & 2707600 & 14.8116 & 110.762 & 1998 & 2002 & 5 & 1.60944 & 599.8 & 6.3966 & 0 & 1 & 0 & 7.49572 & 12.8765 & 10 & 3.69e-6 & -12.509 & 74000 & 7400 & 8.90924 & 16.7564 & 0 & 0 & 0.657212 & -0.419748 & 0.5192 & -0.655466 & 1 & 1 \\\\\n",
       "\t28 & 2990 & Georgia (Abkhazia) & 372 & GRG & 3 & 1 & 3000 & 8.00637 & 3000 & 8.00637 & 3000 & 8.00637 & 5460000 & 15.513 & 54.9451 & 1992 & 1993 & 2 & 0.693147 & 1500 & 7.31322 & 0 & 1 & 0 & 8.25019 & 15.7672 & 25 & 4.58e-6 & -12.2941 & 850000 & 34000 & 10.4341 & 20.6803 & 60.8 & 4.1239 & 0.49551 & -0.702168 & 0.5454 & -0.606236 & 1 & 1 \\\\\n",
       "\t29 & 2710 & India (Assam) & 750 & IND & 3 & 1 & 3172 & 8.06212 & 2972 & 7.99699 & 3572 & 8.18088 & 815590016 & 20.5194 & 0.388921 & 1989 & 2002 & 14 & 2.63906 & 226.571 & 5.42306 & 0 & 0 & 1 & 7.0934 & 6.7346 & 1360 & 1.67e-6 & -13.3042 & 9590000 & 7051.47 & 8.86099 & 16.5894 & 12.9 & 2.63189 & 0.886478 & -0.120499 & 0.3384 & -1.08353 & 1 & 1 \\\\\n",
       "\t30 & 2190 & Great Britain (N. Ireland) & 200 & UKG & 5 & 1 & 3271 & 8.09285 & 3271 & 8.09285 & 3271 & 8.09285 & 55632000 & 17.8343 & 5.87971 & 1971 & 1993 & 23 & 3.13549 & 142.217 & 4.95736 & 1 & 0 & 1 & 9.05217 & 17.8082 & 390 & 7.01e-6 & -11.8681 & 5866538 & 15042.4 & 9.61863 & 18.7843 & 0.8 & 0.587787 & 0.325454 & -1.12253 & 0.6138 & -0.488086 & 1 & 1 \\\\\n",
       "\t$\\dots$ & $\\dots$ & $\\dots$ & $\\dots$ & $\\dots$ & $\\dots$ & $\\dots$ & $\\dots$ & $\\dots$ & $\\dots$ & $\\dots$ & $\\dots$ & $\\dots$ & $\\dots$ & $\\dots$ & $\\dots$ & $\\dots$ & $\\dots$ & $\\dots$ & $\\dots$ & $\\dots$ & $\\dots$ & $\\dots$ & $\\dots$ & $\\dots$ & $\\dots$ & $\\dots$ & $\\dots$ & $\\dots$ & $\\dots$ & $\\dots$ & $\\dots$ & $\\dots$ & $\\dots$ & $\\dots$ & $\\dots$ & $\\dots$ & $\\dots$ & $\\dots$ & $\\dots$ & $\\dots$ & $\\dots$ \\\\\n",
       "\\end{tabular}\n"
      ],
      "text/plain": [
       "114×41 DataFrame. Omitted printing of 37 columns\n",
       "│ Row │ ID   │ conflict_name                            │ ccode │ cname │\n",
       "│     │ \u001b[90mAny\u001b[39m  │ \u001b[90mAny\u001b[39m                                      │ \u001b[90mAny\u001b[39m   │ \u001b[90mAny\u001b[39m   │\n",
       "├─────┼──────┼──────────────────────────────────────────┼───────┼───────┤\n",
       "│ 1   │ 1990 │ India (Mizoram)                          │ 750   │ IND   │\n",
       "│ 2   │ 1500 │ Argentina 1955                           │ 160   │ ARG   │\n",
       "│ 3   │ 2770 │ Romania 1989                             │ 360   │ RUM   │\n",
       "│ 4   │ 2970 │ Croatia 1992-5                           │ 344   │ CRO   │\n",
       "│ 5   │ 3000 │ Georgia (South Ossetia)                  │ 372   │ GRG   │\n",
       "│ 6   │ 1911 │ Chad 1997-2002                           │ 483   │ CHA   │\n",
       "│ 7   │ 2721 │ Indonesia (Aceh 1999-2001)               │ 850   │ INS   │\n",
       "│ 8   │ 1180 │ China (Taiwan 1947)                      │ 710   │ SHN   │\n",
       "│ 9   │ 1010 │ Bolivia (Popular Revolutionary Movement) │ 145   │ BOL   │\n",
       "│ 10  │ 1460 │ Indonesia (Darul Islam)                  │ 850   │ INS   │\n",
       "⋮\n",
       "│ 104 │ 2184 │ Uganda 1981-91                           │ 500   │ UGA   │\n",
       "│ 105 │ 1631 │ Lebanon 1975-90                          │ 660   │ LEB   │\n",
       "│ 106 │ 2310 │ Angola (UNITA 1975-95)                   │ 540   │ ANG   │\n",
       "│ 107 │ 1865 │ DRC 1998-2001                            │ 490   │ DRC   │\n",
       "│ 108 │ 1040 │ Greek Civil War                          │ 350   │ GRC   │\n",
       "│ 109 │ 2360 │ Mozambique 1976-1992                     │ 541   │ MZM   │\n",
       "│ 110 │ 1780 │ Ethiopia (Eritrea Indep.)                │ 530   │ ETH   │\n",
       "│ 111 │ 2031 │ Cambodia 1967-75                         │ 811   │ CAM   │\n",
       "│ 112 │ 2370 │ Afghanistan 1978-2000                    │ 700   │ AFG   │\n",
       "│ 113 │ 1030 │ Chinese Civil War                        │ 710   │ CHN   │\n",
       "│ 114 │ 1960 │ Vietnam War                              │ 817   │ RVN   │"
      ]
     },
     "execution_count": 39,
     "metadata": {},
     "output_type": "execute_result"
    }
   ],
   "source": [
    "deleterows!(df2, [1])"
   ]
  },
  {
   "cell_type": "code",
   "execution_count": 40,
   "metadata": {},
   "outputs": [
    {
     "data": {
      "text/html": [
       "<table class=\"data-frame\"><thead><tr><th></th><th>ID</th><th>conflict_name</th><th>ccode</th><th>cname</th><th>region</th><th>secession</th><th>battledeadbest</th><th>lnbdb</th><th>battledeadlow</th><th>lnbdl</th><th>battledeadhigh</th><th>lnbdh</th><th>pop</th><th>lnpop</th><th>dper100k</th><th>begin</th><th>end</th><th>duration</th><th>lnduration</th><th>rate</th><th>lnrate</th><th>cw</th><th>intervention</th><th>democ</th><th>lngdp</th><th>gdpsq</th><th>milper</th><th>milperpop</th><th>lnmilperpop</th><th>milex</th><th>milqual</th><th>lnmilqual</th><th>milq2</th><th>mountain</th><th>lnmountain</th><th>ethfrac</th><th>lnethfrac</th><th>relfrac</th><th>lnrelfrac</th><th>relpolar</th><th>ethnicpolar</th></tr><tr><th></th><th>Any</th><th>Any</th><th>Any</th><th>Any</th><th>Any</th><th>Any</th><th>Any</th><th>Any</th><th>Any</th><th>Any</th><th>Any</th><th>Any</th><th>Any</th><th>Any</th><th>Any</th><th>Any</th><th>Any</th><th>Any</th><th>Any</th><th>Any</th><th>Any</th><th>Any</th><th>Any</th><th>Any</th><th>Any</th><th>Any</th><th>Any</th><th>Any</th><th>Any</th><th>Any</th><th>Any</th><th>Any</th><th>Any</th><th>Any</th><th>Any</th><th>Any</th><th>Any</th><th>Any</th><th>Any</th><th>Any</th><th>Any</th></tr></thead><tbody><p>5 rows × 41 columns</p><tr><th>1</th><td>1990</td><td>India (Mizoram)</td><td>750</td><td>IND</td><td>3</td><td>1</td><td>900</td><td>6.80239</td><td>900</td><td>6.80239</td><td>900</td><td>6.80239</td><td>487336992</td><td>20.0045</td><td>0.184677</td><td>1966</td><td>1968</td><td>3</td><td>1.09861</td><td>300</td><td>5.70378</td><td>1</td><td>0</td><td>1</td><td>6.62141</td><td>12.0995</td><td>1220</td><td>2.5e-6</td><td>-12.8979</td><td>1804170</td><td>1478.83</td><td>7.29901</td><td>14.7176</td><td>12.9</td><td>2.63189</td><td>0.886478</td><td>-0.120499</td><td>0.3384</td><td>-1.08353</td><td>1</td><td>1</td></tr><tr><th>2</th><td>1500</td><td>Argentina 1955</td><td>160</td><td>ARG</td><td>2</td><td>0</td><td>900</td><td>6.80239</td><td>900</td><td>6.80239</td><td>900</td><td>6.80239</td><td>18574000</td><td>16.7373</td><td>4.84548</td><td>1955</td><td>1955</td><td>1</td><td>0</td><td>900</td><td>6.80239</td><td>1</td><td>0</td><td>0</td><td>8.28702</td><td>15.8726</td><td>71</td><td>3.82e-6</td><td>-12.4746</td><td>566133</td><td>7973.7</td><td>8.98391</td><td>17.0041</td><td>28.4</td><td>3.38099</td><td>0.307319</td><td>-1.17987</td><td>0.1512</td><td>-1.88915</td><td>0</td><td>1</td></tr><tr><th>3</th><td>2770</td><td>Romania 1989</td><td>360</td><td>RUM</td><td>5</td><td>0</td><td>909</td><td>6.81234</td><td>909</td><td>6.81234</td><td>909</td><td>6.81234</td><td>23054000</td><td>16.9534</td><td>3.94292</td><td>1989</td><td>1989</td><td>1</td><td>0</td><td>909</td><td>6.81234</td><td>0</td><td>0</td><td>0</td><td>7.64444</td><td>13.6357</td><td>220</td><td>9.54e-6</td><td>-11.5597</td><td>809000</td><td>3677.27</td><td>8.20993</td><td>12.8866</td><td>17</td><td>2.89037</td><td>0.252163</td><td>-1.37768</td><td>0.4704</td><td>-0.754172</td><td>1</td><td>1</td></tr><tr><th>4</th><td>2970</td><td>Croatia 1992-5</td><td>344</td><td>CRO</td><td>5</td><td>1</td><td>950</td><td>6.85646</td><td>950</td><td>6.85646</td><td>950</td><td>6.85646</td><td>4782300</td><td>15.3804</td><td>19.8649</td><td>1992</td><td>1995</td><td>4</td><td>1.38629</td><td>237.5</td><td>5.47017</td><td>0</td><td>0</td><td>0</td><td></td><td></td><td>103</td><td>2.15e-5</td><td>-10.7457</td><td>561000</td><td>5446.6</td><td>8.60275</td><td>15.5646</td><td>3.60925</td><td>1.52807</td><td>0.334221</td><td>-1.09595</td><td>0.3828</td><td>-0.960243</td><td>1</td><td>1</td></tr><tr><th>5</th><td>3000</td><td>Georgia (South Ossetia)</td><td>372</td><td>GRG</td><td>3</td><td>1</td><td>950</td><td>6.85646</td><td>950</td><td>6.85646</td><td>950</td><td>6.85646</td><td>5460000</td><td>15.513</td><td>17.3993</td><td>1992</td><td>1992</td><td>1</td><td>0</td><td>950</td><td>6.85646</td><td>0</td><td>1</td><td>0</td><td>8.25019</td><td>15.7672</td><td>25</td><td>4.58e-6</td><td>-12.2941</td><td>850000</td><td>34000</td><td>10.4341</td><td>20.6803</td><td>60.8</td><td>4.1239</td><td>0.49551</td><td>-0.702168</td><td>0.5454</td><td>-0.606236</td><td>1</td><td>1</td></tr></tbody></table>"
      ],
      "text/latex": [
       "\\begin{tabular}{r|ccccccccccccccccccccccccccccccccccccccccc}\n",
       "\t& ID & conflict\\_name & ccode & cname & region & secession & battledeadbest & lnbdb & battledeadlow & lnbdl & battledeadhigh & lnbdh & pop & lnpop & dper100k & begin & end & duration & lnduration & rate & lnrate & cw & intervention & democ & lngdp & gdpsq & milper & milperpop & lnmilperpop & milex & milqual & lnmilqual & milq2 & mountain & lnmountain & ethfrac & lnethfrac & relfrac & lnrelfrac & relpolar & ethnicpolar\\\\\n",
       "\t\\hline\n",
       "\t& Any & Any & Any & Any & Any & Any & Any & Any & Any & Any & Any & Any & Any & Any & Any & Any & Any & Any & Any & Any & Any & Any & Any & Any & Any & Any & Any & Any & Any & Any & Any & Any & Any & Any & Any & Any & Any & Any & Any & Any & Any\\\\\n",
       "\t\\hline\n",
       "\t1 & 1990 & India (Mizoram) & 750 & IND & 3 & 1 & 900 & 6.80239 & 900 & 6.80239 & 900 & 6.80239 & 487336992 & 20.0045 & 0.184677 & 1966 & 1968 & 3 & 1.09861 & 300 & 5.70378 & 1 & 0 & 1 & 6.62141 & 12.0995 & 1220 & 2.5e-6 & -12.8979 & 1804170 & 1478.83 & 7.29901 & 14.7176 & 12.9 & 2.63189 & 0.886478 & -0.120499 & 0.3384 & -1.08353 & 1 & 1 \\\\\n",
       "\t2 & 1500 & Argentina 1955 & 160 & ARG & 2 & 0 & 900 & 6.80239 & 900 & 6.80239 & 900 & 6.80239 & 18574000 & 16.7373 & 4.84548 & 1955 & 1955 & 1 & 0 & 900 & 6.80239 & 1 & 0 & 0 & 8.28702 & 15.8726 & 71 & 3.82e-6 & -12.4746 & 566133 & 7973.7 & 8.98391 & 17.0041 & 28.4 & 3.38099 & 0.307319 & -1.17987 & 0.1512 & -1.88915 & 0 & 1 \\\\\n",
       "\t3 & 2770 & Romania 1989 & 360 & RUM & 5 & 0 & 909 & 6.81234 & 909 & 6.81234 & 909 & 6.81234 & 23054000 & 16.9534 & 3.94292 & 1989 & 1989 & 1 & 0 & 909 & 6.81234 & 0 & 0 & 0 & 7.64444 & 13.6357 & 220 & 9.54e-6 & -11.5597 & 809000 & 3677.27 & 8.20993 & 12.8866 & 17 & 2.89037 & 0.252163 & -1.37768 & 0.4704 & -0.754172 & 1 & 1 \\\\\n",
       "\t4 & 2970 & Croatia 1992-5 & 344 & CRO & 5 & 1 & 950 & 6.85646 & 950 & 6.85646 & 950 & 6.85646 & 4782300 & 15.3804 & 19.8649 & 1992 & 1995 & 4 & 1.38629 & 237.5 & 5.47017 & 0 & 0 & 0 &  &  & 103 & 2.15e-5 & -10.7457 & 561000 & 5446.6 & 8.60275 & 15.5646 & 3.60925 & 1.52807 & 0.334221 & -1.09595 & 0.3828 & -0.960243 & 1 & 1 \\\\\n",
       "\t5 & 3000 & Georgia (South Ossetia) & 372 & GRG & 3 & 1 & 950 & 6.85646 & 950 & 6.85646 & 950 & 6.85646 & 5460000 & 15.513 & 17.3993 & 1992 & 1992 & 1 & 0 & 950 & 6.85646 & 0 & 1 & 0 & 8.25019 & 15.7672 & 25 & 4.58e-6 & -12.2941 & 850000 & 34000 & 10.4341 & 20.6803 & 60.8 & 4.1239 & 0.49551 & -0.702168 & 0.5454 & -0.606236 & 1 & 1 \\\\\n",
       "\\end{tabular}\n"
      ],
      "text/plain": [
       "5×41 DataFrame. Omitted printing of 35 columns\n",
       "│ Row │ ID   │ conflict_name           │ ccode │ cname │ region │ secession │\n",
       "│     │ \u001b[90mAny\u001b[39m  │ \u001b[90mAny\u001b[39m                     │ \u001b[90mAny\u001b[39m   │ \u001b[90mAny\u001b[39m   │ \u001b[90mAny\u001b[39m    │ \u001b[90mAny\u001b[39m       │\n",
       "├─────┼──────┼─────────────────────────┼───────┼───────┼────────┼───────────┤\n",
       "│ 1   │ 1990 │ India (Mizoram)         │ 750   │ IND   │ 3      │ 1         │\n",
       "│ 2   │ 1500 │ Argentina 1955          │ 160   │ ARG   │ 2      │ 0         │\n",
       "│ 3   │ 2770 │ Romania 1989            │ 360   │ RUM   │ 5      │ 0         │\n",
       "│ 4   │ 2970 │ Croatia 1992-5          │ 344   │ CRO   │ 5      │ 1         │\n",
       "│ 5   │ 3000 │ Georgia (South Ossetia) │ 372   │ GRG   │ 3      │ 1         │"
      ]
     },
     "execution_count": 40,
     "metadata": {},
     "output_type": "execute_result"
    }
   ],
   "source": [
    "df2[1:5,:]"
   ]
  },
  {
   "cell_type": "markdown",
   "metadata": {},
   "source": [
    "# Summary Statistics"
   ]
  },
  {
   "cell_type": "code",
   "execution_count": 41,
   "metadata": {},
   "outputs": [
    {
     "data": {
      "text/html": [
       "<table class=\"data-frame\"><thead><tr><th></th><th>variable</th><th>mean</th><th>min</th><th>median</th><th>max</th><th>nunique</th><th>nmissing</th><th>eltype</th></tr><tr><th></th><th>Symbol</th><th>Union…</th><th>Any</th><th>Nothing</th><th>Any</th><th>Int64</th><th>Int64</th><th>DataType</th></tr></thead><tbody><p>41 rows × 8 columns</p><tr><th>1</th><td>ID</td><td>2086.67</td><td>1010</td><td></td><td>3211</td><td>113</td><td>0</td><td>Any</td></tr><tr><th>2</th><td>conflict_name</td><td></td><td>Afghanistan (Civil War &amp; US Invasion 2001-02)</td><td></td><td>Zaire 1996-7</td><td>114</td><td>0</td><td>Any</td></tr><tr><th>3</th><td>ccode</td><td>554.316</td><td>40</td><td></td><td>850</td><td>68</td><td>0</td><td>Any</td></tr><tr><th>4</th><td>cname</td><td></td><td>AFG</td><td></td><td>ZIM</td><td>69</td><td>0</td><td>Any</td></tr><tr><th>5</th><td>region</td><td>3.24561</td><td>1</td><td></td><td>6</td><td>6</td><td>0</td><td>Any</td></tr><tr><th>6</th><td>secession</td><td>0.377193</td><td>0</td><td></td><td>1</td><td>2</td><td>0</td><td>Any</td></tr><tr><th>7</th><td>battledeadbest</td><td>62677.1</td><td>900</td><td></td><td>2097705</td><td>96</td><td>0</td><td>Any</td></tr><tr><th>8</th><td>lnbdb</td><td>9.36235</td><td>6.80239</td><td></td><td>14.5564</td><td>96</td><td>0</td><td>Any</td></tr><tr><th>9</th><td>battledeadlow</td><td>59497.2</td><td>418</td><td></td><td>2097705</td><td>98</td><td>0</td><td>Any</td></tr><tr><th>10</th><td>lnbdl</td><td>9.196</td><td>6.03548</td><td></td><td>14.5564</td><td>98</td><td>0</td><td>Any</td></tr><tr><th>11</th><td>battledeadhigh</td><td>67705.1</td><td>900</td><td></td><td>2097705</td><td>94</td><td>0</td><td>Any</td></tr><tr><th>12</th><td>lnbdh</td><td>9.45044</td><td>6.80239</td><td></td><td>14.5564</td><td>94</td><td>0</td><td>Any</td></tr><tr><th>13</th><td>pop</td><td>9.02876e7</td><td>611000</td><td></td><td>929358016</td><td>111</td><td>0</td><td>Any</td></tr><tr><th>14</th><td>lnpop</td><td>16.7599</td><td>13.3229</td><td></td><td>20.65</td><td>111</td><td>0</td><td>Any</td></tr><tr><th>15</th><td>dper100k</td><td>459.743</td><td>0.160756</td><td></td><td>8870.54</td><td>114</td><td>0</td><td>Any</td></tr><tr><th>16</th><td>begin</td><td>1975.5</td><td>1946</td><td></td><td>2001</td><td>43</td><td>0</td><td>Any</td></tr><tr><th>17</th><td>end</td><td>1983.1</td><td>1946</td><td></td><td>2002</td><td>42</td><td>0</td><td>Any</td></tr><tr><th>18</th><td>duration</td><td>8.59649</td><td>1</td><td></td><td>55</td><td>27</td><td>0</td><td>Any</td></tr><tr><th>19</th><td>lnduration</td><td>1.55719</td><td>0.0</td><td></td><td>4.00733</td><td>27</td><td>0</td><td>Any</td></tr><tr><th>20</th><td>rate</td><td>9023.81</td><td>64.579</td><td></td><td>300000.0</td><td>99</td><td>0</td><td>Any</td></tr><tr><th>21</th><td>lnrate</td><td>7.80516</td><td>4.16789</td><td></td><td>12.6115</td><td>99</td><td>0</td><td>Any</td></tr><tr><th>22</th><td>cw</td><td>0.666667</td><td>0</td><td></td><td>1</td><td>2</td><td>0</td><td>Any</td></tr><tr><th>23</th><td>intervention</td><td>0.552632</td><td>0</td><td></td><td>1</td><td>2</td><td>0</td><td>Any</td></tr><tr><th>24</th><td>democ</td><td>0.175439</td><td>0</td><td></td><td>1</td><td>2</td><td>0</td><td>Any</td></tr><tr><th>25</th><td>lngdp</td><td></td><td></td><td></td><td></td><td>101</td><td>0</td><td>Any</td></tr><tr><th>26</th><td>gdpsq</td><td></td><td></td><td></td><td></td><td>100</td><td>0</td><td>Any</td></tr><tr><th>27</th><td>milper</td><td>372.07</td><td>1</td><td></td><td>4158</td><td>78</td><td>0</td><td>Any</td></tr><tr><th>28</th><td>milperpop</td><td>6.14704e-6</td><td>1.66e-7</td><td></td><td>8.0e-5</td><td>108</td><td>0</td><td>Any</td></tr><tr><th>29</th><td>lnmilperpop</td><td>-12.5252</td><td>-15.6139</td><td></td><td>-9.43337</td><td>111</td><td>0</td><td>Any</td></tr><tr><th>30</th><td>milex</td><td></td><td></td><td></td><td></td><td>107</td><td>0</td><td>Any</td></tr><tr><th>&vellip;</th><td>&vellip;</td><td>&vellip;</td><td>&vellip;</td><td>&vellip;</td><td>&vellip;</td><td>&vellip;</td><td>&vellip;</td><td>&vellip;</td></tr></tbody></table>"
      ],
      "text/latex": [
       "\\begin{tabular}{r|cccccccc}\n",
       "\t& variable & mean & min & median & max & nunique & nmissing & eltype\\\\\n",
       "\t\\hline\n",
       "\t& Symbol & Union… & Any & Nothing & Any & Int64 & Int64 & DataType\\\\\n",
       "\t\\hline\n",
       "\t1 & ID & 2086.67 & 1010 &  & 3211 & 113 & 0 & Any \\\\\n",
       "\t2 & conflict\\_name &  & Afghanistan (Civil War \\& US Invasion 2001-02) &  & Zaire 1996-7 & 114 & 0 & Any \\\\\n",
       "\t3 & ccode & 554.316 & 40 &  & 850 & 68 & 0 & Any \\\\\n",
       "\t4 & cname &  & AFG &  & ZIM & 69 & 0 & Any \\\\\n",
       "\t5 & region & 3.24561 & 1 &  & 6 & 6 & 0 & Any \\\\\n",
       "\t6 & secession & 0.377193 & 0 &  & 1 & 2 & 0 & Any \\\\\n",
       "\t7 & battledeadbest & 62677.1 & 900 &  & 2097705 & 96 & 0 & Any \\\\\n",
       "\t8 & lnbdb & 9.36235 & 6.80239 &  & 14.5564 & 96 & 0 & Any \\\\\n",
       "\t9 & battledeadlow & 59497.2 & 418 &  & 2097705 & 98 & 0 & Any \\\\\n",
       "\t10 & lnbdl & 9.196 & 6.03548 &  & 14.5564 & 98 & 0 & Any \\\\\n",
       "\t11 & battledeadhigh & 67705.1 & 900 &  & 2097705 & 94 & 0 & Any \\\\\n",
       "\t12 & lnbdh & 9.45044 & 6.80239 &  & 14.5564 & 94 & 0 & Any \\\\\n",
       "\t13 & pop & 9.02876e7 & 611000 &  & 929358016 & 111 & 0 & Any \\\\\n",
       "\t14 & lnpop & 16.7599 & 13.3229 &  & 20.65 & 111 & 0 & Any \\\\\n",
       "\t15 & dper100k & 459.743 & 0.160756 &  & 8870.54 & 114 & 0 & Any \\\\\n",
       "\t16 & begin & 1975.5 & 1946 &  & 2001 & 43 & 0 & Any \\\\\n",
       "\t17 & end & 1983.1 & 1946 &  & 2002 & 42 & 0 & Any \\\\\n",
       "\t18 & duration & 8.59649 & 1 &  & 55 & 27 & 0 & Any \\\\\n",
       "\t19 & lnduration & 1.55719 & 0.0 &  & 4.00733 & 27 & 0 & Any \\\\\n",
       "\t20 & rate & 9023.81 & 64.579 &  & 300000.0 & 99 & 0 & Any \\\\\n",
       "\t21 & lnrate & 7.80516 & 4.16789 &  & 12.6115 & 99 & 0 & Any \\\\\n",
       "\t22 & cw & 0.666667 & 0 &  & 1 & 2 & 0 & Any \\\\\n",
       "\t23 & intervention & 0.552632 & 0 &  & 1 & 2 & 0 & Any \\\\\n",
       "\t24 & democ & 0.175439 & 0 &  & 1 & 2 & 0 & Any \\\\\n",
       "\t25 & lngdp &  &  &  &  & 101 & 0 & Any \\\\\n",
       "\t26 & gdpsq &  &  &  &  & 100 & 0 & Any \\\\\n",
       "\t27 & milper & 372.07 & 1 &  & 4158 & 78 & 0 & Any \\\\\n",
       "\t28 & milperpop & 6.14704e-6 & 1.66e-7 &  & 8.0e-5 & 108 & 0 & Any \\\\\n",
       "\t29 & lnmilperpop & -12.5252 & -15.6139 &  & -9.43337 & 111 & 0 & Any \\\\\n",
       "\t30 & milex &  &  &  &  & 107 & 0 & Any \\\\\n",
       "\t$\\dots$ & $\\dots$ & $\\dots$ & $\\dots$ & $\\dots$ & $\\dots$ & $\\dots$ & $\\dots$ & $\\dots$ \\\\\n",
       "\\end{tabular}\n"
      ],
      "text/plain": [
       "41×8 DataFrame. Omitted printing of 6 columns\n",
       "│ Row │ variable       │ mean     │\n",
       "│     │ \u001b[90mSymbol\u001b[39m         │ \u001b[90mUnion…\u001b[39m   │\n",
       "├─────┼────────────────┼──────────┤\n",
       "│ 1   │ ID             │ 2086.67  │\n",
       "│ 2   │ conflict_name  │          │\n",
       "│ 3   │ ccode          │ 554.316  │\n",
       "│ 4   │ cname          │          │\n",
       "│ 5   │ region         │ 3.24561  │\n",
       "│ 6   │ secession      │ 0.377193 │\n",
       "│ 7   │ battledeadbest │ 62677.1  │\n",
       "│ 8   │ lnbdb          │ 9.36235  │\n",
       "│ 9   │ battledeadlow  │ 59497.2  │\n",
       "│ 10  │ lnbdl          │ 9.196    │\n",
       "⋮\n",
       "│ 31  │ milqual        │          │\n",
       "│ 32  │ lnmilqual      │          │\n",
       "│ 33  │ milq2          │          │\n",
       "│ 34  │ mountain       │ 23.2706  │\n",
       "│ 35  │ lnmountain     │ 2.68831  │\n",
       "│ 36  │ ethfrac        │ 0.495126 │\n",
       "│ 37  │ lnethfrac      │ -1.0486  │\n",
       "│ 38  │ relfrac        │ 0.397779 │\n",
       "│ 39  │ lnrelfrac      │          │\n",
       "│ 40  │ relpolar       │ 0.780702 │\n",
       "│ 41  │ ethnicpolar    │ 0.780702 │"
      ]
     },
     "execution_count": 41,
     "metadata": {},
     "output_type": "execute_result"
    }
   ],
   "source": [
    "describe(df2)\n",
    "# or describe(df1)"
   ]
  },
  {
   "cell_type": "markdown",
   "metadata": {},
   "source": [
    "# Histogram of outcome of interest"
   ]
  },
  {
   "cell_type": "code",
   "execution_count": 42,
   "metadata": {},
   "outputs": [
    {
     "data": {
      "image/png": "[encoded data removed]",
      "text/plain": [
       "Figure(PyObject <Figure size 640x480 with 1 Axes>)"
      ]
     },
     "metadata": {},
     "output_type": "display_data"
    },
    {
     "data": {
      "text/plain": [
       "PyObject Text(0.5, 1.0, 'Histogram')"
      ]
     },
     "execution_count": 42,
     "metadata": {},
     "output_type": "execute_result"
    }
   ],
   "source": [
    "#ioff()\n",
    "h = plt[:hist](df1[:battledeadbest],10) # Histogram, PyPlot.plt required to differentiate with conflicting hist command\n",
    "\n",
    "grid(\"on\")\n",
    "xlabel(\"battledeadbst\")\n",
    "ylabel(\"freq\")\n",
    "title(\"Histogram\")\n",
    "\n",
    "#gcf() # Needed for IJulia to plot inline"
   ]
  },
  {
   "cell_type": "code",
   "execution_count": 43,
   "metadata": {},
   "outputs": [
    {
     "data": {
      "image/png": "[encoded data removed]",
      "text/plain": [
       "Figure(PyObject <Figure size 640x480 with 1 Axes>)"
      ]
     },
     "metadata": {},
     "output_type": "display_data"
    },
    {
     "data": {
      "text/plain": [
       "PyObject Text(0.5, 1.0, 'Histogram')"
      ]
     },
     "execution_count": 43,
     "metadata": {},
     "output_type": "execute_result"
    }
   ],
   "source": [
    "#ioff()\n",
    "h = plt[:hist](df1[:lnbdb],10) # Histogram, PyPlot.plt required to differentiate with conflicting hist command\n",
    "\n",
    "grid(\"on\")\n",
    "xlabel(\"lnbdb\")\n",
    "ylabel(\"freq\")\n",
    "title(\"Histogram\")\n",
    "#gcf()"
   ]
  },
  {
   "cell_type": "markdown",
   "metadata": {},
   "source": [
    "# Linear Regression"
   ]
  },
  {
   "cell_type": "markdown",
   "metadata": {},
   "source": [
    "## OLS estimation with StatsModels"
   ]
  },
  {
   "cell_type": "code",
   "execution_count": 21,
   "metadata": {},
   "outputs": [
    {
     "data": {
      "text/plain": [
       "StatsModels.DataFrameRegressionModel{LinearModel{LmResp{Array{Float64,1}},DensePredChol{Float64,LinearAlgebra.Cholesky{Float64,Array{Float64,2}}}},Array{Float64,2}}\n",
       "\n",
       "Formula: lnbdb ~ 1 + lnduration + lnpop + lnmilqual + lngdp + cw + lnmountain + democ + ethnicpolar + relpolar\n",
       "\n",
       "Coefficients:\n",
       "               Estimate Std.Error   t value Pr(>|t|)\n",
       "(Intercept)     9.54259   1.97523   4.83113    <1e-5\n",
       "lnduration     0.807215  0.119085   6.77849    <1e-8\n",
       "lnpop        -0.0444459 0.0806522 -0.551082   0.5829\n",
       "lnmilqual      0.100535  0.119599  0.840602   0.4027\n",
       "lngdp         -0.190762  0.175242  -1.08857   0.2791\n",
       "cw             0.666635  0.313273   2.12797   0.0359\n",
       "lnmountain     0.101181  0.119736  0.845036   0.4002\n",
       "democ         -0.870604  0.357806  -2.43317   0.0168\n",
       "ethnicpolar   -0.980459  0.338806  -2.89386   0.0047\n",
       "relpolar       0.118726  0.323089  0.367471   0.7141\n"
      ]
     },
     "execution_count": 21,
     "metadata": {},
     "output_type": "execute_result"
    }
   ],
   "source": [
    "m1 = fit(LinearModel, @formula(lnbdb ~ lnduration + lnpop + lnmilqual + lngdp + cw + lnmountain + democ + ethnicpolar + relpolar), df1)"
   ]
  },
  {
   "cell_type": "code",
   "execution_count": 22,
   "metadata": {},
   "outputs": [
    {
     "data": {
      "text/plain": [
       "StatsModels.DataFrameRegressionModel{LinearModel{LmResp{Array{Float64,1}},DensePredChol{Float64,LinearAlgebra.Cholesky{Float64,Array{Float64,2}}}},Array{Float64,2}}\n",
       "\n",
       "Formula: lnbdb ~ 1 + lnduration + lnpop + lnmilqual + lngdp + cw + lnmountain + democ + ethnicpolar + relpolar\n",
       "\n",
       "Coefficients:\n",
       "               Estimate Std.Error   t value Pr(>|t|)\n",
       "(Intercept)     9.54259   1.97523   4.83113    <1e-5\n",
       "lnduration     0.807215  0.119085   6.77849    <1e-8\n",
       "lnpop        -0.0444459 0.0806522 -0.551082   0.5829\n",
       "lnmilqual      0.100535  0.119599  0.840602   0.4027\n",
       "lngdp         -0.190762  0.175242  -1.08857   0.2791\n",
       "cw             0.666635  0.313273   2.12797   0.0359\n",
       "lnmountain     0.101181  0.119736  0.845036   0.4002\n",
       "democ         -0.870604  0.357806  -2.43317   0.0168\n",
       "ethnicpolar   -0.980459  0.338806  -2.89386   0.0047\n",
       "relpolar       0.118726  0.323089  0.367471   0.7141\n"
      ]
     },
     "execution_count": 22,
     "metadata": {},
     "output_type": "execute_result"
    }
   ],
   "source": [
    "m1"
   ]
  },
  {
   "cell_type": "code",
   "execution_count": 23,
   "metadata": {},
   "outputs": [],
   "source": [
    "# diagnostics"
   ]
  },
  {
   "cell_type": "code",
   "execution_count": 52,
   "metadata": {},
   "outputs": [
    {
     "name": "stdout",
     "output_type": "stream",
     "text": [
      "\u001b[32m\u001b[1m Resolving\u001b[22m\u001b[39m package versions...\n",
      "\u001b[32m\u001b[1m  Updating\u001b[22m\u001b[39m `~/.julia/environments/v1.0/Project.toml`\n",
      "\u001b[90m [no changes]\u001b[39m\n",
      "\u001b[32m\u001b[1m  Updating\u001b[22m\u001b[39m `~/.julia/environments/v1.0/Manifest.toml`\n",
      "\u001b[90m [no changes]\u001b[39m\n",
      "\u001b[32m\u001b[1m Resolving\u001b[22m\u001b[39m package versions...\n",
      "\u001b[32m\u001b[1m  Updating\u001b[22m\u001b[39m `~/.julia/environments/v1.0/Project.toml`\n",
      "\u001b[90m [no changes]\u001b[39m\n",
      "\u001b[32m\u001b[1m  Updating\u001b[22m\u001b[39m `~/.julia/environments/v1.0/Manifest.toml`\n",
      "\u001b[90m [no changes]\u001b[39m\n"
     ]
    }
   ],
   "source": [
    "Pkg.add(\"StatPlots\")\n",
    "Pkg.add(\"Plots\")"
   ]
  },
  {
   "cell_type": "code",
   "execution_count": 53,
   "metadata": {},
   "outputs": [],
   "source": [
    "using StatPlots, Plots"
   ]
  },
  {
   "cell_type": "code",
   "execution_count": 55,
   "metadata": {},
   "outputs": [
    {
     "data": {
      "image/svg+xml": [
       "<?xml version=\"1.0\" encoding=\"utf-8\"?>\n",
       "<svg xmlns=\"http://www.w3.org/2000/svg\" xmlns:xlink=\"http://www.w3.org/1999/xlink\" width=\"600\" height=\"400\" viewBox=\"0 0 2400 1600\">\n",
       "<defs>\n",
       "  <clipPath id=\"clip1400\">\n",
       "    <rect x=\"0\" y=\"0\" width=\"2000\" height=\"2000\"/>\n",
       "  </clipPath>\n",
       "</defs>\n",
       "<defs>\n",
       "  <clipPath id=\"clip1401\">\n",
       "    <rect x=\"0\" y=\"0\" width=\"2400\" height=\"1600\"/>\n",
       "  </clipPath>\n",
       "</defs>\n",
       "<polygon clip-path=\"url(#clip1401)\" points=\"\n",
       "0,1600 2400,1600 2400,0 0,0 \n",
       "  \" fill=\"#ffffff\" fill-rule=\"evenodd\" fill-opacity=\"1\"/>\n",
       "<defs>\n",
       "  <clipPath id=\"clip1402\">\n",
       "    <rect x=\"480\" y=\"0\" width=\"1681\" height=\"1600\"/>\n",
       "  </clipPath>\n",
       "</defs>\n",
       "<polygon clip-path=\"url(#clip1401)\" points=\"\n",
       "211.005,671.979 1179.52,671.979 1179.52,47.2441 211.005,47.2441 \n",
       "  \" fill=\"#ffffff\" fill-rule=\"evenodd\" fill-opacity=\"1\"/>\n",
       "<defs>\n",
       "  <clipPath id=\"clip1403\">\n",
       "    <rect x=\"211\" y=\"47\" width=\"970\" height=\"626\"/>\n",
       "  </clipPath>\n",
       "</defs>\n",
       "<polyline clip-path=\"url(#clip1401)\" style=\"stroke:#000000; stroke-width:4; stroke-opacity:0; fill:none\" points=\"\n",
       "  211.005,671.979 1179.52,671.979 \n",
       "  \"/>\n",
       "<polyline clip-path=\"url(#clip1401)\" style=\"stroke:#000000; stroke-width:4; stroke-opacity:0; fill:none\" points=\"\n",
       "  211.005,671.979 211.005,47.2441 \n",
       "  \"/>\n",
       "<polyline clip-path=\"url(#clip1401)\" style=\"stroke:#000000; stroke-width:4; stroke-opacity:1; fill:none\" points=\"\n",
       "  264.275,671.979 264.275,662.608 \n",
       "  \"/>\n",
       "<polyline clip-path=\"url(#clip1401)\" style=\"stroke:#000000; stroke-width:4; stroke-opacity:1; fill:none\" points=\"\n",
       "  455.825,671.979 455.825,662.608 \n",
       "  \"/>\n",
       "<polyline clip-path=\"url(#clip1401)\" style=\"stroke:#000000; stroke-width:4; stroke-opacity:1; fill:none\" points=\"\n",
       "  647.374,671.979 647.374,662.608 \n",
       "  \"/>\n",
       "<polyline clip-path=\"url(#clip1401)\" style=\"stroke:#000000; stroke-width:4; stroke-opacity:1; fill:none\" points=\"\n",
       "  838.924,671.979 838.924,662.608 \n",
       "  \"/>\n",
       "<polyline clip-path=\"url(#clip1401)\" style=\"stroke:#000000; stroke-width:4; stroke-opacity:1; fill:none\" points=\"\n",
       "  1030.47,671.979 1030.47,662.608 \n",
       "  \"/>\n",
       "<polyline clip-path=\"url(#clip1401)\" style=\"stroke:#000000; stroke-width:4; stroke-opacity:1; fill:none\" points=\"\n",
       "  211.005,654.297 225.533,654.297 \n",
       "  \"/>\n",
       "<polyline clip-path=\"url(#clip1401)\" style=\"stroke:#000000; stroke-width:4; stroke-opacity:1; fill:none\" points=\"\n",
       "  211.005,545.154 225.533,545.154 \n",
       "  \"/>\n",
       "<polyline clip-path=\"url(#clip1401)\" style=\"stroke:#000000; stroke-width:4; stroke-opacity:1; fill:none\" points=\"\n",
       "  211.005,436.011 225.533,436.011 \n",
       "  \"/>\n",
       "<polyline clip-path=\"url(#clip1401)\" style=\"stroke:#000000; stroke-width:4; stroke-opacity:1; fill:none\" points=\"\n",
       "  211.005,326.868 225.533,326.868 \n",
       "  \"/>\n",
       "<polyline clip-path=\"url(#clip1401)\" style=\"stroke:#000000; stroke-width:4; stroke-opacity:1; fill:none\" points=\"\n",
       "  211.005,217.725 225.533,217.725 \n",
       "  \"/>\n",
       "<polyline clip-path=\"url(#clip1401)\" style=\"stroke:#000000; stroke-width:4; stroke-opacity:1; fill:none\" points=\"\n",
       "  211.005,108.582 225.533,108.582 \n",
       "  \"/>\n",
       "<g clip-path=\"url(#clip1401)\">\n",
       "<text style=\"fill:#000000; fill-opacity:1; font-family:Arial,Helvetica Neue,Helvetica,sans-serif; font-size:48px; text-anchor:middle;\" transform=\"rotate(0, 264.275, 725.979)\" x=\"264.275\" y=\"725.979\"></text>\n",
       "</g>\n",
       "<g clip-path=\"url(#clip1401)\">\n",
       "<text style=\"fill:#000000; fill-opacity:1; font-family:Arial,Helvetica Neue,Helvetica,sans-serif; font-size:48px; text-anchor:middle;\" transform=\"rotate(0, 455.825, 725.979)\" x=\"455.825\" y=\"725.979\"></text>\n",
       "</g>\n",
       "<g clip-path=\"url(#clip1401)\">\n",
       "<text style=\"fill:#000000; fill-opacity:1; font-family:Arial,Helvetica Neue,Helvetica,sans-serif; font-size:48px; text-anchor:middle;\" transform=\"rotate(0, 647.374, 725.979)\" x=\"647.374\" y=\"725.979\"></text>\n",
       "</g>\n",
       "<g clip-path=\"url(#clip1401)\">\n",
       "<text style=\"fill:#000000; fill-opacity:1; font-family:Arial,Helvetica Neue,Helvetica,sans-serif; font-size:48px; text-anchor:middle;\" transform=\"rotate(0, 838.924, 725.979)\" x=\"838.924\" y=\"725.979\"></text>\n",
       "</g>\n",
       "<g clip-path=\"url(#clip1401)\">\n",
       "<text style=\"fill:#000000; fill-opacity:1; font-family:Arial,Helvetica Neue,Helvetica,sans-serif; font-size:48px; text-anchor:middle;\" transform=\"rotate(0, 1030.47, 725.979)\" x=\"1030.47\" y=\"725.979\"></text>\n",
       "</g>\n",
       "<g clip-path=\"url(#clip1401)\">\n",
       "<text style=\"fill:#000000; fill-opacity:1; font-family:Arial,Helvetica Neue,Helvetica,sans-serif; font-size:48px; text-anchor:end;\" transform=\"rotate(0, 187.005, 671.797)\" x=\"187.005\" y=\"671.797\">0</text>\n",
       "</g>\n",
       "<g clip-path=\"url(#clip1401)\">\n",
       "<text style=\"fill:#000000; fill-opacity:1; font-family:Arial,Helvetica Neue,Helvetica,sans-serif; font-size:48px; text-anchor:end;\" transform=\"rotate(0, 187.005, 562.654)\" x=\"187.005\" y=\"562.654\">5</text>\n",
       "</g>\n",
       "<g clip-path=\"url(#clip1401)\">\n",
       "<text style=\"fill:#000000; fill-opacity:1; font-family:Arial,Helvetica Neue,Helvetica,sans-serif; font-size:48px; text-anchor:end;\" transform=\"rotate(0, 187.005, 453.511)\" x=\"187.005\" y=\"453.511\">10</text>\n",
       "</g>\n",
       "<g clip-path=\"url(#clip1401)\">\n",
       "<text style=\"fill:#000000; fill-opacity:1; font-family:Arial,Helvetica Neue,Helvetica,sans-serif; font-size:48px; text-anchor:end;\" transform=\"rotate(0, 187.005, 344.368)\" x=\"187.005\" y=\"344.368\">15</text>\n",
       "</g>\n",
       "<g clip-path=\"url(#clip1401)\">\n",
       "<text style=\"fill:#000000; fill-opacity:1; font-family:Arial,Helvetica Neue,Helvetica,sans-serif; font-size:48px; text-anchor:end;\" transform=\"rotate(0, 187.005, 235.225)\" x=\"187.005\" y=\"235.225\">20</text>\n",
       "</g>\n",
       "<g clip-path=\"url(#clip1401)\">\n",
       "<text style=\"fill:#000000; fill-opacity:1; font-family:Arial,Helvetica Neue,Helvetica,sans-serif; font-size:48px; text-anchor:end;\" transform=\"rotate(0, 187.005, 126.082)\" x=\"187.005\" y=\"126.082\">25</text>\n",
       "</g>\n",
       "<g clip-path=\"url(#clip1401)\">\n",
       "<text style=\"fill:#000000; fill-opacity:1; font-family:Arial,Helvetica Neue,Helvetica,sans-serif; font-size:66px; text-anchor:middle;\" transform=\"rotate(-90, 57.6, 359.611)\" x=\"57.6\" y=\"359.611\">lnbdb</text>\n",
       "</g>\n",
       "<polygon clip-path=\"url(#clip1403)\" points=\"\n",
       "264.275,436.011 264.275,654.297 360.05,654.297 360.05,436.011 264.275,436.011 264.275,436.011 \n",
       "  \" fill=\"#000000\" fill-rule=\"evenodd\" fill-opacity=\"1\"/>\n",
       "<polyline clip-path=\"url(#clip1403)\" style=\"stroke:#000000; stroke-width:4; stroke-opacity:1; fill:none\" points=\"\n",
       "  264.275,436.011 264.275,654.297 360.05,654.297 360.05,436.011 264.275,436.011 \n",
       "  \"/>\n",
       "<polygon clip-path=\"url(#clip1403)\" points=\"\n",
       "360.05,326.868 360.05,654.297 455.825,654.297 455.825,326.868 360.05,326.868 360.05,326.868 \n",
       "  \" fill=\"#000000\" fill-rule=\"evenodd\" fill-opacity=\"1\"/>\n",
       "<polyline clip-path=\"url(#clip1403)\" style=\"stroke:#000000; stroke-width:4; stroke-opacity:1; fill:none\" points=\"\n",
       "  360.05,326.868 360.05,654.297 455.825,654.297 455.825,326.868 360.05,326.868 \n",
       "  \"/>\n",
       "<polygon clip-path=\"url(#clip1403)\" points=\"\n",
       "455.825,64.9253 455.825,654.297 551.599,654.297 551.599,64.9253 455.825,64.9253 455.825,64.9253 \n",
       "  \" fill=\"#000000\" fill-rule=\"evenodd\" fill-opacity=\"1\"/>\n",
       "<polyline clip-path=\"url(#clip1403)\" style=\"stroke:#000000; stroke-width:4; stroke-opacity:1; fill:none\" points=\"\n",
       "  455.825,64.9253 455.825,654.297 551.599,654.297 551.599,64.9253 455.825,64.9253 \n",
       "  \"/>\n",
       "<polygon clip-path=\"url(#clip1403)\" points=\"\n",
       "551.599,261.383 551.599,654.297 647.374,654.297 647.374,261.383 551.599,261.383 551.599,261.383 \n",
       "  \" fill=\"#000000\" fill-rule=\"evenodd\" fill-opacity=\"1\"/>\n",
       "<polyline clip-path=\"url(#clip1403)\" style=\"stroke:#000000; stroke-width:4; stroke-opacity:1; fill:none\" points=\"\n",
       "  551.599,261.383 551.599,654.297 647.374,654.297 647.374,261.383 551.599,261.383 \n",
       "  \"/>\n",
       "<polygon clip-path=\"url(#clip1403)\" points=\"\n",
       "647.374,130.411 647.374,654.297 743.149,654.297 743.149,130.411 647.374,130.411 647.374,130.411 \n",
       "  \" fill=\"#000000\" fill-rule=\"evenodd\" fill-opacity=\"1\"/>\n",
       "<polyline clip-path=\"url(#clip1403)\" style=\"stroke:#000000; stroke-width:4; stroke-opacity:1; fill:none\" points=\"\n",
       "  647.374,130.411 647.374,654.297 743.149,654.297 743.149,130.411 647.374,130.411 \n",
       "  \"/>\n",
       "<polygon clip-path=\"url(#clip1403)\" points=\"\n",
       "743.149,348.697 743.149,654.297 838.924,654.297 838.924,348.697 743.149,348.697 743.149,348.697 \n",
       "  \" fill=\"#000000\" fill-rule=\"evenodd\" fill-opacity=\"1\"/>\n",
       "<polyline clip-path=\"url(#clip1403)\" style=\"stroke:#000000; stroke-width:4; stroke-opacity:1; fill:none\" points=\"\n",
       "  743.149,348.697 743.149,654.297 838.924,654.297 838.924,348.697 743.149,348.697 \n",
       "  \"/>\n",
       "<polygon clip-path=\"url(#clip1403)\" points=\"\n",
       "838.924,588.812 838.924,654.297 934.699,654.297 934.699,588.812 838.924,588.812 838.924,588.812 \n",
       "  \" fill=\"#000000\" fill-rule=\"evenodd\" fill-opacity=\"1\"/>\n",
       "<polyline clip-path=\"url(#clip1403)\" style=\"stroke:#000000; stroke-width:4; stroke-opacity:1; fill:none\" points=\"\n",
       "  838.924,588.812 838.924,654.297 934.699,654.297 934.699,588.812 838.924,588.812 \n",
       "  \"/>\n",
       "<polygon clip-path=\"url(#clip1403)\" points=\"\n",
       "934.699,610.64 934.699,654.297 1030.47,654.297 1030.47,610.64 934.699,610.64 934.699,610.64 \n",
       "  \" fill=\"#000000\" fill-rule=\"evenodd\" fill-opacity=\"1\"/>\n",
       "<polyline clip-path=\"url(#clip1403)\" style=\"stroke:#000000; stroke-width:4; stroke-opacity:1; fill:none\" points=\"\n",
       "  934.699,610.64 934.699,654.297 1030.47,654.297 1030.47,610.64 934.699,610.64 \n",
       "  \"/>\n",
       "<polygon clip-path=\"url(#clip1403)\" points=\"\n",
       "1030.47,632.469 1030.47,654.297 1126.25,654.297 1126.25,632.469 1030.47,632.469 1030.47,632.469 \n",
       "  \" fill=\"#000000\" fill-rule=\"evenodd\" fill-opacity=\"1\"/>\n",
       "<polyline clip-path=\"url(#clip1403)\" style=\"stroke:#000000; stroke-width:4; stroke-opacity:1; fill:none\" points=\"\n",
       "  1030.47,632.469 1030.47,654.297 1126.25,654.297 1126.25,632.469 1030.47,632.469 \n",
       "  \"/>\n",
       "<polygon clip-path=\"url(#clip1401)\" points=\"\n",
       "1352.75,671.979 2321.26,671.979 2321.26,47.2441 1352.75,47.2441 \n",
       "  \" fill=\"#ffffff\" fill-rule=\"evenodd\" fill-opacity=\"1\"/>\n",
       "<defs>\n",
       "  <clipPath id=\"clip1404\">\n",
       "    <rect x=\"1352\" y=\"47\" width=\"970\" height=\"626\"/>\n",
       "  </clipPath>\n",
       "</defs>\n",
       "<polyline clip-path=\"url(#clip1401)\" style=\"stroke:#000000; stroke-width:4; stroke-opacity:0; fill:none\" points=\"\n",
       "  1352.75,671.979 2321.26,671.979 \n",
       "  \"/>\n",
       "<polyline clip-path=\"url(#clip1401)\" style=\"stroke:#000000; stroke-width:4; stroke-opacity:0; fill:none\" points=\"\n",
       "  1352.75,671.979 1352.75,47.2441 \n",
       "  \"/>\n",
       "<polyline clip-path=\"url(#clip1401)\" style=\"stroke:#000000; stroke-width:4; stroke-opacity:1; fill:none\" points=\"\n",
       "  1406.02,671.979 1406.02,662.608 \n",
       "  \"/>\n",
       "<polyline clip-path=\"url(#clip1401)\" style=\"stroke:#000000; stroke-width:4; stroke-opacity:1; fill:none\" points=\"\n",
       "  1578.41,671.979 1578.41,662.608 \n",
       "  \"/>\n",
       "<polyline clip-path=\"url(#clip1401)\" style=\"stroke:#000000; stroke-width:4; stroke-opacity:1; fill:none\" points=\"\n",
       "  1750.81,671.979 1750.81,662.608 \n",
       "  \"/>\n",
       "<polyline clip-path=\"url(#clip1401)\" style=\"stroke:#000000; stroke-width:4; stroke-opacity:1; fill:none\" points=\"\n",
       "  1923.2,671.979 1923.2,662.608 \n",
       "  \"/>\n",
       "<polyline clip-path=\"url(#clip1401)\" style=\"stroke:#000000; stroke-width:4; stroke-opacity:1; fill:none\" points=\"\n",
       "  2095.6,671.979 2095.6,662.608 \n",
       "  \"/>\n",
       "<polyline clip-path=\"url(#clip1401)\" style=\"stroke:#000000; stroke-width:4; stroke-opacity:1; fill:none\" points=\"\n",
       "  2267.99,671.979 2267.99,662.608 \n",
       "  \"/>\n",
       "<polyline clip-path=\"url(#clip1401)\" style=\"stroke:#000000; stroke-width:4; stroke-opacity:1; fill:none\" points=\"\n",
       "  1352.75,671.979 1367.27,671.979 \n",
       "  \"/>\n",
       "<polyline clip-path=\"url(#clip1401)\" style=\"stroke:#000000; stroke-width:4; stroke-opacity:1; fill:none\" points=\"\n",
       "  1352.75,547.032 1367.27,547.032 \n",
       "  \"/>\n",
       "<polyline clip-path=\"url(#clip1401)\" style=\"stroke:#000000; stroke-width:4; stroke-opacity:1; fill:none\" points=\"\n",
       "  1352.75,422.085 1367.27,422.085 \n",
       "  \"/>\n",
       "<polyline clip-path=\"url(#clip1401)\" style=\"stroke:#000000; stroke-width:4; stroke-opacity:1; fill:none\" points=\"\n",
       "  1352.75,297.138 1367.27,297.138 \n",
       "  \"/>\n",
       "<polyline clip-path=\"url(#clip1401)\" style=\"stroke:#000000; stroke-width:4; stroke-opacity:1; fill:none\" points=\"\n",
       "  1352.75,172.191 1367.27,172.191 \n",
       "  \"/>\n",
       "<polyline clip-path=\"url(#clip1401)\" style=\"stroke:#000000; stroke-width:4; stroke-opacity:1; fill:none\" points=\"\n",
       "  1352.75,47.2441 1367.27,47.2441 \n",
       "  \"/>\n",
       "<g clip-path=\"url(#clip1401)\">\n",
       "<text style=\"fill:#000000; fill-opacity:1; font-family:Arial,Helvetica Neue,Helvetica,sans-serif; font-size:48px; text-anchor:middle;\" transform=\"rotate(0, 1406.02, 725.979)\" x=\"1406.02\" y=\"725.979\"></text>\n",
       "</g>\n",
       "<g clip-path=\"url(#clip1401)\">\n",
       "<text style=\"fill:#000000; fill-opacity:1; font-family:Arial,Helvetica Neue,Helvetica,sans-serif; font-size:48px; text-anchor:middle;\" transform=\"rotate(0, 1578.41, 725.979)\" x=\"1578.41\" y=\"725.979\"></text>\n",
       "</g>\n",
       "<g clip-path=\"url(#clip1401)\">\n",
       "<text style=\"fill:#000000; fill-opacity:1; font-family:Arial,Helvetica Neue,Helvetica,sans-serif; font-size:48px; text-anchor:middle;\" transform=\"rotate(0, 1750.81, 725.979)\" x=\"1750.81\" y=\"725.979\"></text>\n",
       "</g>\n",
       "<g clip-path=\"url(#clip1401)\">\n",
       "<text style=\"fill:#000000; fill-opacity:1; font-family:Arial,Helvetica Neue,Helvetica,sans-serif; font-size:48px; text-anchor:middle;\" transform=\"rotate(0, 1923.2, 725.979)\" x=\"1923.2\" y=\"725.979\"></text>\n",
       "</g>\n",
       "<g clip-path=\"url(#clip1401)\">\n",
       "<text style=\"fill:#000000; fill-opacity:1; font-family:Arial,Helvetica Neue,Helvetica,sans-serif; font-size:48px; text-anchor:middle;\" transform=\"rotate(0, 2095.6, 725.979)\" x=\"2095.6\" y=\"725.979\"></text>\n",
       "</g>\n",
       "<g clip-path=\"url(#clip1401)\">\n",
       "<text style=\"fill:#000000; fill-opacity:1; font-family:Arial,Helvetica Neue,Helvetica,sans-serif; font-size:48px; text-anchor:middle;\" transform=\"rotate(0, 2267.99, 725.979)\" x=\"2267.99\" y=\"725.979\"></text>\n",
       "</g>\n",
       "<g clip-path=\"url(#clip1401)\">\n",
       "<text style=\"fill:#000000; fill-opacity:1; font-family:Arial,Helvetica Neue,Helvetica,sans-serif; font-size:48px; text-anchor:end;\" transform=\"rotate(0, 1328.75, 689.479)\" x=\"1328.75\" y=\"689.479\"></text>\n",
       "</g>\n",
       "<g clip-path=\"url(#clip1401)\">\n",
       "<text style=\"fill:#000000; fill-opacity:1; font-family:Arial,Helvetica Neue,Helvetica,sans-serif; font-size:48px; text-anchor:end;\" transform=\"rotate(0, 1328.75, 564.532)\" x=\"1328.75\" y=\"564.532\"></text>\n",
       "</g>\n",
       "<g clip-path=\"url(#clip1401)\">\n",
       "<text style=\"fill:#000000; fill-opacity:1; font-family:Arial,Helvetica Neue,Helvetica,sans-serif; font-size:48px; text-anchor:end;\" transform=\"rotate(0, 1328.75, 439.585)\" x=\"1328.75\" y=\"439.585\"></text>\n",
       "</g>\n",
       "<g clip-path=\"url(#clip1401)\">\n",
       "<text style=\"fill:#000000; fill-opacity:1; font-family:Arial,Helvetica Neue,Helvetica,sans-serif; font-size:48px; text-anchor:end;\" transform=\"rotate(0, 1328.75, 314.638)\" x=\"1328.75\" y=\"314.638\"></text>\n",
       "</g>\n",
       "<g clip-path=\"url(#clip1401)\">\n",
       "<text style=\"fill:#000000; fill-opacity:1; font-family:Arial,Helvetica Neue,Helvetica,sans-serif; font-size:48px; text-anchor:end;\" transform=\"rotate(0, 1328.75, 189.691)\" x=\"1328.75\" y=\"189.691\"></text>\n",
       "</g>\n",
       "<g clip-path=\"url(#clip1401)\">\n",
       "<text style=\"fill:#000000; fill-opacity:1; font-family:Arial,Helvetica Neue,Helvetica,sans-serif; font-size:48px; text-anchor:end;\" transform=\"rotate(0, 1328.75, 64.7441)\" x=\"1328.75\" y=\"64.7441\"></text>\n",
       "</g>\n",
       "<g clip-path=\"url(#clip1404)\">\n",
       "<image width=\"862\" height=\"625\" xlink:href=\"data:image/png;base64,\n",
       "iVBORw0KGgoAAAANSUhEUgAAA14AAAJxCAYAAABSVWOlAAAOKElEQVR4nO3ZMWoVARSGUUceIuIO\n",
       "JJAtCC7AyiVIIHuwtU9nWiv7VFmCiI1bSJPKInuwiA8mnfVM8XHxcc4K/vJ+3OUZAMA/h3V6AWx3\n",
       "XKYXwFbPpwcAAACcOuEFAAAQE14AAAAx4QUAABATXgAAADHhBQAAEBNeAAAAMeEFAAAQE14AAAAx\n",
       "4QUAABATXgAAADHhBQAAEBNeAAAAMeEFAAAQE14AAAAx4QUAABATXgAAADHhBQAAEBNeAAAAMeEF\n",
       "AAAQE14AAAAx4QUAABATXgAAADHhBQAAEBNeAAAAMeEFAAAQE14AAAAx4QUAABATXgAAADHhBQAA\n",
       "EBNeAAAAMeEFAAAQE14AAAAx4QUAABATXgAAADHhBQAAEBNeAAAAMeEFAAAQE14AAAAx4QUAABAT\n",
       "XgAAADHhBQAAEBNeAAAAMeEFAAAQE14AAAAx4QUAABATXgAAADHhBQAAEBNeAAAAMeEFAAAQE14A\n",
       "AAAx4QUAABATXgAAADHhBQAAEBNeAAAAMeEFAAAQE14AAAAx4QUAABATXgAAADHhBQAAEBNeAAAA\n",
       "MeEFAAAQE14AAAAx4QUAABATXgAAADHhBQAAEBNeAAAAMeEFAAAQE14AAAAx4QUAABATXgAAADHh\n",
       "BQAAEBNeAAAAMeEFAAAQE14AAAAx4QUAABATXgAAADHhBQAAEBNeAAAAMeEFAAAQE14AAAAx4QUA\n",
       "ABATXgAAADHhBQAAEBNeAAAAMeEFAAAQE14AAAAx4QUAABATXgAAADHhBQAAEBNeAAAAMeEFAAAQ\n",
       "E14AAAAx4QUAABATXgAAADHhBQAAEBNeAAAAMeEFAAAQE14AAAAx4QUAABATXgAAADHhBQAAEBNe\n",
       "AAAAMeEFAAAQE14AAAAx4QUAABATXgAAADHhBQAAEBNeAAAAMeEFAAAQE14AAAAx4QUAABATXgAA\n",
       "ADHhBQAAEBNeAAAAMeEFAAAQE14AAAAx4QUAABATXgAAADHhBQAAEBNeAAAAMeEFAAAQE14AAAAx\n",
       "4QUAABA7TA+A/Q7r9ALY6tWLs+kJACfrz+Pv6QmwmY8XAABATHgBAADEhBcAAEBMeAEAAMSEFwAA\n",
       "QEx4AQAAxIQXAABATHgBAADEhBcAAEBMeAEAAMSEFwAAQEx4AQAAxIQXAABATHgBAADEhBcAAEBM\n",
       "eAEAAMSEFwAAQEx4AQAAxIQXAABATHgBAADEhBcAAEBMeAEAAMSEFwAAQEx4AQAAxIQXAABATHgB\n",
       "AADEhBcAAEBMeAEAAMSEFwAAQEx4AQAAxIQXAABATHgBAADEhBcAAEBMeAEAAMSEFwAAQEx4AQAA\n",
       "xIQXAABATHgBAADEhBcAAEBMeAEAAMSEFwAAQEx4AQAAxIQXAABATHgBAADEhBcAAEBMeAEAAMSE\n",
       "FwAAQEx4AQAAxIQXAABATHgBAADEhBcAAEBMeAEAAMSEFwAAQEx4AQAAxIQXAABATHgBAADEhBcA\n",
       "AEBMeAEAAMSEFwAAQEx4AQAAxIQXAABATHgBAADEhBcAAEBMeAEAAMSEFwAAQEx4AQAAxIQXAABA\n",
       "THgBAADEhBcAAEBMeAEAAMSEFwAAQEx4AQAAxIQXAABATHgBAADEhBcAAEBMeAEAAMSEFwAAQEx4\n",
       "AQAAxIQXAABATHgBAADEhBcAAEBMeAEAAMSEFwAAQEx4AQAAxIQXAABATHgBAADEhBcAAEBMeAEA\n",
       "AMSEFwAAQEx4AQAAxIQXAABATHgBAADEhBcAAEBMeAEAAMSEFwAAQEx4AQAAxIQXAABATHgBAADE\n",
       "hBcAAEBMeAEAAMSEFwAAQEx4AQAAxIQXAABATHgBAADEhBcAAEBMeAEAAMSEFwAAQEx4AQAAxIQX\n",
       "AABATHgBAADEhBcAAEBMeAEAAMSEFwAAQEx4AQAAxIQXAABATHgBAADEhBcAAEBMeAEAAMSEFwAA\n",
       "QEx4AQAAxIQXAABATHgBAADEhBcAAEBMeAEAAMQOb16/X6dHwB7X5+fTE2Czj1++T0+AXW4/f5ie\n",
       "AJtd3j24Y/lv+HgBAADEhBcAAEBMeAEAAMSEFwAAQEx4AQAAxIQXAABATHgBAADEhBcAAEBMeAEA\n",
       "AMSEFwAAQEx4AQAAxIQXAABATHgBAADEhBcAAEBMeAEAAMSEFwAAQEx4AQAAxIQXAABATHgBAADE\n",
       "hBcAAEBMeAEAAMSEFwAAQEx4AQAAxIQXAABATHgBAADEhBcAAEBMeAEAAMSEFwAAQEx4AQAAxIQX\n",
       "AABATHgBAADEhBcAAEBMeAEAAMSEFwAAQEx4AQAAxIQXAABATHgBAADEhBcAAEBMeAEAAMSEFwAA\n",
       "QEx4AQAAxIQXAABATHgBAADEhBcAAEBMeAEAAMSEFwAAQEx4AQAAxIQXAABATHgBAADEhBcAAEBM\n",
       "eAEAAMSEFwAAQEx4AQAAxIQXAABATHgBAADEhBcAAEBMeAEAAMSEFwAAQEx4AQAAxIQXAABATHgB\n",
       "AADEhBcAAEBMeAEAAMSEFwAAQEx4AQAAxIQXAABATHgBAADEhBcAAEBMeAEAAMSEFwAAQEx4AQAA\n",
       "xIQXAABATHgBAADEhBcAAEBMeAEAAMSEFwAAQEx4AQAAxIQXAABATHgBAADEhBcAAEBMeAEAAMSE\n",
       "FwAAQEx4AQAAxIQXAABATHgBAADEhBcAAEBMeAEAAMSEFwAAQEx4AQAAxIQXAABATHgBAADEhBcA\n",
       "AEBMeAEAAMSEFwAAQEx4AQAAxIQXAABATHgBAADEhBcAAEBMeAEAAMSEFwAAQEx4AQAAxIQXAABA\n",
       "THgBAADEhBcAAEBMeAEAAMSEFwAAQEx4AQAAxIQXAABATHgBAADEhBcAAEBMeAEAAMSEFwAAQEx4\n",
       "AQAAxIQXAABATHgBAADEhBcAAEBMeAEAAMSEFwAAQEx4AQAAxIQXAABATHgBAADEhBcAAEBMeAEA\n",
       "AMSEFwAAQGw5rjfr9AjY4/Hq0/QE2Oz+17vpCbDL2x8/pyfADsdlegFs5eMFAAAQE14AAAAx4QUA\n",
       "ABATXgAAADHhBQAAEBNeAAAAMeEFAAAQE14AAAAx4QUAABATXgAAADHhBQAAEBNeAAAAMeEFAAAQ\n",
       "E14AAAAx4QUAABATXgAAADHhBQAAEBNeAAAAMeEFAAAQE14AAAAx4QUAABATXgAAADHhBQAAEBNe\n",
       "AAAAMeEFAAAQE14AAAAx4QUAABATXgAAADHhBQAAEBNeAAAAMeEFAAAQE14AAAAx4QUAABATXgAA\n",
       "ADHhBQAAEBNeAAAAMeEFAAAQE14AAAAx4QUAABATXgAAADHhBQAAEBNeAAAAMeEFAAAQE14AAAAx\n",
       "4QUAABATXgAAADHhBQAAEBNeAAAAMeEFAAAQE14AAAAx4QUAABATXgAAADHhBQAAEBNeAAAAMeEF\n",
       "AAAQE14AAAAx4QUAABATXgAAADHhBQAAEBNeAAAAMeEFAAAQE14AAAAx4QUAABATXgAAADHhBQAA\n",
       "EBNeAAAAMeEFAAAQE14AAAAx4QUAABATXgAAADHhBQAAEBNeAAAAMeEFAAAQE14AAAAx4QUAABAT\n",
       "XgAAADHhBQAAEBNeAAAAMeEFAAAQE14AAAAx4QUAABATXgAAADHhBQAAEBNeAAAAMeEFAAAQE14A\n",
       "AAAx4QUAABATXgAAADHhBQAAEBNeAAAAMeEFAAAQE14AAAAx4QUAABATXgAAADHhBQAAEBNeAAAA\n",
       "MeEFAAAQE14AAAAx4QUAABATXgAAADHhBQAAEBNeAAAAMeEFAAAQE14AAAAx4QUAABATXgAAADHh\n",
       "BQAAEBNeAAAAMeEFAAAQE14AAAAx4QUAABATXgAAADHhBQAAEBNeAAAAMeEFAAAQE14AAAAx4QUA\n",
       "ABATXgAAADHhBQAAEBNeAAAAMeEFAAAQE14AAAAx4QUAABATXgAAALHl77eX6/QI2OP268X0BNjs\n",
       "8u5megLsdFymFwCcIh8vAACAmPACAACICS8AAICY8AIAAIgJLwAAgJjwAgAAiAkvAACAmPACAACI\n",
       "CS8AAICY8AIAAIgJLwAAgJjwAgAAiAkvAACAmPACAACICS8AAICY8AIAAIgJLwAAgJjwAgAAiAkv\n",
       "AACAmPACAACICS8AAICY8AIAAIgJLwAAgJjwAgAAiAkvAACAmPACAACICS8AAICY8AIAAIgJLwAA\n",
       "gJjwAgAAiAkvAACAmPACAACICS8AAICY8AIAAIgJLwAAgJjwAgAAiAkvAACAmPACAACICS8AAICY\n",
       "8AIAAIgJLwAAgJjwAgAAiAkvAACAmPACAACICS8AAICY8AIAAIgJLwAAgJjwAgAAiAkvAACAmPAC\n",
       "AACICS8AAICY8AIAAIgJLwAAgJjwAgAAiAkvAACAmPACAACICS8AAICY8AIAAIgJLwAAgJjwAgAA\n",
       "iAkvAACAmPACAACICS8AAICY8AIAAIgJLwAAgJjwAgAAiAkvAACAmPACAACICS8AAICY8AIAAIgJ\n",
       "LwAAgJjwAgAAiAkvAACAmPACAACICS8AAICY8AIAAIgJLwAAgJjwAgAAiAkvAACAmPACAACICS8A\n",
       "AICY8AIAAIgJLwAAgJjwAgAAiAkvAACAmPACAACICS8AAICY8AIAAIgJLwAAgJjwAgAAiAkvAACA\n",
       "mPACAACICS8AAICY8AIAAIgJLwAAgJjwAgAAiAkvAACAmPACAACICS8AAICY8AIAAIgJLwAAgJjw\n",
       "AgAAiAkvAACAmPACAACICS8AAICY8AIAAIgJLwAAgJjwAgAAiAkvAACAmPACAACICS8AAICY8AIA\n",
       "AIgJLwAAgJjwAgAAiAkvAACAmPACAACICS8AAICY8AIAAIgJLwAAgJjwAgAAiAkvAACAmPACAACI\n",
       "CS8AAICY8AIAAIg9AeWhJCSL1656AAAAAElFTkSuQmCC\n",
       "\" transform=\"translate(1406, 47)\"/>\n",
       "</g>\n",
       "<polygon clip-path=\"url(#clip1401)\" points=\"\n",
       "211.005,1440.48 1179.52,1440.48 1179.52,815.748 211.005,815.748 \n",
       "  \" fill=\"#ffffff\" fill-rule=\"evenodd\" fill-opacity=\"1\"/>\n",
       "<defs>\n",
       "  <clipPath id=\"clip1405\">\n",
       "    <rect x=\"211\" y=\"815\" width=\"970\" height=\"626\"/>\n",
       "  </clipPath>\n",
       "</defs>\n",
       "<polyline clip-path=\"url(#clip1401)\" style=\"stroke:#000000; stroke-width:4; stroke-opacity:0; fill:none\" points=\"\n",
       "  211.005,1440.48 1179.52,1440.48 \n",
       "  \"/>\n",
       "<polyline clip-path=\"url(#clip1401)\" style=\"stroke:#000000; stroke-width:4; stroke-opacity:0; fill:none\" points=\"\n",
       "  211.005,1440.48 211.005,815.748 \n",
       "  \"/>\n",
       "<polyline clip-path=\"url(#clip1401)\" style=\"stroke:#000000; stroke-width:4; stroke-opacity:1; fill:none\" points=\"\n",
       "  264.275,1440.48 264.275,1431.11 \n",
       "  \"/>\n",
       "<polyline clip-path=\"url(#clip1401)\" style=\"stroke:#000000; stroke-width:4; stroke-opacity:1; fill:none\" points=\"\n",
       "  455.825,1440.48 455.825,1431.11 \n",
       "  \"/>\n",
       "<polyline clip-path=\"url(#clip1401)\" style=\"stroke:#000000; stroke-width:4; stroke-opacity:1; fill:none\" points=\"\n",
       "  647.374,1440.48 647.374,1431.11 \n",
       "  \"/>\n",
       "<polyline clip-path=\"url(#clip1401)\" style=\"stroke:#000000; stroke-width:4; stroke-opacity:1; fill:none\" points=\"\n",
       "  838.924,1440.48 838.924,1431.11 \n",
       "  \"/>\n",
       "<polyline clip-path=\"url(#clip1401)\" style=\"stroke:#000000; stroke-width:4; stroke-opacity:1; fill:none\" points=\"\n",
       "  1030.47,1440.48 1030.47,1431.11 \n",
       "  \"/>\n",
       "<polyline clip-path=\"url(#clip1401)\" style=\"stroke:#000000; stroke-width:4; stroke-opacity:1; fill:none\" points=\"\n",
       "  211.005,1422.8 225.533,1422.8 \n",
       "  \"/>\n",
       "<polyline clip-path=\"url(#clip1401)\" style=\"stroke:#000000; stroke-width:4; stroke-opacity:1; fill:none\" points=\"\n",
       "  211.005,1275.73 225.533,1275.73 \n",
       "  \"/>\n",
       "<polyline clip-path=\"url(#clip1401)\" style=\"stroke:#000000; stroke-width:4; stroke-opacity:1; fill:none\" points=\"\n",
       "  211.005,1128.65 225.533,1128.65 \n",
       "  \"/>\n",
       "<polyline clip-path=\"url(#clip1401)\" style=\"stroke:#000000; stroke-width:4; stroke-opacity:1; fill:none\" points=\"\n",
       "  211.005,981.581 225.533,981.581 \n",
       "  \"/>\n",
       "<polyline clip-path=\"url(#clip1401)\" style=\"stroke:#000000; stroke-width:4; stroke-opacity:1; fill:none\" points=\"\n",
       "  211.005,834.508 225.533,834.508 \n",
       "  \"/>\n",
       "<g clip-path=\"url(#clip1401)\">\n",
       "<text style=\"fill:#000000; fill-opacity:1; font-family:Arial,Helvetica Neue,Helvetica,sans-serif; font-size:48px; text-anchor:middle;\" transform=\"rotate(0, 264.275, 1494.48)\" x=\"264.275\" y=\"1494.48\">6</text>\n",
       "</g>\n",
       "<g clip-path=\"url(#clip1401)\">\n",
       "<text style=\"fill:#000000; fill-opacity:1; font-family:Arial,Helvetica Neue,Helvetica,sans-serif; font-size:48px; text-anchor:middle;\" transform=\"rotate(0, 455.825, 1494.48)\" x=\"455.825\" y=\"1494.48\">8</text>\n",
       "</g>\n",
       "<g clip-path=\"url(#clip1401)\">\n",
       "<text style=\"fill:#000000; fill-opacity:1; font-family:Arial,Helvetica Neue,Helvetica,sans-serif; font-size:48px; text-anchor:middle;\" transform=\"rotate(0, 647.374, 1494.48)\" x=\"647.374\" y=\"1494.48\">10</text>\n",
       "</g>\n",
       "<g clip-path=\"url(#clip1401)\">\n",
       "<text style=\"fill:#000000; fill-opacity:1; font-family:Arial,Helvetica Neue,Helvetica,sans-serif; font-size:48px; text-anchor:middle;\" transform=\"rotate(0, 838.924, 1494.48)\" x=\"838.924\" y=\"1494.48\">12</text>\n",
       "</g>\n",
       "<g clip-path=\"url(#clip1401)\">\n",
       "<text style=\"fill:#000000; fill-opacity:1; font-family:Arial,Helvetica Neue,Helvetica,sans-serif; font-size:48px; text-anchor:middle;\" transform=\"rotate(0, 1030.47, 1494.48)\" x=\"1030.47\" y=\"1494.48\">14</text>\n",
       "</g>\n",
       "<g clip-path=\"url(#clip1401)\">\n",
       "<text style=\"fill:#000000; fill-opacity:1; font-family:Arial,Helvetica Neue,Helvetica,sans-serif; font-size:48px; text-anchor:end;\" transform=\"rotate(0, 187.005, 1440.3)\" x=\"187.005\" y=\"1440.3\">0</text>\n",
       "</g>\n",
       "<g clip-path=\"url(#clip1401)\">\n",
       "<text style=\"fill:#000000; fill-opacity:1; font-family:Arial,Helvetica Neue,Helvetica,sans-serif; font-size:48px; text-anchor:end;\" transform=\"rotate(0, 187.005, 1293.23)\" x=\"187.005\" y=\"1293.23\">1</text>\n",
       "</g>\n",
       "<g clip-path=\"url(#clip1401)\">\n",
       "<text style=\"fill:#000000; fill-opacity:1; font-family:Arial,Helvetica Neue,Helvetica,sans-serif; font-size:48px; text-anchor:end;\" transform=\"rotate(0, 187.005, 1146.15)\" x=\"187.005\" y=\"1146.15\">2</text>\n",
       "</g>\n",
       "<g clip-path=\"url(#clip1401)\">\n",
       "<text style=\"fill:#000000; fill-opacity:1; font-family:Arial,Helvetica Neue,Helvetica,sans-serif; font-size:48px; text-anchor:end;\" transform=\"rotate(0, 187.005, 999.081)\" x=\"187.005\" y=\"999.081\">3</text>\n",
       "</g>\n",
       "<g clip-path=\"url(#clip1401)\">\n",
       "<text style=\"fill:#000000; fill-opacity:1; font-family:Arial,Helvetica Neue,Helvetica,sans-serif; font-size:48px; text-anchor:end;\" transform=\"rotate(0, 187.005, 852.008)\" x=\"187.005\" y=\"852.008\">4</text>\n",
       "</g>\n",
       "<g clip-path=\"url(#clip1401)\">\n",
       "<text style=\"fill:#000000; fill-opacity:1; font-family:Arial,Helvetica Neue,Helvetica,sans-serif; font-size:66px; text-anchor:middle;\" transform=\"rotate(0, 695.262, 1590.4)\" x=\"695.262\" y=\"1590.4\">lnbdb</text>\n",
       "</g>\n",
       "<g clip-path=\"url(#clip1401)\">\n",
       "<text style=\"fill:#000000; fill-opacity:1; font-family:Arial,Helvetica Neue,Helvetica,sans-serif; font-size:66px; text-anchor:middle;\" transform=\"rotate(-90, 57.6, 1128.12)\" x=\"57.6\" y=\"1128.12\">lnduration</text>\n",
       "</g>\n",
       "<circle clip-path=\"url(#clip1405)\" style=\"fill:#fa9707; stroke:none; fill-opacity:0.4\" cx=\"341.124\" cy=\"1261.22\" r=\"14\"/>\n",
       "<circle clip-path=\"url(#clip1405)\" style=\"fill:#fa9707; stroke:none; fill-opacity:0.4\" cx=\"341.124\" cy=\"1422.8\" r=\"14\"/>\n",
       "<circle clip-path=\"url(#clip1405)\" style=\"fill:#fa9707; stroke:none; fill-opacity:0.4\" cx=\"342.077\" cy=\"1422.8\" r=\"14\"/>\n",
       "<circle clip-path=\"url(#clip1405)\" style=\"fill:#fa9707; stroke:none; fill-opacity:0.4\" cx=\"346.302\" cy=\"1218.91\" r=\"14\"/>\n",
       "<circle clip-path=\"url(#clip1405)\" style=\"fill:#fa9707; stroke:none; fill-opacity:0.4\" cx=\"346.302\" cy=\"1422.8\" r=\"14\"/>\n",
       "<circle clip-path=\"url(#clip1405)\" style=\"fill:#fa9707; stroke:none; fill-opacity:0.4\" cx=\"346.705\" cy=\"1159.28\" r=\"14\"/>\n",
       "<circle clip-path=\"url(#clip1405)\" style=\"fill:#fa9707; stroke:none; fill-opacity:0.4\" cx=\"349.28\" cy=\"1218.91\" r=\"14\"/>\n",
       "<circle clip-path=\"url(#clip1405)\" style=\"fill:#fa9707; stroke:none; fill-opacity:0.4\" cx=\"351.215\" cy=\"1422.8\" r=\"14\"/>\n",
       "<circle clip-path=\"url(#clip1405)\" style=\"fill:#fa9707; stroke:none; fill-opacity:0.4\" cx=\"351.215\" cy=\"1422.8\" r=\"14\"/>\n",
       "<circle clip-path=\"url(#clip1405)\" style=\"fill:#fa9707; stroke:none; fill-opacity:0.4\" cx=\"351.215\" cy=\"1422.8\" r=\"14\"/>\n",
       "<circle clip-path=\"url(#clip1405)\" style=\"fill:#fa9707; stroke:none; fill-opacity:0.4\" cx=\"360.343\" cy=\"1320.86\" r=\"14\"/>\n",
       "<circle clip-path=\"url(#clip1405)\" style=\"fill:#fa9707; stroke:none; fill-opacity:0.4\" cx=\"370.808\" cy=\"989.753\" r=\"14\"/>\n",
       "<circle clip-path=\"url(#clip1405)\" style=\"fill:#fa9707; stroke:none; fill-opacity:0.4\" cx=\"379.744\" cy=\"1136.61\" r=\"14\"/>\n",
       "<circle clip-path=\"url(#clip1405)\" style=\"fill:#fa9707; stroke:none; fill-opacity:0.4\" cx=\"383.441\" cy=\"1422.8\" r=\"14\"/>\n",
       "<circle clip-path=\"url(#clip1405)\" style=\"fill:#fa9707; stroke:none; fill-opacity:0.4\" cx=\"389.215\" cy=\"1218.91\" r=\"14\"/>\n",
       "<circle clip-path=\"url(#clip1405)\" style=\"fill:#fa9707; stroke:none; fill-opacity:0.4\" cx=\"389.664\" cy=\"1136.61\" r=\"14\"/>\n",
       "<circle clip-path=\"url(#clip1405)\" style=\"fill:#fa9707; stroke:none; fill-opacity:0.4\" cx=\"398.009\" cy=\"1422.8\" r=\"14\"/>\n",
       "<circle clip-path=\"url(#clip1405)\" style=\"fill:#fa9707; stroke:none; fill-opacity:0.4\" cx=\"404.812\" cy=\"1261.22\" r=\"14\"/>\n",
       "<circle clip-path=\"url(#clip1405)\" style=\"fill:#fa9707; stroke:none; fill-opacity:0.4\" cx=\"417.601\" cy=\"1422.8\" r=\"14\"/>\n",
       "<circle clip-path=\"url(#clip1405)\" style=\"fill:#fa9707; stroke:none; fill-opacity:0.4\" cx=\"417.601\" cy=\"1422.8\" r=\"14\"/>\n",
       "<circle clip-path=\"url(#clip1405)\" style=\"fill:#fa9707; stroke:none; fill-opacity:0.4\" cx=\"417.601\" cy=\"1218.91\" r=\"14\"/>\n",
       "<circle clip-path=\"url(#clip1405)\" style=\"fill:#fa9707; stroke:none; fill-opacity:0.4\" cx=\"422.046\" cy=\"1422.8\" r=\"14\"/>\n",
       "<circle clip-path=\"url(#clip1405)\" style=\"fill:#fa9707; stroke:none; fill-opacity:0.4\" cx=\"433.047\" cy=\"1320.86\" r=\"14\"/>\n",
       "<circle clip-path=\"url(#clip1405)\" style=\"fill:#fa9707; stroke:none; fill-opacity:0.4\" cx=\"438.973\" cy=\"1320.86\" r=\"14\"/>\n",
       "<circle clip-path=\"url(#clip1405)\" style=\"fill:#fa9707; stroke:none; fill-opacity:0.4\" cx=\"449.827\" cy=\"1320.86\" r=\"14\"/>\n",
       "<circle clip-path=\"url(#clip1405)\" style=\"fill:#fa9707; stroke:none; fill-opacity:0.4\" cx=\"455.922\" cy=\"1186.1\" r=\"14\"/>\n",
       "<circle clip-path=\"url(#clip1405)\" style=\"fill:#fa9707; stroke:none; fill-opacity:0.4\" cx=\"456.402\" cy=\"1186.1\" r=\"14\"/>\n",
       "<circle clip-path=\"url(#clip1405)\" style=\"fill:#fa9707; stroke:none; fill-opacity:0.4\" cx=\"456.434\" cy=\"1320.86\" r=\"14\"/>\n",
       "<circle clip-path=\"url(#clip1405)\" style=\"fill:#fa9707; stroke:none; fill-opacity:0.4\" cx=\"461.774\" cy=\"1034.67\" r=\"14\"/>\n",
       "<circle clip-path=\"url(#clip1405)\" style=\"fill:#fa9707; stroke:none; fill-opacity:0.4\" cx=\"464.717\" cy=\"961.654\" r=\"14\"/>\n",
       "<circle clip-path=\"url(#clip1405)\" style=\"fill:#fa9707; stroke:none; fill-opacity:0.4\" cx=\"464.981\" cy=\"1422.8\" r=\"14\"/>\n",
       "<circle clip-path=\"url(#clip1405)\" style=\"fill:#fa9707; stroke:none; fill-opacity:0.4\" cx=\"471.198\" cy=\"1261.22\" r=\"14\"/>\n",
       "<circle clip-path=\"url(#clip1405)\" style=\"fill:#fa9707; stroke:none; fill-opacity:0.4\" cx=\"480.252\" cy=\"1320.86\" r=\"14\"/>\n",
       "<circle clip-path=\"url(#clip1405)\" style=\"fill:#fa9707; stroke:none; fill-opacity:0.4\" cx=\"480.327\" cy=\"1116.97\" r=\"14\"/>\n",
       "<circle clip-path=\"url(#clip1405)\" style=\"fill:#fa9707; stroke:none; fill-opacity:0.4\" cx=\"482.976\" cy=\"1186.1\" r=\"14\"/>\n",
       "<circle clip-path=\"url(#clip1405)\" style=\"fill:#fa9707; stroke:none; fill-opacity:0.4\" cx=\"483.987\" cy=\"1320.86\" r=\"14\"/>\n",
       "<circle clip-path=\"url(#clip1405)\" style=\"fill:#fa9707; stroke:none; fill-opacity:0.4\" cx=\"483.987\" cy=\"1422.8\" r=\"14\"/>\n",
       "<circle clip-path=\"url(#clip1405)\" style=\"fill:#fa9707; stroke:none; fill-opacity:0.4\" cx=\"483.987\" cy=\"1422.8\" r=\"14\"/>\n",
       "<circle clip-path=\"url(#clip1405)\" style=\"fill:#fa9707; stroke:none; fill-opacity:0.4\" cx=\"483.987\" cy=\"1320.86\" r=\"14\"/>\n",
       "<circle clip-path=\"url(#clip1405)\" style=\"fill:#fa9707; stroke:none; fill-opacity:0.4\" cx=\"483.987\" cy=\"1422.8\" r=\"14\"/>\n",
       "<circle clip-path=\"url(#clip1405)\" style=\"fill:#fa9707; stroke:none; fill-opacity:0.4\" cx=\"486.352\" cy=\"1159.28\" r=\"14\"/>\n",
       "<circle clip-path=\"url(#clip1405)\" style=\"fill:#fa9707; stroke:none; fill-opacity:0.4\" cx=\"495.268\" cy=\"1099.65\" r=\"14\"/>\n",
       "<circle clip-path=\"url(#clip1405)\" style=\"fill:#fa9707; stroke:none; fill-opacity:0.4\" cx=\"495.268\" cy=\"1320.86\" r=\"14\"/>\n",
       "<circle clip-path=\"url(#clip1405)\" style=\"fill:#fa9707; stroke:none; fill-opacity:0.4\" cx=\"505.359\" cy=\"1422.8\" r=\"14\"/>\n",
       "<circle clip-path=\"url(#clip1405)\" style=\"fill:#fa9707; stroke:none; fill-opacity:0.4\" cx=\"505.359\" cy=\"1422.8\" r=\"14\"/>\n",
       "<circle clip-path=\"url(#clip1405)\" style=\"fill:#fa9707; stroke:none; fill-opacity:0.4\" cx=\"505.359\" cy=\"1320.86\" r=\"14\"/>\n",
       "<circle clip-path=\"url(#clip1405)\" style=\"fill:#fa9707; stroke:none; fill-opacity:0.4\" cx=\"514.487\" cy=\"1186.1\" r=\"14\"/>\n",
       "<circle clip-path=\"url(#clip1405)\" style=\"fill:#fa9707; stroke:none; fill-opacity:0.4\" cx=\"514.487\" cy=\"1422.8\" r=\"14\"/>\n",
       "<circle clip-path=\"url(#clip1405)\" style=\"fill:#fa9707; stroke:none; fill-opacity:0.4\" cx=\"519.574\" cy=\"1422.8\" r=\"14\"/>\n",
       "<circle clip-path=\"url(#clip1405)\" style=\"fill:#fa9707; stroke:none; fill-opacity:0.4\" cx=\"522.82\" cy=\"1116.97\" r=\"14\"/>\n",
       "<circle clip-path=\"url(#clip1405)\" style=\"fill:#fa9707; stroke:none; fill-opacity:0.4\" cx=\"532.007\" cy=\"1045.57\" r=\"14\"/>\n",
       "<circle clip-path=\"url(#clip1405)\" style=\"fill:#fa9707; stroke:none; fill-opacity:0.4\" cx=\"537.584\" cy=\"1422.8\" r=\"14\"/>\n",
       "<circle clip-path=\"url(#clip1405)\" style=\"fill:#fa9707; stroke:none; fill-opacity:0.4\" cx=\"556.179\" cy=\"1261.22\" r=\"14\"/>\n",
       "<circle clip-path=\"url(#clip1405)\" style=\"fill:#fa9707; stroke:none; fill-opacity:0.4\" cx=\"557.522\" cy=\"1261.22\" r=\"14\"/>\n",
       "<circle clip-path=\"url(#clip1405)\" style=\"fill:#fa9707; stroke:none; fill-opacity:0.4\" cx=\"559.501\" cy=\"1218.91\" r=\"14\"/>\n",
       "<circle clip-path=\"url(#clip1405)\" style=\"fill:#fa9707; stroke:none; fill-opacity:0.4\" cx=\"561.654\" cy=\"1099.65\" r=\"14\"/>\n",
       "<circle clip-path=\"url(#clip1405)\" style=\"fill:#fa9707; stroke:none; fill-opacity:0.4\" cx=\"562.184\" cy=\"1422.8\" r=\"14\"/>\n",
       "<circle clip-path=\"url(#clip1405)\" style=\"fill:#fa9707; stroke:none; fill-opacity:0.4\" cx=\"571.745\" cy=\"1320.86\" r=\"14\"/>\n",
       "<circle clip-path=\"url(#clip1405)\" style=\"fill:#fa9707; stroke:none; fill-opacity:0.4\" cx=\"573.923\" cy=\"1136.61\" r=\"14\"/>\n",
       "<circle clip-path=\"url(#clip1405)\" style=\"fill:#fa9707; stroke:none; fill-opacity:0.4\" cx=\"596.851\" cy=\"1084.15\" r=\"14\"/>\n",
       "<circle clip-path=\"url(#clip1405)\" style=\"fill:#fa9707; stroke:none; fill-opacity:0.4\" cx=\"596.873\" cy=\"1024.52\" r=\"14\"/>\n",
       "<circle clip-path=\"url(#clip1405)\" style=\"fill:#fa9707; stroke:none; fill-opacity:0.4\" cx=\"596.873\" cy=\"1422.8\" r=\"14\"/>\n",
       "<circle clip-path=\"url(#clip1405)\" style=\"fill:#fa9707; stroke:none; fill-opacity:0.4\" cx=\"613.409\" cy=\"1218.91\" r=\"14\"/>\n",
       "<circle clip-path=\"url(#clip1405)\" style=\"fill:#fa9707; stroke:none; fill-opacity:0.4\" cx=\"616.759\" cy=\"1015.03\" r=\"14\"/>\n",
       "<circle clip-path=\"url(#clip1405)\" style=\"fill:#fa9707; stroke:none; fill-opacity:0.4\" cx=\"621.004\" cy=\"1186.1\" r=\"14\"/>\n",
       "<circle clip-path=\"url(#clip1405)\" style=\"fill:#fa9707; stroke:none; fill-opacity:0.4\" cx=\"626.803\" cy=\"1186.1\" r=\"14\"/>\n",
       "<circle clip-path=\"url(#clip1405)\" style=\"fill:#fa9707; stroke:none; fill-opacity:0.4\" cx=\"632.586\" cy=\"1070.13\" r=\"14\"/>\n",
       "<circle clip-path=\"url(#clip1405)\" style=\"fill:#fa9707; stroke:none; fill-opacity:0.4\" cx=\"638.131\" cy=\"1084.15\" r=\"14\"/>\n",
       "<circle clip-path=\"url(#clip1405)\" style=\"fill:#fa9707; stroke:none; fill-opacity:0.4\" cx=\"638.131\" cy=\"1218.91\" r=\"14\"/>\n",
       "<circle clip-path=\"url(#clip1405)\" style=\"fill:#fa9707; stroke:none; fill-opacity:0.4\" cx=\"638.131\" cy=\"1422.8\" r=\"14\"/>\n",
       "<circle clip-path=\"url(#clip1405)\" style=\"fill:#fa9707; stroke:none; fill-opacity:0.4\" cx=\"652.959\" cy=\"1116.97\" r=\"14\"/>\n",
       "<circle clip-path=\"url(#clip1405)\" style=\"fill:#fa9707; stroke:none; fill-opacity:0.4\" cx=\"656.821\" cy=\"1034.67\" r=\"14\"/>\n",
       "<circle clip-path=\"url(#clip1405)\" style=\"fill:#fa9707; stroke:none; fill-opacity:0.4\" cx=\"657.176\" cy=\"955.394\" r=\"14\"/>\n",
       "<circle clip-path=\"url(#clip1405)\" style=\"fill:#fa9707; stroke:none; fill-opacity:0.4\" cx=\"658.652\" cy=\"887.809\" r=\"14\"/>\n",
       "<circle clip-path=\"url(#clip1405)\" style=\"fill:#fa9707; stroke:none; fill-opacity:0.4\" cx=\"663.258\" cy=\"1070.13\" r=\"14\"/>\n",
       "<circle clip-path=\"url(#clip1405)\" style=\"fill:#fa9707; stroke:none; fill-opacity:0.4\" cx=\"666.873\" cy=\"1116.97\" r=\"14\"/>\n",
       "<circle clip-path=\"url(#clip1405)\" style=\"fill:#fa9707; stroke:none; fill-opacity:0.4\" cx=\"676.853\" cy=\"1320.86\" r=\"14\"/>\n",
       "<circle clip-path=\"url(#clip1405)\" style=\"fill:#fa9707; stroke:none; fill-opacity:0.4\" cx=\"679.91\" cy=\"982.209\" r=\"14\"/>\n",
       "<circle clip-path=\"url(#clip1405)\" style=\"fill:#fa9707; stroke:none; fill-opacity:0.4\" cx=\"681.713\" cy=\"1261.22\" r=\"14\"/>\n",
       "<circle clip-path=\"url(#clip1405)\" style=\"fill:#fa9707; stroke:none; fill-opacity:0.4\" cx=\"683.486\" cy=\"1099.65\" r=\"14\"/>\n",
       "<circle clip-path=\"url(#clip1405)\" style=\"fill:#fa9707; stroke:none; fill-opacity:0.4\" cx=\"687.373\" cy=\"1218.91\" r=\"14\"/>\n",
       "<circle clip-path=\"url(#clip1405)\" style=\"fill:#fa9707; stroke:none; fill-opacity:0.4\" cx=\"687.604\" cy=\"955.394\" r=\"14\"/>\n",
       "<circle clip-path=\"url(#clip1405)\" style=\"fill:#fa9707; stroke:none; fill-opacity:0.4\" cx=\"691.176\" cy=\"922.576\" r=\"14\"/>\n",
       "<circle clip-path=\"url(#clip1405)\" style=\"fill:#fa9707; stroke:none; fill-opacity:0.4\" cx=\"693.14\" cy=\"989.753\" r=\"14\"/>\n",
       "<circle clip-path=\"url(#clip1405)\" style=\"fill:#fa9707; stroke:none; fill-opacity:0.4\" cx=\"699.604\" cy=\"1099.65\" r=\"14\"/>\n",
       "<circle clip-path=\"url(#clip1405)\" style=\"fill:#fa9707; stroke:none; fill-opacity:0.4\" cx=\"707.58\" cy=\"1186.1\" r=\"14\"/>\n",
       "<circle clip-path=\"url(#clip1405)\" style=\"fill:#fa9707; stroke:none; fill-opacity:0.4\" cx=\"716.856\" cy=\"1261.22\" r=\"14\"/>\n",
       "<circle clip-path=\"url(#clip1405)\" style=\"fill:#fa9707; stroke:none; fill-opacity:0.4\" cx=\"718.525\" cy=\"917.753\" r=\"14\"/>\n",
       "<circle clip-path=\"url(#clip1405)\" style=\"fill:#fa9707; stroke:none; fill-opacity:0.4\" cx=\"719.144\" cy=\"1218.91\" r=\"14\"/>\n",
       "<circle clip-path=\"url(#clip1405)\" style=\"fill:#fa9707; stroke:none; fill-opacity:0.4\" cx=\"725.888\" cy=\"1099.65\" r=\"14\"/>\n",
       "<circle clip-path=\"url(#clip1405)\" style=\"fill:#fa9707; stroke:none; fill-opacity:0.4\" cx=\"735.017\" cy=\"1045.57\" r=\"14\"/>\n",
       "<circle clip-path=\"url(#clip1405)\" style=\"fill:#fa9707; stroke:none; fill-opacity:0.4\" cx=\"735.017\" cy=\"1218.91\" r=\"14\"/>\n",
       "<circle clip-path=\"url(#clip1405)\" style=\"fill:#fa9707; stroke:none; fill-opacity:0.4\" cx=\"735.884\" cy=\"982.209\" r=\"14\"/>\n",
       "<circle clip-path=\"url(#clip1405)\" style=\"fill:#fa9707; stroke:none; fill-opacity:0.4\" cx=\"739.191\" cy=\"989.753\" r=\"14\"/>\n",
       "<circle clip-path=\"url(#clip1405)\" style=\"fill:#fa9707; stroke:none; fill-opacity:0.4\" cx=\"745.283\" cy=\"1422.8\" r=\"14\"/>\n",
       "<circle clip-path=\"url(#clip1405)\" style=\"fill:#fa9707; stroke:none; fill-opacity:0.4\" cx=\"753.561\" cy=\"1015.03\" r=\"14\"/>\n",
       "<circle clip-path=\"url(#clip1405)\" style=\"fill:#fa9707; stroke:none; fill-opacity:0.4\" cx=\"753.919\" cy=\"1422.8\" r=\"14\"/>\n",
       "<circle clip-path=\"url(#clip1405)\" style=\"fill:#fa9707; stroke:none; fill-opacity:0.4\" cx=\"760.349\" cy=\"908.558\" r=\"14\"/>\n",
       "<circle clip-path=\"url(#clip1405)\" style=\"fill:#fa9707; stroke:none; fill-opacity:0.4\" cx=\"764.721\" cy=\"1218.91\" r=\"14\"/>\n",
       "<circle clip-path=\"url(#clip1405)\" style=\"fill:#fa9707; stroke:none; fill-opacity:0.4\" cx=\"765.126\" cy=\"833.429\" r=\"14\"/>\n",
       "<circle clip-path=\"url(#clip1405)\" style=\"fill:#fa9707; stroke:none; fill-opacity:0.4\" cx=\"771.559\" cy=\"922.576\" r=\"14\"/>\n",
       "<circle clip-path=\"url(#clip1405)\" style=\"fill:#fa9707; stroke:none; fill-opacity:0.4\" cx=\"782.396\" cy=\"1057.34\" r=\"14\"/>\n",
       "<circle clip-path=\"url(#clip1405)\" style=\"fill:#fa9707; stroke:none; fill-opacity:0.4\" cx=\"784.418\" cy=\"975.033\" r=\"14\"/>\n",
       "<circle clip-path=\"url(#clip1405)\" style=\"fill:#fa9707; stroke:none; fill-opacity:0.4\" cx=\"799.601\" cy=\"1070.13\" r=\"14\"/>\n",
       "<circle clip-path=\"url(#clip1405)\" style=\"fill:#fa9707; stroke:none; fill-opacity:0.4\" cx=\"817.917\" cy=\"1015.03\" r=\"14\"/>\n",
       "<circle clip-path=\"url(#clip1405)\" style=\"fill:#fa9707; stroke:none; fill-opacity:0.4\" cx=\"827.198\" cy=\"975.033\" r=\"14\"/>\n",
       "<circle clip-path=\"url(#clip1405)\" style=\"fill:#fa9707; stroke:none; fill-opacity:0.4\" cx=\"827.861\" cy=\"1218.91\" r=\"14\"/>\n",
       "<circle clip-path=\"url(#clip1405)\" style=\"fill:#fa9707; stroke:none; fill-opacity:0.4\" cx=\"833.628\" cy=\"1218.91\" r=\"14\"/>\n",
       "<circle clip-path=\"url(#clip1405)\" style=\"fill:#fa9707; stroke:none; fill-opacity:0.4\" cx=\"845.652\" cy=\"1006.11\" r=\"14\"/>\n",
       "<circle clip-path=\"url(#clip1405)\" style=\"fill:#fa9707; stroke:none; fill-opacity:0.4\" cx=\"858.66\" cy=\"922.576\" r=\"14\"/>\n",
       "<circle clip-path=\"url(#clip1405)\" style=\"fill:#fa9707; stroke:none; fill-opacity:0.4\" cx=\"880.032\" cy=\"1099.65\" r=\"14\"/>\n",
       "<circle clip-path=\"url(#clip1405)\" style=\"fill:#fa9707; stroke:none; fill-opacity:0.4\" cx=\"956.585\" cy=\"961.654\" r=\"14\"/>\n",
       "<circle clip-path=\"url(#clip1405)\" style=\"fill:#fa9707; stroke:none; fill-opacity:0.4\" cx=\"1030.27\" cy=\"1218.91\" r=\"14\"/>\n",
       "<circle clip-path=\"url(#clip1405)\" style=\"fill:#fa9707; stroke:none; fill-opacity:0.4\" cx=\"1083.76\" cy=\"975.033\" r=\"14\"/>\n",
       "<polyline clip-path=\"url(#clip1405)\" style=\"stroke:#000000; stroke-width:4; stroke-opacity:1; fill:none\" points=\"\n",
       "  341.124,1330.74 1083.76,915.886 \n",
       "  \"/>\n",
       "<polygon clip-path=\"url(#clip1401)\" points=\"\n",
       "1352.75,1440.48 2321.26,1440.48 2321.26,815.748 1352.75,815.748 \n",
       "  \" fill=\"#ffffff\" fill-rule=\"evenodd\" fill-opacity=\"1\"/>\n",
       "<defs>\n",
       "  <clipPath id=\"clip1406\">\n",
       "    <rect x=\"1352\" y=\"815\" width=\"970\" height=\"626\"/>\n",
       "  </clipPath>\n",
       "</defs>\n",
       "<polyline clip-path=\"url(#clip1401)\" style=\"stroke:#000000; stroke-width:4; stroke-opacity:0; fill:none\" points=\"\n",
       "  1352.75,1440.48 2321.26,1440.48 \n",
       "  \"/>\n",
       "<polyline clip-path=\"url(#clip1401)\" style=\"stroke:#000000; stroke-width:4; stroke-opacity:0; fill:none\" points=\"\n",
       "  1352.75,1440.48 1352.75,815.748 \n",
       "  \"/>\n",
       "<polyline clip-path=\"url(#clip1401)\" style=\"stroke:#000000; stroke-width:4; stroke-opacity:1; fill:none\" points=\"\n",
       "  1406.02,1440.48 1406.02,1431.11 \n",
       "  \"/>\n",
       "<polyline clip-path=\"url(#clip1401)\" style=\"stroke:#000000; stroke-width:4; stroke-opacity:1; fill:none\" points=\"\n",
       "  1578.41,1440.48 1578.41,1431.11 \n",
       "  \"/>\n",
       "<polyline clip-path=\"url(#clip1401)\" style=\"stroke:#000000; stroke-width:4; stroke-opacity:1; fill:none\" points=\"\n",
       "  1750.81,1440.48 1750.81,1431.11 \n",
       "  \"/>\n",
       "<polyline clip-path=\"url(#clip1401)\" style=\"stroke:#000000; stroke-width:4; stroke-opacity:1; fill:none\" points=\"\n",
       "  1923.2,1440.48 1923.2,1431.11 \n",
       "  \"/>\n",
       "<polyline clip-path=\"url(#clip1401)\" style=\"stroke:#000000; stroke-width:4; stroke-opacity:1; fill:none\" points=\"\n",
       "  2095.6,1440.48 2095.6,1431.11 \n",
       "  \"/>\n",
       "<polyline clip-path=\"url(#clip1401)\" style=\"stroke:#000000; stroke-width:4; stroke-opacity:1; fill:none\" points=\"\n",
       "  2267.99,1440.48 2267.99,1431.11 \n",
       "  \"/>\n",
       "<polyline clip-path=\"url(#clip1401)\" style=\"stroke:#000000; stroke-width:4; stroke-opacity:1; fill:none\" points=\"\n",
       "  1352.75,1422.8 1367.27,1422.8 \n",
       "  \"/>\n",
       "<polyline clip-path=\"url(#clip1401)\" style=\"stroke:#000000; stroke-width:4; stroke-opacity:1; fill:none\" points=\"\n",
       "  1352.75,1263.51 1367.27,1263.51 \n",
       "  \"/>\n",
       "<polyline clip-path=\"url(#clip1401)\" style=\"stroke:#000000; stroke-width:4; stroke-opacity:1; fill:none\" points=\"\n",
       "  1352.75,1104.22 1367.27,1104.22 \n",
       "  \"/>\n",
       "<polyline clip-path=\"url(#clip1401)\" style=\"stroke:#000000; stroke-width:4; stroke-opacity:1; fill:none\" points=\"\n",
       "  1352.75,944.932 1367.27,944.932 \n",
       "  \"/>\n",
       "<g clip-path=\"url(#clip1401)\">\n",
       "<text style=\"fill:#000000; fill-opacity:1; font-family:Arial,Helvetica Neue,Helvetica,sans-serif; font-size:48px; text-anchor:middle;\" transform=\"rotate(0, 1406.02, 1494.48)\" x=\"1406.02\" y=\"1494.48\">0</text>\n",
       "</g>\n",
       "<g clip-path=\"url(#clip1401)\">\n",
       "<text style=\"fill:#000000; fill-opacity:1; font-family:Arial,Helvetica Neue,Helvetica,sans-serif; font-size:48px; text-anchor:middle;\" transform=\"rotate(0, 1578.41, 1494.48)\" x=\"1578.41\" y=\"1494.48\">1</text>\n",
       "</g>\n",
       "<g clip-path=\"url(#clip1401)\">\n",
       "<text style=\"fill:#000000; fill-opacity:1; font-family:Arial,Helvetica Neue,Helvetica,sans-serif; font-size:48px; text-anchor:middle;\" transform=\"rotate(0, 1750.81, 1494.48)\" x=\"1750.81\" y=\"1494.48\">2</text>\n",
       "</g>\n",
       "<g clip-path=\"url(#clip1401)\">\n",
       "<text style=\"fill:#000000; fill-opacity:1; font-family:Arial,Helvetica Neue,Helvetica,sans-serif; font-size:48px; text-anchor:middle;\" transform=\"rotate(0, 1923.2, 1494.48)\" x=\"1923.2\" y=\"1494.48\">3</text>\n",
       "</g>\n",
       "<g clip-path=\"url(#clip1401)\">\n",
       "<text style=\"fill:#000000; fill-opacity:1; font-family:Arial,Helvetica Neue,Helvetica,sans-serif; font-size:48px; text-anchor:middle;\" transform=\"rotate(0, 2095.6, 1494.48)\" x=\"2095.6\" y=\"1494.48\">4</text>\n",
       "</g>\n",
       "<g clip-path=\"url(#clip1401)\">\n",
       "<text style=\"fill:#000000; fill-opacity:1; font-family:Arial,Helvetica Neue,Helvetica,sans-serif; font-size:48px; text-anchor:middle;\" transform=\"rotate(0, 2267.99, 1494.48)\" x=\"2267.99\" y=\"1494.48\">5</text>\n",
       "</g>\n",
       "<g clip-path=\"url(#clip1401)\">\n",
       "<text style=\"fill:#000000; fill-opacity:1; font-family:Arial,Helvetica Neue,Helvetica,sans-serif; font-size:48px; text-anchor:end;\" transform=\"rotate(0, 1328.75, 1440.3)\" x=\"1328.75\" y=\"1440.3\"></text>\n",
       "</g>\n",
       "<g clip-path=\"url(#clip1401)\">\n",
       "<text style=\"fill:#000000; fill-opacity:1; font-family:Arial,Helvetica Neue,Helvetica,sans-serif; font-size:48px; text-anchor:end;\" transform=\"rotate(0, 1328.75, 1281.01)\" x=\"1328.75\" y=\"1281.01\"></text>\n",
       "</g>\n",
       "<g clip-path=\"url(#clip1401)\">\n",
       "<text style=\"fill:#000000; fill-opacity:1; font-family:Arial,Helvetica Neue,Helvetica,sans-serif; font-size:48px; text-anchor:end;\" transform=\"rotate(0, 1328.75, 1121.72)\" x=\"1328.75\" y=\"1121.72\"></text>\n",
       "</g>\n",
       "<g clip-path=\"url(#clip1401)\">\n",
       "<text style=\"fill:#000000; fill-opacity:1; font-family:Arial,Helvetica Neue,Helvetica,sans-serif; font-size:48px; text-anchor:end;\" transform=\"rotate(0, 1328.75, 962.432)\" x=\"1328.75\" y=\"962.432\"></text>\n",
       "</g>\n",
       "<g clip-path=\"url(#clip1401)\">\n",
       "<text style=\"fill:#000000; fill-opacity:1; font-family:Arial,Helvetica Neue,Helvetica,sans-serif; font-size:66px; text-anchor:middle;\" transform=\"rotate(0, 1837, 1590.4)\" x=\"1837\" y=\"1590.4\">lnduration</text>\n",
       "</g>\n",
       "<polygon clip-path=\"url(#clip1406)\" points=\"\n",
       "1406.02,833.429 1406.02,1422.8 1578.41,1422.8 1578.41,833.429 1406.02,833.429 1406.02,833.429 \n",
       "  \" fill=\"#000000\" fill-rule=\"evenodd\" fill-opacity=\"1\"/>\n",
       "<polyline clip-path=\"url(#clip1406)\" style=\"stroke:#000000; stroke-width:4; stroke-opacity:1; fill:none\" points=\"\n",
       "  1406.02,833.429 1406.02,1422.8 1578.41,1422.8 1578.41,833.429 1406.02,833.429 \n",
       "  \"/>\n",
       "<polygon clip-path=\"url(#clip1406)\" points=\"\n",
       "1578.41,897.145 1578.41,1422.8 1750.81,1422.8 1750.81,897.145 1578.41,897.145 1578.41,897.145 \n",
       "  \" fill=\"#000000\" fill-rule=\"evenodd\" fill-opacity=\"1\"/>\n",
       "<polyline clip-path=\"url(#clip1406)\" style=\"stroke:#000000; stroke-width:4; stroke-opacity:1; fill:none\" points=\"\n",
       "  1578.41,897.145 1578.41,1422.8 1750.81,1422.8 1750.81,897.145 1578.41,897.145 \n",
       "  \"/>\n",
       "<polygon clip-path=\"url(#clip1406)\" points=\"\n",
       "1750.81,944.932 1750.81,1422.8 1923.2,1422.8 1923.2,944.932 1750.81,944.932 1750.81,944.932 \n",
       "  \" fill=\"#000000\" fill-rule=\"evenodd\" fill-opacity=\"1\"/>\n",
       "<polyline clip-path=\"url(#clip1406)\" style=\"stroke:#000000; stroke-width:4; stroke-opacity:1; fill:none\" points=\"\n",
       "  1750.81,944.932 1750.81,1422.8 1923.2,1422.8 1923.2,944.932 1750.81,944.932 \n",
       "  \"/>\n",
       "<polygon clip-path=\"url(#clip1406)\" points=\"\n",
       "1923.2,1215.72 1923.2,1422.8 2095.6,1422.8 2095.6,1215.72 1923.2,1215.72 1923.2,1215.72 \n",
       "  \" fill=\"#000000\" fill-rule=\"evenodd\" fill-opacity=\"1\"/>\n",
       "<polyline clip-path=\"url(#clip1406)\" style=\"stroke:#000000; stroke-width:4; stroke-opacity:1; fill:none\" points=\"\n",
       "  1923.2,1215.72 1923.2,1422.8 2095.6,1422.8 2095.6,1215.72 1923.2,1215.72 \n",
       "  \"/>\n",
       "<polygon clip-path=\"url(#clip1406)\" points=\"\n",
       "2095.6,1406.87 2095.6,1422.8 2267.99,1422.8 2267.99,1406.87 2095.6,1406.87 2095.6,1406.87 \n",
       "  \" fill=\"#000000\" fill-rule=\"evenodd\" fill-opacity=\"1\"/>\n",
       "<polyline clip-path=\"url(#clip1406)\" style=\"stroke:#000000; stroke-width:4; stroke-opacity:1; fill:none\" points=\"\n",
       "  2095.6,1406.87 2095.6,1422.8 2267.99,1422.8 2267.99,1406.87 2095.6,1406.87 \n",
       "  \"/>\n",
       "</svg>\n"
      ]
     },
     "execution_count": 55,
     "metadata": {},
     "output_type": "execute_result"
    }
   ],
   "source": [
    "@df df2 corrplot([:lnbdb :lnduration], grid = false)"
   ]
  },
  {
   "cell_type": "code",
   "execution_count": null,
   "metadata": {},
   "outputs": [],
   "source": []
  }
 ],
 "metadata": {
  "kernelspec": {
   "display_name": "Julia 1.5.3",
   "language": "julia",
   "name": "julia-1.5"
  },
  "language_info": {
   "file_extension": ".jl",
   "mimetype": "application/julia",
   "name": "julia",
   "version": "1.5.3"
  }
 },
 "nbformat": 4,
 "nbformat_minor": 2
}
